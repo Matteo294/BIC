{
 "cells": [
  {
   "cell_type": "markdown",
   "metadata": {},
   "source": [
    "# Matteo Zortea, Alessandro Rizzi  \n",
    "## Brain Inspired Computing - Sheet 2  \n",
    "## Group G3A8  \n",
    "### Exercises solved  \n",
    "Ex 1: a) b) c)  \n",
    "Ex 2: a) b)  \n",
    "Ex 3: 1) 2) 3) 4)  \n",
    "Ex 4: a) b) c) d)\n"
   ]
  },
  {
   "cell_type": "markdown",
   "metadata": {},
   "source": [
    "# Exercise 1  \n",
    "The LIF model is described by a differential equation of the type\n",
    "\\begin{equation}\n",
    "    C_m \\, \\frac{du(t)}{dt} = g_L \\, \\left(E_L - u(t)\\right) + I_{ext}(t)\n",
    "\\end{equation}\n",
    "when the membrane potential is below the treshold value $u_{th}$.  \n",
    "If one then wants to take account of various effects such as inhibitory or excitatory pre-synaptic inputs, spike rate adaption or refractary periods, one can add more terms to equation (1), but the equation can always be recasted into one that is formally analogue to (1), as we will show in exercise 2. Hence we can solve equation (1) having in mind that more complex equations have the same solution, formally speaking.  \n",
    "It is convenient to work in the Laplace's domain. The differential equation becomes\n",
    "\\begin{equation*}\n",
    "    s \\tilde u(s) - u(0) = \\frac{E_L}{s\\tau} - \\frac{\\tilde u(s)}{\\tau} + \\frac{\\tilde I_{ext}(s)}{C_m}\n",
    "\\end{equation*}\n",
    "where we have defined $\\tau \\equiv C_m/g_L$. The last equation can be rearranged into\n",
    "\\begin{equation*}\n",
    "    \\tilde u(s) = \\frac{u(0)}{s+1/\\tau} + \\frac{E_L}{s \\tau (s+1/\\tau)} + \\frac{\\tilde I(s)}{C_m(s+1/\\tau)} = \\frac{u(0)}{s+1/\\tau} +  E_L \\left(\\frac{1}{s} - \\frac{1}{s + 1/\\tau} \\right)+ \\frac{\\tilde I(s)}{C_m(s+1/\\tau)}\n",
    "\\end{equation*}"
   ]
  },
  {
   "cell_type": "markdown",
   "metadata": {},
   "source": [
    "We can now proceed by antitransforming\n",
    "\\begin{equation}\n",
    "    u(t) = u_(t=0) e^{-t/\\tau} + E_L \\left(1 - e^{-t/\\tau}\\right) + \\mathcal{L}^{-1} \\left[\\frac{\\tilde I(s)}{C_m(s+1/\\tau)}\\right]\n",
    "\\end{equation}"
   ]
  },
  {
   "cell_type": "markdown",
   "metadata": {},
   "source": [
    "We have now two ways of solving the equation. One is to calculate the transform of the input current, pop it in the last formula and then antitransform the last term. The other one consists in using directly the time expression of the input current and make use of the convolution property of the Laplace transform $\\mathcal{L}^ (f \\star g) = \\mathcal{L}[f] \\cdot \\mathcal{L}[f]$ which yields\n",
    "\\begin{equation*}\n",
    "    u(t) = u_(t=0) \\, e^{-t/\\tau} + E_L \\left(1 - e^{-t/\\tau}\\right) + \\frac{1}{C_m} \\int_0^t I(t') \\, e^{-(t-t')/\\tau} \\, dt'\n",
    "\\end{equation*}"
   ]
  },
  {
   "cell_type": "markdown",
   "metadata": {},
   "source": [
    "### a)  \n",
    "We use the temporal expression of the current and we get directly\n",
    "\\begin{equation}\n",
    "    u(t) = u_(t=0) \\, e^{-t/\\tau} + E_L \\left(1 - e^{-t/\\tau}\\right) + \\frac{I_0}{g_L} e^{-(t-t_0)/\\tau}\n",
    "\\end{equation}"
   ]
  },
  {
   "cell_type": "markdown",
   "metadata": {},
   "source": [
    "### b)   \n",
    "\\begin{gather*}\n",
    "    u(t) = u_(t=0) \\, e^{-t/\\tau} + E_L \\left(1 - e^{-t/\\tau}\\right) + \\frac{I_0}{C_m} \\int_{0}^t I(t') \\, e^{-(t-t')/\\tau} \\ \\Theta(t'-t_0) \\, dt' = \\\\ \n",
    "    = u_(t=0) \\, e^{-t/\\tau} + E_L \\left(1 - e^{-t/\\tau}\\right) + \\frac{I_0}{C_m} \\Theta(t-t_0) \\ \\int_{t_0}^t I(t') \\, e^{-(t-t')/\\tau} \\, dt' = \\\\\n",
    "    = u_(t=0) \\, e^{-t/\\tau} + E_L \\left(1 - e^{-t/\\tau}\\right) + \\frac{I_0}{C_m} \\Theta(t-t_0) \\left(1 - e^{-(t-t_0)/\\tau}\\right)\n",
    "\\end{gather*}"
   ]
  },
  {
   "cell_type": "markdown",
   "metadata": {},
   "source": [
    "### c)  \n",
    "It is clear from the convolution term that the result is an exponentially growing term with constant $\\tau$ that gets counteracted by another exponential term with time constant $\\tau_s$. Indeed\n",
    "\\begin{gather*}\n",
    "    u(t) = u_(t=0) \\, e^{-t/\\tau} + E_L \\left(1 - e^{-t/\\tau}\\right) + \\frac{I_0}{\\tau_s g_L} \\Theta(t-t_0) \\int_{t_0}^t \\exp\\left(\\frac{t_0-t'}{\\tau_s} + \\frac{t'-t}{\\tau}\\right) \\, dt' = \\\\\n",
    "    = u_(t=0) \\, e^{-t/\\tau} + E_L \\left(1 - e^{-t/\\tau}\\right) + \\frac{I_0}{\\tau_s g_L} \\Theta(t-t_0) \\int_{t_0}^t \\exp\\left(t'(1/\\tau-1/\\tau_s\\right) \\, \\exp\\left(t_0/\\tau_s - t/\\tau\\right) \\, dt' = \\\\\n",
    "    = u_(t=0) \\, e^{-t/\\tau} + E_L \\left(1 - e^{-t/\\tau}\\right) + \\frac{I_0}{g_L} \\frac{\\tau}{\\tau_s - \\tau} \\, \\Theta(t-t_0) \\, \\left[\\exp\\left(-(t-t_0)/\\tau_s\\right) - \\exp\\left(-(t-t_0)/\\tau\\right)\\right]\n",
    "\\end{gather*}\n",
    "If $\\tau_s \\to +\\infty$ (i.e. the counterating terms never enters in action) we obtain result b).  \n",
    "The qualitative plots follow (arbitatry units)"
   ]
  },
  {
   "cell_type": "code",
   "execution_count": 11,
   "metadata": {},
   "outputs": [
    {
     "data": {
      "image/png": "[encoded data removed]",
      "text/plain": [
       "<Figure size 432x288 with 1 Axes>"
      ]
     },
     "metadata": {
      "needs_background": "light"
     },
     "output_type": "display_data"
    }
   ],
   "source": [
    "import numpy as np \n",
    "from matplotlib import pyplot as plt \n",
    "\n",
    "EL = 0\n",
    "u0 = EL\n",
    "tau = 1\n",
    "t0 = 2\n",
    "tau_s = 0.5\n",
    "tau_eff = tau_s*tau/(tau_s-tau)\n",
    "\n",
    "t = np.linspace(0,10,1000)\n",
    "\n",
    "def f0(t):\n",
    "    return u0*np.exp(-t/tau) + EL*(1-np.exp(-t/tau))\n",
    "\n",
    "def f1(t):\n",
    "    ret = []\n",
    "    for tt in t:\n",
    "        if tt < t0:\n",
    "            ret.append(f0(tt))\n",
    "        else:\n",
    "            ret.append(f0(tt) + np.exp(-(tt-t0)/tau))\n",
    "    return ret\n",
    "\n",
    "def f2(t):\n",
    "    ret = []\n",
    "    for tt in t:\n",
    "        if tt < t0:\n",
    "            ret.append(f0(tt))\n",
    "        else:\n",
    "            ret.append(f0(tt) + (1 - np.exp(-(tt-t0)/tau)))\n",
    "    return ret\n",
    "\n",
    "def f3(t):\n",
    "    ret = []\n",
    "    for tt in t:\n",
    "        if tt < t0:\n",
    "            ret.append(f0(tt))\n",
    "        else:\n",
    "            ret.append(f0(tt) + tau_s/(tau_s-tau) * (np.exp(-(tt-t0)/tau_s) - np.exp(-(tt-t0)/tau)))\n",
    "    return ret\n",
    "\n",
    "plt.plot(t, f0(t))\n",
    "plt.plot(t, f1(t), label=r'input $I_1(t)$')\n",
    "plt.plot(t, f2(t), label=r'input $I_2(t)$')\n",
    "plt.plot(t, f3(t), label=r'input $I_3(t)$')\n",
    "plt.xlabel('time', fontsize=14)\n",
    "plt.ylabel('voltage', fontsize=14)\n",
    "plt.legend()\n",
    "plt.show()"
   ]
  },
  {
   "cell_type": "markdown",
   "metadata": {},
   "source": [
    "## Additional note  \n",
    "If take again the differential equation, we define $u - E_L = v$ (hence $\\frac{dv}{dt} = \\frac{du}{dt}$) and we set $v(0) = 0$, the solution of the differential equation in the Laplace domain becomes\n",
    "$$ \\tilde v(s) = \\frac{1}{C_m \\tau} \\frac{\\tilde I(s)}{s + 1/\\tau} = \\frac{1/\\tau}{s+1/\\tau} \\frac{\\tilde I(s)}{C_m} \\equiv \\frac{\\omega_0}{s+\\omega_0} \\, \\tilde v_{in}(s)$$\n",
    "we get the transfer function $H(s) = \\frac{\\tilde v_{out}(s)}{\\tilde v_{in}(s)}$ of a low pass filter with cutoff frequency $\\omega_0 = \\frac{1}{\\tau}$"
   ]
  }
 ],
 "metadata": {
  "interpreter": {
   "hash": "916dbcbb3f70747c44a77c7bcd40155683ae19c65e1c03b4aa3499c5328201f1"
  },
  "kernelspec": {
   "display_name": "Python 3.8.10 64-bit",
   "language": "python",
   "name": "python3"
  },
  "language_info": {
   "codemirror_mode": {
    "name": "ipython",
    "version": 3
   },
   "file_extension": ".py",
   "mimetype": "text/x-python",
   "name": "python",
   "nbconvert_exporter": "python",
   "pygments_lexer": "ipython3",
   "version": "3.8.10"
  },
  "orig_nbformat": 4
 },
 "nbformat": 4,
 "nbformat_minor": 2
}
