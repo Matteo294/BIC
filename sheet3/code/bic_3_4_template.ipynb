{
 "cells": [
  {
   "cell_type": "code",
   "execution_count": 6,
   "id": "ce5a452d",
   "metadata": {},
   "outputs": [],
   "source": [
    "import nest\n",
    "import numpy as np\n",
    "import matplotlib.pyplot as plt\n",
    "%matplotlib inline\n",
    "from scipy import optimize"
   ]
  },
  {
   "cell_type": "code",
   "execution_count": 7,
   "id": "5c8c165b",
   "metadata": {},
   "outputs": [],
   "source": [
    "def run_network(vrest, cm, ereve, erevi, gl, tausyne, tausyni, wconde, wcondi):\n",
    "    nest.set_verbosity(\"M_ERROR\")\n",
    "    spkte = np.array([50., 100., 103., 106., 109., 112., 115., 118., 121., 124., 127.]) + 150.\n",
    "    spkti = spkte + 150.\n",
    "    \n",
    "    neuron = nest.Create('iaf_cond_exp', {'V_m': vrest, 'E_L': vrest, 'C_m': cm, 'E_ex': ereve, 'E_in': erevi, 'g_L': gl, 'tau_syn_ex': tausyne, 'tau_syn_in': tausyni, 'V_th':100.})\n",
    "    spikegeneratore = nest.Create('spike_generator')\n",
    "    nest.SetStatus(spikegeneratore, {'spike_times': spkte})\n",
    "    spikegeneratori = nest.Create('spike_generator')\n",
    "    nest.SetStatus(spikegeneratori, {'spike_times': spkti})\n",
    "\n",
    "    voltmeter = nest.Create('voltmeter', {'interval' :0.1})\n",
    "    nest.Connect(spikegeneratore, neuron, syn_spec={'weight': wconde})\n",
    "    nest.Connect(spikegeneratori, neuron, syn_spec={'weight': -wcondi})\n",
    "    nest.Connect(voltmeter, neuron)\n",
    "    nest.print_time = True\n",
    "\n",
    "    nest.Simulate(50.1)\n",
    "    nest.SetStatus(neuron, {'I_e': 0.2})\n",
    "    nest.Simulate(100.1)\n",
    "    nest.SetStatus(neuron, {'I_e': 0.})\n",
    "    nest.Simulate(350.1)\n",
    "\n",
    "    voltage = nest.GetStatus(voltmeter, 'events')[0]['V_m']\n",
    "\n",
    "    nest.ResetKernel()\n",
    "    return voltage"
   ]
  },
  {
   "cell_type": "code",
   "execution_count": 9,
   "id": "57588af5",
   "metadata": {},
   "outputs": [],
   "source": [
    "data = np.load('membrane_trace_3.4_fixed.npy')[1:]"
   ]
  },
  {
   "cell_type": "code",
   "execution_count": 10,
   "id": "8712107d",
   "metadata": {},
   "outputs": [],
   "source": [
    "def plot_comparison(v):\n",
    "    global data\n",
    "    plt.figure()\n",
    "    t = np.arange(0,len(v)*dt,dt)\n",
    "    plt.plot(t, v)\n",
    "    t = np.arange(0, len(data)*0.1, 0.1)\n",
    "    plt.plot(t, data)"
   ]
  },
  {
   "cell_type": "code",
   "execution_count": null,
   "id": "b26d7eb1",
   "metadata": {},
   "outputs": [],
   "source": [
    "#known neuron parameters\n",
    "cm = 1. # nF\n",
    "ereve = 20. # mV\n",
    "erevi = -80. # mV\n",
    "\n",
    "# unknown neuron paramters (random values insertet here)\n",
    "vrest = -50. # mV\n",
    "wconde = .0031416 # uS\n",
    "wcondi = .0031416 # uS\n",
    "gl = 0.042 # uS\n",
    "tausyne = 3.1416 # ms\n",
    "tausyni = 2*3.1416 # ms\n",
    "\n",
    "tsim = 500.\n",
    "dt = 0.1\n",
    "\n",
    "v = run_network(vrest, cm, ereve, erevi, gl, tausyne, tausyni, wconde, wcondi)\n",
    "\n",
    "plot_comparison(v)"
   ]
  },
  {
   "cell_type": "code",
   "execution_count": null,
   "id": "f25f4160",
   "metadata": {},
   "outputs": [],
   "source": []
  }
 ],
 "metadata": {
  "kernelspec": {
   "display_name": "EBRAINS_release_v0.1_202109",
   "language": "python",
   "name": "spack_python_kernel_release_20210930"
  },
  "language_info": {
   "codemirror_mode": {
    "name": "ipython",
    "version": 3
   },
   "file_extension": ".py",
   "mimetype": "text/x-python",
   "name": "python",
   "nbconvert_exporter": "python",
   "pygments_lexer": "ipython3",
   "version": "3.8.11"
  }
 },
 "nbformat": 4,
 "nbformat_minor": 5
}
