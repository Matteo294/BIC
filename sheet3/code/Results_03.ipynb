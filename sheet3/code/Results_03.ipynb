{
 "cells": [
  {
   "cell_type": "markdown",
   "metadata": {},
   "source": [
    "# Matteo Zortea, Alessandro Rizzi  \n",
    "## Brain Inspired Computing - Sheet 2  \n",
    "## Group G3A8  \n",
    "### Exercises solved  \n",
    "Ex 1: a) b) c)  \n",
    "Ex 2: a) b)  \n",
    "Ex 3: 1) 2) 3) 4)  \n",
    "Ex 4: a) b) c) d)\n"
   ]
  },
  {
   "cell_type": "markdown",
   "metadata": {},
   "source": [
    "# Exercise 1  \n",
    "The LIF model is described by a differential equation of the type\n",
    "\\begin{equation}\n",
    "    C_m \\, \\frac{du(t)}{dt} = g_L \\, \\left(E_L - u(t)\\right) + I_{ext}(t)\n",
    "\\end{equation}\n",
    "when the membrane potential is below the treshold value $u_{th}$.  \n",
    "If one then wants to take account of various effects such as inhibitory or excitatory pre-synaptic inputs, spike rate adaption or refractary periods, one can add more terms to equation (1), but the equation can always be recasted into one that is formally analogue to (1), as we will show in exercise 2. Hence we can solve equation (1) having in mind that more complex equations have the same solution, formally speaking.  \n",
    "It is convenient to work in the Laplace's domain. The differential equation becomes\n",
    "\\begin{equation*}\n",
    "    s \\tilde u(s) - u(0) = \\frac{E_L}{s\\tau} - \\frac{\\tilde u(s)}{\\tau} + \\frac{\\tilde I_{ext}(s)}{C_m}\n",
    "\\end{equation*}\n",
    "where we have defined $\\tau \\equiv C_m/g_L$. The last equation can be rearranged into\n",
    "\\begin{equation*}\n",
    "    \\tilde u(s) = \\frac{u(0)}{s+1/\\tau} + \\frac{E_L}{s \\tau (s+1/\\tau)} + \\frac{\\tilde I(s)}{C_m(s+1/\\tau)} = \\frac{u(0)}{s+1/\\tau} +  E_L \\left(\\frac{1}{s} - \\frac{1}{s + 1/\\tau} \\right)+ \\frac{\\tilde I(s)}{C_m(s+1/\\tau)}\n",
    "\\end{equation*}"
   ]
  },
  {
   "cell_type": "markdown",
   "metadata": {},
   "source": [
    "We can now proceed by antitransforming\n",
    "\\begin{equation}\n",
    "    u(t) = u_(t=0) e^{-t/\\tau} + E_L \\left(1 - e^{-t/\\tau}\\right) + \\mathcal{L}^{-1} \\left[\\frac{\\tilde I(s)}{C_m(s+1/\\tau)}\\right]\n",
    "\\end{equation}"
   ]
  },
  {
   "cell_type": "markdown",
   "metadata": {},
   "source": [
    "We have now two ways of solving the equation. One is to calculate the transform of the input current, pop it in the last formula and then antitransform the last term. The other one consists in using directly the time expression of the input current and make use of the convolution property of the Laplace transform $\\mathcal{L}^ (f \\star g) = \\mathcal{L}[f] \\cdot \\mathcal{L}[f]$ which yields\n",
    "\\begin{equation*}\n",
    "    u(t) = u_(t=0) \\, e^{-t/\\tau} + E_L \\left(1 - e^{-t/\\tau}\\right) + \\frac{1}{C_m} \\int_0^t I(t') \\, e^{-(t-t')/\\tau} \\, dt'\n",
    "\\end{equation*}"
   ]
  },
  {
   "cell_type": "markdown",
   "metadata": {},
   "source": [
    "### a)  \n",
    "We use the temporal expression of the current and we get directly\n",
    "\\begin{equation}\n",
    "    u(t) = u_(t=0) \\, e^{-t/\\tau} + E_L \\left(1 - e^{-t/\\tau}\\right) + \\frac{I_0}{g_L} e^{-(t-t_0)/\\tau}\n",
    "\\end{equation}"
   ]
  },
  {
   "cell_type": "markdown",
   "metadata": {},
   "source": [
    "### b)   \n",
    "\\begin{gather*}\n",
    "    u(t) = u_(t=0) \\, e^{-t/\\tau} + E_L \\left(1 - e^{-t/\\tau}\\right) + \\frac{I_0}{C_m} \\int_{0}^t I(t') \\, e^{-(t-t')/\\tau} \\ \\Theta(t'-t_0) \\, dt' = \\\\ \n",
    "    = u_(t=0) \\, e^{-t/\\tau} + E_L \\left(1 - e^{-t/\\tau}\\right) + \\frac{I_0}{C_m} \\Theta(t-t_0) \\ \\int_{t_0}^t I(t') \\, e^{-(t-t')/\\tau} \\, dt' = \\\\\n",
    "    = u_(t=0) \\, e^{-t/\\tau} + E_L \\left(1 - e^{-t/\\tau}\\right) + \\frac{I_0}{C_m} \\Theta(t-t_0) \\left(1 - e^{-(t-t_0)/\\tau}\\right)\n",
    "\\end{gather*}"
   ]
  },
  {
   "cell_type": "markdown",
   "metadata": {},
   "source": [
    "### c)  \n",
    "It is clear from the convolution term that the result is an exponentially growing term with constant $\\tau$ that gets counteracted by another exponential term with time constant $\\tau_s$. Indeed\n",
    "\\begin{gather*}\n",
    "    u(t) = u_(t=0) \\, e^{-t/\\tau} + E_L \\left(1 - e^{-t/\\tau}\\right) + \\frac{I_0}{\\tau_s g_L} \\Theta(t-t_0) \\int_{t_0}^t \\exp\\left(\\frac{t_0-t'}{\\tau_s} + \\frac{t'-t}{\\tau}\\right) \\, dt' = \\\\\n",
    "    = u_(t=0) \\, e^{-t/\\tau} + E_L \\left(1 - e^{-t/\\tau}\\right) + \\frac{I_0}{\\tau_s g_L} \\Theta(t-t_0) \\int_{t_0}^t \\exp\\left(t'(1/\\tau-1/\\tau_s)\\right) \\, \\exp\\left(t_0/\\tau_s - t/\\tau\\right) \\, dt' = \\\\\n",
    "    = u_(t=0) \\, e^{-t/\\tau} + E_L \\left(1 - e^{-t/\\tau}\\right) + \\frac{I_0}{g_L} \\frac{\\tau}{\\tau_s - \\tau} \\, \\Theta(t-t_0) \\, \\left[\\exp\\left(-(t-t_0)/\\tau_s\\right) - \\exp\\left(-(t-t_0)/\\tau\\right)\\right]\n",
    "\\end{gather*}\n",
    "If $\\tau_s \\to +\\infty$ (i.e. the counterating terms never enters in action) we obtain result b).  \n",
    "The qualitative plots follow (arbitatry units)"
   ]
  },
  {
   "cell_type": "code",
   "execution_count": 1,
   "metadata": {},
   "outputs": [
    {
     "data": {
      "image/png": "[encoded data removed]",
      "text/plain": [
       "<Figure size 432x288 with 1 Axes>"
      ]
     },
     "metadata": {
      "needs_background": "light"
     },
     "output_type": "display_data"
    }
   ],
   "source": [
    "import numpy as np \n",
    "from matplotlib import pyplot as plt \n",
    "\n",
    "EL = 0\n",
    "u0 = EL\n",
    "tau = 1\n",
    "t0 = 2\n",
    "tau_s = 0.5\n",
    "tau_eff = tau_s*tau/(tau_s-tau)\n",
    "\n",
    "t = np.linspace(0,10,1000)\n",
    "\n",
    "def f0(t):\n",
    "    return u0*np.exp(-t/tau) + EL*(1-np.exp(-t/tau))\n",
    "\n",
    "def f1(t):\n",
    "    ret = []\n",
    "    for tt in t:\n",
    "        if tt < t0:\n",
    "            ret.append(f0(tt))\n",
    "        else:\n",
    "            ret.append(f0(tt) + np.exp(-(tt-t0)/tau))\n",
    "    return ret\n",
    "\n",
    "def f2(t):\n",
    "    ret = []\n",
    "    for tt in t:\n",
    "        if tt < t0:\n",
    "            ret.append(f0(tt))\n",
    "        else:\n",
    "            ret.append(f0(tt) + (1 - np.exp(-(tt-t0)/tau)))\n",
    "    return ret\n",
    "\n",
    "def f3(t):\n",
    "    ret = []\n",
    "    for tt in t:\n",
    "        if tt < t0:\n",
    "            ret.append(f0(tt))\n",
    "        else:\n",
    "            ret.append(f0(tt) + tau_s/(tau_s-tau) * (np.exp(-(tt-t0)/tau_s) - np.exp(-(tt-t0)/tau)))\n",
    "    return ret\n",
    "\n",
    "plt.plot(t, f0(t))\n",
    "plt.plot(t, f1(t), label=r'input $I_1(t)$')\n",
    "plt.plot(t, f2(t), label=r'input $I_2(t)$')\n",
    "plt.plot(t, f3(t), label=r'input $I_3(t)$')\n",
    "plt.xlabel('time', fontsize=14)\n",
    "plt.ylabel('voltage', fontsize=14)\n",
    "plt.legend()\n",
    "plt.show()"
   ]
  },
  {
   "cell_type": "markdown",
   "metadata": {},
   "source": [
    "## Additional note  \n",
    "If we take again the differential equation, we define $u - E_L = v$ (hence $\\frac{dv}{dt} = \\frac{du}{dt}$) and we set $v(0) = 0$, the solution of the differential equation in the Laplace domain becomes\n",
    "$$ \\tilde v(s) = \\frac{1}{C_m \\tau} \\frac{\\tilde I(s)}{s + 1/\\tau} = \\frac{1/\\tau}{s+1/\\tau} \\frac{\\tilde I(s)}{C_m} \\equiv \\frac{\\omega_0}{s+\\omega_0} \\, \\tilde v_{in}(s)$$\n",
    "we get the transfer function $H(s) = \\frac{\\tilde v_{out}(s)}{\\tilde v_{in}(s)}$ of a low pass filter with cutoff frequency $\\omega_0 = \\frac{1}{\\tau}$. The transfer funciton has just one pole and lies in the left half plane, hence the system is stable, and indeed we saw in point a) that after a small perturbation, it returns to the equilibrium point."
   ]
  },
  {
   "cell_type": "markdown",
   "metadata": {},
   "source": [
    "# Exercise 2  \n",
    "### a)\n",
    "\\begin{equation*}\n",
    "    C_m \\dot u = g_L (E_L - u) + g_{exc} (E_{exc} - u) + g_{inh} (E_{inh} - u) + I_{ext}\n",
    "\\end{equation*}"
   ]
  },
  {
   "cell_type": "markdown",
   "metadata": {},
   "source": [
    "\\begin{equation*}\n",
    "    C_m \\dot u = g_L E_L + g_{exc} E_{exc} + g_{inh} E_{inh} + I_{ext} - \\left(g_L + g_{exc} + g_{inh}\\right) u\n",
    "\\end{equation*}\n",
    "which means\n",
    "\\begin{equation*}\n",
    "    \\dot u = \\frac{g_L + g_{exc} + g_{inh}}{C_m} \\ \\left(\\frac{g_L E_L + g_{exc} E_{exc} + g_{inh} E_{inh} + I_{ext}}{g_L + g_{exc} + g_{inh}} - u\\right) \\equiv \\frac{1}{\\tau_{eff}} \\left(U_{eff} - u\\right)\n",
    "\\end{equation*}\n",
    "where we have set \n",
    "\\begin{equation*}\n",
    "    \\tau_{eff} \\equiv \\frac{C_m}{g_L + g_{exc} + g_{inh}} \\qquad U_{eff} \\equiv \\frac{g_L E_L + g_{exc} E_{exc} + g_{inh} E_{inh} + I_{ext}}{g_L + g_{exc} + g_{inh}}\n",
    "\\end{equation*}"
   ]
  },
  {
   "cell_type": "markdown",
   "metadata": {},
   "source": [
    "### b)"
   ]
  },
  {
   "cell_type": "markdown",
   "metadata": {},
   "source": [
    "Each term of the type $\\frac{1}{\\tau} \\left(E - u\\right)$ that appears on the right hand side of the differential equation, has the effect of \"driving\" u towards $E$ with a typical time $\\tau$. When we sum up three terms of this type, as in the differential equation of the COBA LIF, we have that each of them drives $u$ towards a different voltage value (respectively $E_L, E_{exc}, E_{inh}$) with different time constants (respectively $\\tau, \\tau_{exc}, \\tau_{inh}$). The net effect is equivalent to just one term that drives $u$ towards $U_{eff} = \\frac{g_L E_L + g_{exc} E_{exc} + g_{inh} E_{inh} + I_{ext}}{g_L + g_{exc} + g_{inh}}$ with time constant $\\tau_{eff} = \\frac{C_m}{g_L + g_{exc} + g_{inh}}$.  \n",
    "Thus, this is not always the case, since the excitatory and inhibitory conductances depend on time and are proportional to functions of the type \n",
    "$$ K(t) = \\sum_{s} \\theta(t - \\Delta t_s) e^{(t - \\Delta t_s)/\\tau_i}$$\n",
    "This means that when we get and inhibitory or excitatory spikes, the corresponding conductances get \"activated\", but they exponentially decay to a zero value with a time constant $\\tau_{exc}, \\tau_{inh}$.  \n",
    "When excitatory inputs are given, $U_{eff} > E_L$, hence the system is driven towards a higher potential and results, eventually, in crossing the threshold (we actually need two consectutive spikes for this). Thus, if we give an inhibitory input before an excitatory one, we \"active\" the inihibitory conductance, hence the term that drives the potential to a lower value that $E_L$, and the net effect is that the system cannot reach the treshold value. This is both due to that $E_{inh}$ is low compared to $E_{th}$ but also because $\\tau_{exc}$ is not long enough compared to $\\tau_{inh}$, otherwise the exciting term would have \"survived\" also after the inhibitory one disappeared."
   ]
  },
  {
   "cell_type": "markdown",
   "metadata": {},
   "source": [
    "# Exercise 3\n",
    "\n",
    "## a)\n",
    "We start by loading the dataset and plotting them"
   ]
  },
  {
   "cell_type": "code",
   "execution_count": 2,
   "metadata": {},
   "outputs": [],
   "source": [
    "import numpy as np\n",
    "import matplotlib.pyplot as plt"
   ]
  },
  {
   "cell_type": "code",
   "execution_count": 3,
   "metadata": {},
   "outputs": [],
   "source": [
    "#loading the dataset\n",
    "weak = np.load('cobaSynapse_V_weak.npy')\n",
    "medium = np.load('cobaSynapse_V_medium.npy')\n",
    "strong = np.load('cobaSynapse_V_strong.npy')\n",
    "\n",
    "\n",
    "#creates a time arry for the sampling\n",
    "nu = 10**4  #Hz\n",
    "tmax = len(strong)/nu\n",
    "t = np.arange(0,tmax, 1/nu)\n",
    "\n",
    "#creates time array for the probe spikes\n",
    "ts = np.arange(0.02,tmax, 0.02)"
   ]
  },
  {
   "cell_type": "code",
   "execution_count": 4,
   "metadata": {},
   "outputs": [
    {
     "data": {
      "image/png": "[encoded data removed]",
      "text/plain": [
       "<Figure size 432x288 with 9 Axes>"
      ]
     },
     "metadata": {
      "needs_background": "light"
     },
     "output_type": "display_data"
    }
   ],
   "source": [
    "#plot of the noisy membrane potentials. Note that the y-axis has the same scale and limits for all the plots\n",
    "fig, (ax1, ax2, ax3) = plt.subplots(3, sharex=True)\n",
    "\n",
    "\n",
    "ax1.set(ylabel='$u_{w}(t)\\quad [mV]$',xlim=[0,2],ylim=[-73,-64])   \n",
    "ax1.plot(t,weak, label = 'weak') # plot of the analytical solution\n",
    "ax1R = ax1.twinx()\n",
    "ax1T = ax1.twiny()\n",
    "ax1T.set(xlim=[0,2])\n",
    "ax1.tick_params(direction='in')\n",
    "ax1T.tick_params(direction='in')\n",
    "ax1R.tick_params(direction='in')\n",
    "ax1R.yaxis.set_major_formatter(plt.NullFormatter())\n",
    "ax1T.xaxis.set_major_formatter(plt.NullFormatter())\n",
    "\n",
    "ax2.set(ylabel='$u_{m}(t)\\quad [mV]$',xlim=[0,2],ylim=[-73,-64])   \n",
    "ax2.plot(t,medium, label = 'weak') # plot of the analytical solution\n",
    "ax2R = ax2.twinx()\n",
    "ax2T = ax2.twiny()\n",
    "ax2T.set(xlim=[0,2])\n",
    "ax2.tick_params(direction='in')\n",
    "ax2T.tick_params(direction='in')\n",
    "ax2R.tick_params(direction='in')\n",
    "ax2R.yaxis.set_major_formatter(plt.NullFormatter())\n",
    "ax2T.xaxis.set_major_formatter(plt.NullFormatter())\n",
    "\n",
    "ax3.set(xlabel='$t \\quad [s]$',xlim=[0,2],ylim=[-73,-64])\n",
    "ax3.set(ylabel='$u_{s}(t)\\quad [mV]$')   \n",
    "ax3.plot(t,strong, label = 'weak') # plot of the analytical solution\n",
    "ax3R = ax3.twinx()\n",
    "ax3T = ax3.twiny()\n",
    "ax3T.set(xlim=[0,2])\n",
    "ax3.tick_params(direction='in')\n",
    "ax3T.tick_params(direction='in')\n",
    "ax3R.tick_params(direction='in')\n",
    "ax3R.yaxis.set_major_formatter(plt.NullFormatter())\n",
    "ax3T.xaxis.set_major_formatter(plt.NullFormatter())\n",
    "\n",
    "plt.subplots_adjust(wspace=0, hspace=0)\n",
    "plt.show()"
   ]
  },
  {
   "cell_type": "markdown",
   "metadata": {},
   "source": [
    "## b)\n",
    "We now average by time aligment on the spike train"
   ]
  },
  {
   "cell_type": "code",
   "execution_count": 5,
   "metadata": {},
   "outputs": [],
   "source": [
    "t = np.arange(0,0.02, 1/nu)\n",
    "N = int(len(weak)/len(t))\n",
    "\n",
    "mean_weak = np.zeros(len(t))\n",
    "mean_medium = np.zeros(len(t))\n",
    "mean_strong = np.zeros(len(t))\n",
    "\n",
    "for n in range(N):\n",
    "    mean_weak += weak[n:n+len(t)]\n",
    "    mean_medium += medium[n:n+len(t)]\n",
    "    mean_strong += strong[n:n+len(t)]"
   ]
  },
  {
   "cell_type": "markdown",
   "metadata": {},
   "source": [
    "## c) \n",
    "we now plot the averaged dataset. "
   ]
  },
  {
   "cell_type": "code",
   "execution_count": 6,
   "metadata": {},
   "outputs": [
    {
     "data": {
      "image/png": "[encoded data removed]",
      "text/plain": [
       "<Figure size 432x288 with 1 Axes>"
      ]
     },
     "metadata": {
      "needs_background": "light"
     },
     "output_type": "display_data"
    }
   ],
   "source": [
    "\n",
    "plt.plot(t, mean_weak, label= 'weak', linewidth= 1)\n",
    "plt.plot(t, mean_medium,label= 'medium',linewidth= 1)\n",
    "plt.plot(t, mean_strong,label= 'strong',linewidth= 1)\n",
    "plt.legend()\n",
    "plt.grid()\n",
    "plt.show()\n",
    "    \n",
    "    "
   ]
  },
  {
   "cell_type": "markdown",
   "metadata": {},
   "source": [
    "## d)\n",
    "We can note that the strong background is the most rapid in responding to the spike, and that the low one is the slowest. That means that the times constants decrease with the background activity. We can also note taht the aplitude of the strong is bigger, and that is the only one that starts to decrease after the response. The amplitude of the low-backgound neuron response is significantly smaller than the others two, that are comparable. "
   ]
  },
  {
   "cell_type": "code",
   "execution_count": null,
   "metadata": {},
   "outputs": [],
   "source": []
  },
  {
   "cell_type": "markdown",
   "metadata": {},
   "source": [
    "# Exercise 4"
   ]
  },
  {
   "cell_type": "markdown",
   "metadata": {},
   "source": [
    "## a)\n",
    "We start by simply running the given nest template without canging the parameters:"
   ]
  },
  {
   "cell_type": "code",
   "execution_count": 7,
   "metadata": {},
   "outputs": [
    {
     "ename": "ModuleNotFoundError",
     "evalue": "No module named 'nest'",
     "output_type": "error",
     "traceback": [
      "\u001b[0;31m---------------------------------------------------------------------------\u001b[0m",
      "\u001b[0;31mModuleNotFoundError\u001b[0m                       Traceback (most recent call last)",
      "\u001b[0;32m/tmp/ipykernel_13452/1949561511.py\u001b[0m in \u001b[0;36m<module>\u001b[0;34m\u001b[0m\n\u001b[0;32m----> 1\u001b[0;31m \u001b[0;32mimport\u001b[0m \u001b[0mnest\u001b[0m\u001b[0;34m\u001b[0m\u001b[0;34m\u001b[0m\u001b[0m\n\u001b[0m\u001b[1;32m      2\u001b[0m \u001b[0;32mimport\u001b[0m \u001b[0mnumpy\u001b[0m \u001b[0;32mas\u001b[0m \u001b[0mnp\u001b[0m\u001b[0;34m\u001b[0m\u001b[0;34m\u001b[0m\u001b[0m\n\u001b[1;32m      3\u001b[0m \u001b[0;32mimport\u001b[0m \u001b[0mmatplotlib\u001b[0m\u001b[0;34m.\u001b[0m\u001b[0mpyplot\u001b[0m \u001b[0;32mas\u001b[0m \u001b[0mplt\u001b[0m\u001b[0;34m\u001b[0m\u001b[0;34m\u001b[0m\u001b[0m\n\u001b[1;32m      4\u001b[0m \u001b[0mget_ipython\u001b[0m\u001b[0;34m(\u001b[0m\u001b[0;34m)\u001b[0m\u001b[0;34m.\u001b[0m\u001b[0mrun_line_magic\u001b[0m\u001b[0;34m(\u001b[0m\u001b[0;34m'matplotlib'\u001b[0m\u001b[0;34m,\u001b[0m \u001b[0;34m'inline'\u001b[0m\u001b[0;34m)\u001b[0m\u001b[0;34m\u001b[0m\u001b[0;34m\u001b[0m\u001b[0m\n\u001b[1;32m      5\u001b[0m \u001b[0;32mfrom\u001b[0m \u001b[0mscipy\u001b[0m \u001b[0;32mimport\u001b[0m \u001b[0moptimize\u001b[0m\u001b[0;34m\u001b[0m\u001b[0;34m\u001b[0m\u001b[0m\n",
      "\u001b[0;31mModuleNotFoundError\u001b[0m: No module named 'nest'"
     ]
    }
   ],
   "source": [
    "import nest\n",
    "import numpy as np\n",
    "import matplotlib.pyplot as plt\n",
    "%matplotlib inline\n",
    "from scipy import optimize"
   ]
  },
  {
   "cell_type": "code",
   "execution_count": null,
   "metadata": {},
   "outputs": [],
   "source": [
    "def run_network(vrest, cm, ereve, erevi, gl, tausyne, tausyni, wconde, wcondi):\n",
    "    nest.set_verbosity(\"M_ERROR\")\n",
    "    spkte = np.array([50., 100., 103., 106., 109., 112., 115., 118., 121., 124., 127.]) + 150.\n",
    "    spkti = spkte + 150.\n",
    "    \n",
    "    neuron = nest.Create('iaf_cond_exp', {'V_m': vrest, 'E_L': vrest, 'C_m': cm, 'E_ex': ereve, 'E_in': erevi, 'g_L': gl, 'tau_syn_ex': tausyne, 'tau_syn_in': tausyni, 'V_th':100.})\n",
    "    spikegeneratore = nest.Create('spike_generator')\n",
    "    nest.SetStatus(spikegeneratore, {'spike_times': spkte})\n",
    "    spikegeneratori = nest.Create('spike_generator')\n",
    "    nest.SetStatus(spikegeneratori, {'spike_times': spkti})\n",
    "\n",
    "    voltmeter = nest.Create('voltmeter', {'interval' :0.1})\n",
    "    nest.Connect(spikegeneratore, neuron, syn_spec={'weight': wconde})\n",
    "    nest.Connect(spikegeneratori, neuron, syn_spec={'weight': -wcondi})\n",
    "    nest.Connect(voltmeter, neuron)\n",
    "    nest.print_time = True\n",
    "\n",
    "    nest.Simulate(50.1)\n",
    "    nest.SetStatus(neuron, {'I_e': 0.2})\n",
    "    nest.Simulate(100.1)\n",
    "    nest.SetStatus(neuron, {'I_e': 0.})\n",
    "    nest.Simulate(350.1)\n",
    "\n",
    "    voltage = nest.GetStatus(voltmeter, 'events')[0]['V_m']\n",
    "\n",
    "    nest.ResetKernel()\n",
    "    return voltage"
   ]
  },
  {
   "cell_type": "code",
   "execution_count": null,
   "metadata": {},
   "outputs": [],
   "source": [
    "data = np.load('membrane_trace_3.4_fixed.npy')[1:]"
   ]
  },
  {
   "cell_type": "code",
   "execution_count": null,
   "metadata": {},
   "outputs": [],
   "source": [
    "def plot_comparison(v):\n",
    "    global data\n",
    "    plt.figure()\n",
    "    t = np.arange(0,len(v)*dt,dt)\n",
    "    plt.plot(t, v)\n",
    "    t = np.arange(0, len(data)*0.1, 0.1)\n",
    "    plt.plot(t, data)"
   ]
  },
  {
   "cell_type": "code",
   "execution_count": null,
   "metadata": {},
   "outputs": [],
   "source": [
    "#known neuron parameters\n",
    "cm = 1. # nF\n",
    "ereve = 20. # mV\n",
    "erevi = -80. # mV\n",
    "\n",
    "# unknown neuron paramters (random values insertet here)\n",
    "vrest = -50. # mV\n",
    "wconde = .0031416 # uS\n",
    "wcondi = .0031416 # uS\n",
    "gl = 0.042 # uS\n",
    "tausyne = 3.1416 # ms\n",
    "tausyni = 2*3.1416 # ms\n",
    "\n",
    "tsim = 500.\n",
    "dt = 0.1\n",
    "\n",
    "v = run_network(vrest, cm, ereve, erevi, gl, tausyne, tausyni, wconde, wcondi)\n",
    "\n",
    "plot_comparison(v)"
   ]
  },
  {
   "cell_type": "markdown",
   "metadata": {},
   "source": [
    "The most evident difference is the shift in the resting potential of about 20 mV. Then we can see that the amplitude of the displacemets around the resting potential is too large, and we should then increase $g_l$. We also note that the time constant for the exponential excitatory rise is too large, as well as the one for the exponential hinibitory decrease. We should then reduce $\\tau_\\text{eff}$ by increeasing the exciting and hinibitory conductance weights.  "
   ]
  },
  {
   "cell_type": "markdown",
   "metadata": {},
   "source": [
    "## b)\n",
    "We now try to change manually the parameters, following the observations made above:"
   ]
  },
  {
   "cell_type": "code",
   "execution_count": null,
   "metadata": {},
   "outputs": [],
   "source": [
    "#known neuron parameters\n",
    "cm = 1. # nF\n",
    "ereve = 20. # mV\n",
    "erevi = -80. # mV\n",
    "\n",
    "# unknown neuron paramters (random values insertet here)\n",
    "vrest = -70. # mV\n",
    "wconde = .0031416*1.8 # uS\n",
    "wcondi = .0031416*9.5 # uS\n",
    "gl = 0.042*2.5 # uS\n",
    "tausyne = 3.1416*0.6 # ms\n",
    "tausyni = 2*3.1416*1.4# ms\n",
    "\n",
    "tsim = 500.\n",
    "dt = 0.1\n",
    "\n",
    "v = run_network(vrest, cm, ereve, erevi, gl, tausyne, tausyni, wconde, wcondi)\n",
    "\n",
    "plot_comparison(v)"
   ]
  },
  {
   "cell_type": "markdown",
   "metadata": {},
   "source": [
    "We can note that by doing what observed in point a), and modifing in addition the rise and fall time constant, we obtain a far better agreement with the desired potential. "
   ]
  },
  {
   "cell_type": "markdown",
   "metadata": {},
   "source": [
    "## c)\n",
    "We now optimize the parameters automatically:"
   ]
  },
  {
   "cell_type": "code",
   "execution_count": null,
   "metadata": {},
   "outputs": [],
   "source": [
    "# compute the total squared difference between data and the simulated potential. Take as input the parameters to optimize. \n",
    "def distance(params):\n",
    "    vrest = params[0]\n",
    "    gl = params[1]\n",
    "    tausyne = params[2] \n",
    "    tausyni = params[3] \n",
    "    wconde = params[4] \n",
    "    wcondi = params[5]\n",
    "    return np.sum(np.power(data - run_network(vrest, cm, ereve, erevi, gl, abs(tausyne), abs(tausyni), wconde, wcondi), 2))"
   ]
  },
  {
   "cell_type": "code",
   "execution_count": null,
   "metadata": {},
   "outputs": [],
   "source": [
    "from scipy.optimize import minimize as fit\n",
    "\n",
    "\n",
    "res = fit(distance, np.array([vrest, gl, tausyne, tausyni, wconde, wcondi]))"
   ]
  },
  {
   "cell_type": "code",
   "execution_count": null,
   "metadata": {},
   "outputs": [],
   "source": [
    "print(\"The optimazed parameters are:\")\n",
    "print(\"Vrest =\", res.x[0], \"mV\")\n",
    "print(\"wconde =\", res.x[1], \"uS\")\n",
    "print(\"wcondi =\", res.x[2], \"uS\")\n",
    "print(\"gl =\", res.x[3], \"uS\")\n",
    "print(\"tausyne =\", res.x[4], \"ms\")\n",
    "print(\"tausyni =\", res.x[5], \"ms\")"
   ]
  },
  {
   "cell_type": "markdown",
   "metadata": {},
   "source": [
    "## d)\n",
    "We plot the simulation with the optimized parameters and the given one."
   ]
  },
  {
   "cell_type": "code",
   "execution_count": null,
   "metadata": {},
   "outputs": [],
   "source": [
    "plot_comparison(run_network(res.x[0], cm, ereve, erevi, res.x[1], res.x[2], res.x[3], res.x[4], res.x[5]))"
   ]
  },
  {
   "cell_type": "markdown",
   "metadata": {},
   "source": [
    "The two curves are almost indistiguishable. We then plot the normalized difference in percentage:"
   ]
  },
  {
   "cell_type": "code",
   "execution_count": null,
   "metadata": {},
   "outputs": [],
   "source": [
    "plt.plot(np.arange(0,len(v)*dt,dt), 100*(run_network(res.x[0], cm, ereve, erevi, res.x[1], res.x[2], res.x[3], res.x[4], res.x[5])-data)/data)\n",
    "plt.xlabel(\"t \", fontsize=16)\n",
    "plt.ylabel(r\"$\\epsilon$\", fontsize=16)\n",
    "plt.show"
   ]
  },
  {
   "cell_type": "code",
   "execution_count": null,
   "metadata": {},
   "outputs": [],
   "source": []
  }
 ],
 "metadata": {
  "interpreter": {
   "hash": "916dbcbb3f70747c44a77c7bcd40155683ae19c65e1c03b4aa3499c5328201f1"
  },
  "kernelspec": {
   "display_name": "Python 3 (ipykernel)",
   "language": "python",
   "name": "python3"
  },
  "language_info": {
   "codemirror_mode": {
    "name": "ipython",
    "version": 3
   },
   "file_extension": ".py",
   "mimetype": "text/x-python",
   "name": "python",
   "nbconvert_exporter": "python",
   "pygments_lexer": "ipython3",
   "version": "3.8.10"
  }
 },
 "nbformat": 4,
 "nbformat_minor": 4
}
