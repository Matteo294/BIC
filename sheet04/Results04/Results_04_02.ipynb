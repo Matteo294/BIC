{
 "cells": [
  {
   "cell_type": "markdown",
   "id": "fb7d06ea",
   "metadata": {},
   "source": [
    "# Exercise 2\n",
    "## Alessandro Rizzi, Marvin Wolf & Matteo Zortea: Group G3-A8\n",
    "### Task solved:\n",
    "Ex 2 a) b) c) d)"
   ]
  },
  {
   "cell_type": "markdown",
   "id": "ee273145",
   "metadata": {},
   "source": [
    "### (a)\n",
    "We correct the backpropagate function:"
   ]
  },
  {
   "cell_type": "code",
   "execution_count": 124,
   "id": "21b893f1",
   "metadata": {},
   "outputs": [],
   "source": [
    "import numpy as np\n",
    "import matplotlib.pyplot as plt\n",
    "%matplotlib inline\n",
    "from scipy.special import expit\n",
    "from scipy.misc import derivative\n"
   ]
  },
  {
   "cell_type": "code",
   "execution_count": 125,
   "id": "b2a93cea",
   "metadata": {},
   "outputs": [],
   "source": [
    "def propagate(X, V, W, b):\n",
    "    if isinstance(X, (int, float)):\n",
    "        X = np.array([X])\n",
    "    U1 = np.einsum(\"ij,j->i\", V, X) + b\n",
    "    Z = f_act(U1)\n",
    "    U2 = np.einsum(\"ij,j->i\", W, Z)\n",
    "    Y = U2\n",
    "    return Y, Z, U1, U2\n",
    "\n",
    "def backpropagate(X, YT, V, W, b):\n",
    "    Y, Z, U1, U2 = propagate(X, V, W, b)\n",
    "    # output layer\n",
    "    ##########################################\n",
    "    delta3 = -(Y - YT) # error layer 3\n",
    "    delta2 = np.einsum(\"ij,i->j\", W, delta3) * f_act_prime(U1) # error layer 2\n",
    "    dW = np.einsum(\"i,j->ij\", delta3, Z)\n",
    "    dV = np.einsum(\"i,j->ij\", delta2, X)\n",
    "    db = delta2              \n",
    "    ##########################################\n",
    "    return db, dV, dW, Cost(Y,YT)\n",
    "\n",
    "relu = lambda v: np.maximum(v, 0.0)\n",
    "relu_prime = lambda v: np.where(v>0.0, np.ones_like(v), np.zeros_like(v))\n",
    "f_act = relu\n",
    "f_act_prime = relu_prime\n",
    "\n",
    "Cost = lambda Y, YT: 1./2. * np.mean((Y - YT)**2)"
   ]
  },
  {
   "cell_type": "code",
   "execution_count": 126,
   "id": "94650ea8",
   "metadata": {},
   "outputs": [],
   "source": [
    "def train(X, YT, V, W, b, niter=10000, base_lr=0.2):\n",
    "    \"\"\"\n",
    "    data                             X\n",
    "    target values                    YT\n",
    "    input->hidden weights            V\n",
    "    hidden->output weights           W\n",
    "    hidden biases                    b\n",
    "    number of training iterations    niter\n",
    "    learning rate                    base_lr\n",
    "    \"\"\"\n",
    "    SEED = 734589\n",
    "    np.random.seed(SEED)\n",
    "\n",
    "    K = len(b)\n",
    "    eta = base_lr / K\n",
    "    mu = 0.5\n",
    "    T = np.random.randint(0, len(X), niter)\n",
    "\n",
    "    cost = np.zeros(len(T))\n",
    "    # prepare momentum term variables\n",
    "    delta_W = np.zeros((1, K))\n",
    "    delta_b = np.zeros(K)\n",
    "    delta_V = np.zeros((K, 1))\n",
    "\n",
    "    for run, inp in enumerate(T):\n",
    "        if isinstance(X[inp], (int, float)):\n",
    "            db, dV, dW, cost[run] = backpropagate([X[inp]], YT[inp], V, W, b)\n",
    "        else:\n",
    "            db, dV, dW, cost[run] = backpropagate(X[inp], YT[inp], V, W, b)\n",
    "        # calculate weight update with momentum\n",
    "        # instead of applying the gradients directly\n",
    "        # this applies a low-pass filtered version\n",
    "        # which smooths out the updates and helps\n",
    "        # stabilise the training\n",
    "        # https://en.wikipedia.org/wiki/Stochastic_gradient_descent#Momentum\n",
    "        delta_b = (1.-mu) * db + mu * delta_b\n",
    "        delta_V = (1.-mu) * dV + mu * delta_V\n",
    "        delta_W = (1.-mu) * dW + mu * delta_W\n",
    "        # update weights\n",
    "        b += eta * delta_b\n",
    "        V += eta * delta_V\n",
    "        W += eta * delta_W\n",
    "    \n",
    "    return V, W, b, cost"
   ]
  },
  {
   "cell_type": "markdown",
   "id": "d2d5ef82",
   "metadata": {},
   "source": [
    "We now see if the parameters change and plot the cost:"
   ]
  },
  {
   "cell_type": "code",
   "execution_count": 127,
   "id": "9734749a",
   "metadata": {},
   "outputs": [
    {
     "name": "stdout",
     "output_type": "stream",
     "text": [
      "Parameters:\n",
      "V: [[1. 0.]\n",
      " [1. 1.]\n",
      " [0. 1.]]\n",
      "W: [[ 1. -2.  1.]]\n",
      "b: [ 0. -1.  0.]\n",
      "\n",
      "\n",
      "\n",
      "Variation in the parameters:\n",
      "DeltaV: [[0. 0.]\n",
      " [0. 0.]\n",
      " [0. 0.]]\n",
      "DeltaW: [[0. 0. 0.]]\n",
      "Deltab: [0. 0. 0.]\n",
      "\n",
      "\n",
      "\n",
      "Average cost last 50 steps: 0.0\n"
     ]
    }
   ],
   "source": [
    "data = np.load(\"resources/xor_data.npz\")\n",
    "X = data['inp']\n",
    "YT = data['out']\n",
    "\n",
    "V = np.array([[1.0, 0.0], [1.0, 1.0], [0.0, 1.0]])\n",
    "W = np.array([[1.0, -2.0, 1.0]])\n",
    "b = np.array([0.0, -1.0, 0.0])\n",
    "K = 3 # number of hidden neurons\n",
    "\n",
    "# Coopy array values for comparison at the end\n",
    "V0 = np.copy(V)\n",
    "W0 = np.copy(W)\n",
    "b0 = np.copy(b)\n",
    "\n",
    "# Training\n",
    "V, W, b, cost = train(X, YT, V, W, b, niter=10000)\n",
    "\n",
    "# Compare parameters\n",
    "print(\"Parameters:\")\n",
    "print(\"V:\", V)\n",
    "print(\"W:\", W)\n",
    "print(\"b:\", b)\n",
    "print(\"\\n\\n\")\n",
    "print(\"Variation in the parameters:\")\n",
    "print(\"DeltaV:\", np.abs(V-V0))\n",
    "print(\"DeltaW:\", np.abs(W-W0))\n",
    "print(\"Deltab:\", np.abs(b-b0))\n",
    "print(\"\\n\\n\")\n",
    "print(\"Average cost last 50 steps:\", np.average(cost[-50:]))"
   ]
  },
  {
   "cell_type": "code",
   "execution_count": 128,
   "id": "ac8adc0b",
   "metadata": {},
   "outputs": [
    {
     "data": {
      "image/png": "[encoded data removed]",
      "text/plain": [
       "<Figure size 432x288 with 1 Axes>"
      ]
     },
     "metadata": {
      "needs_background": "light"
     },
     "output_type": "display_data"
    }
   ],
   "source": [
    "plt.plot(range(len(cost)), cost)\n",
    "plt.xlabel('# itertion')\n",
    "plt.ylabel('cost')\n",
    "plt.show()"
   ]
  },
  {
   "cell_type": "markdown",
   "id": "30681b3c",
   "metadata": {},
   "source": [
    "### (b)"
   ]
  },
  {
   "cell_type": "markdown",
   "id": "ba339694",
   "metadata": {},
   "source": [
    "Let us now vary one parameter"
   ]
  },
  {
   "cell_type": "code",
   "execution_count": 129,
   "id": "eef6e30c",
   "metadata": {},
   "outputs": [],
   "source": [
    "V = np.array([[1.0, 0.0], [1.0, 1.0], [0.0, 1.0]])\n",
    "W = np.array([[1.0, -2.0, 1.0]])\n",
    "b = np.array([0.0, -1.0, 0.0])\n",
    "\n",
    "#change of the first wheight W_1 \n",
    "W[0,0] = 4"
   ]
  },
  {
   "cell_type": "code",
   "execution_count": 130,
   "id": "a4617c6c",
   "metadata": {},
   "outputs": [],
   "source": [
    "V, W, b, cost = train(X, YT, V, W, b, niter=100000, base_lr=0.2)"
   ]
  },
  {
   "cell_type": "code",
   "execution_count": 131,
   "id": "c4331b4b",
   "metadata": {},
   "outputs": [
    {
     "name": "stdout",
     "output_type": "stream",
     "text": [
      "Parameters:\n",
      "V: [[0.2572     0.        ]\n",
      " [1.00398639 1.00398639]\n",
      " [0.8505479  0.8505479 ]]\n",
      "W: [[ 3.80293333 -1.99205888  1.17571273]]\n",
      "b: [-7.42800000e-01 -1.00398639e+00  6.07398696e-16]\n",
      "\n",
      "\n",
      "\n",
      "Variation in the parameters:\n",
      "DeltaV: [[0.7428     0.        ]\n",
      " [0.00398639 0.00398639]\n",
      " [0.8505479  0.1494521 ]]\n",
      "DeltaW: [[2.80293333 0.00794112 0.17571273]]\n",
      "Deltab: [7.42800000e-01 3.98639059e-03 6.07398696e-16]\n",
      "\n",
      "\n",
      "\n",
      "Average cost last 50 steps: 1.0849597234784045e-31\n"
     ]
    }
   ],
   "source": [
    "print(\"Parameters:\")\n",
    "print(\"V:\", V)\n",
    "print(\"W:\", W)\n",
    "print(\"b:\", b)\n",
    "print(\"\\n\\n\")\n",
    "print(\"Variation in the parameters:\")\n",
    "print(\"DeltaV:\", np.abs(V-V0))\n",
    "print(\"DeltaW:\", np.abs(W-W0))\n",
    "print(\"Deltab:\", np.abs(b-b0))\n",
    "print(\"\\n\\n\")\n",
    "print(\"Average cost last 50 steps:\", np.average(cost[-50:]))"
   ]
  },
  {
   "cell_type": "code",
   "execution_count": 132,
   "id": "f57fb39f",
   "metadata": {},
   "outputs": [
    {
     "data": {
      "image/png": "[encoded data removed]",
      "text/plain": [
       "<Figure size 432x288 with 1 Axes>"
      ]
     },
     "metadata": {
      "needs_background": "light"
     },
     "output_type": "display_data"
    }
   ],
   "source": [
    "plt.plot(range(len(cost)), cost)\n",
    "plt.xlabel('# itertion')\n",
    "plt.ylabel('cost')\n",
    "plt.show()"
   ]
  },
  {
   "cell_type": "markdown",
   "id": "f07558aa",
   "metadata": {},
   "source": [
    "We can see that even if we didn't recover exactely the same initial parameters, we obtain in the end a null cust. We cannot be sure that we are correctly implementing a XOR gate, because we are evaluating the cost on the same test used for training. One should test the network on a different set in order to be sure not to have just overfitted the training dataset.  "
   ]
  },
  {
   "cell_type": "markdown",
   "id": "20103cc4",
   "metadata": {},
   "source": [
    "### (C)\n",
    "We start with loading the dataset and with defining the non-linearity and its derivative:"
   ]
  },
  {
   "cell_type": "code",
   "execution_count": 133,
   "id": "62d88390",
   "metadata": {},
   "outputs": [],
   "source": [
    "data = np.load(\"resources/func_approx_training.npz\")\n",
    "X = data['X']\n",
    "YT = data['Y']\n",
    "\n",
    "expit_derivative = lambda x: expit(x) * (1-expit(x))\n",
    "f_act = expit\n",
    "f_act_prime = expit_derivative"
   ]
  },
  {
   "cell_type": "code",
   "execution_count": 134,
   "id": "a5cf78cf",
   "metadata": {},
   "outputs": [],
   "source": [
    "K = 5\n",
    "\n",
    "#random initialization of the weights\n",
    "V = np.random.normal(0., 1., (K,1))\n",
    "W = np.random.normal(0., 1., (1,K))\n",
    "b = np.random.normal(0., 1., K)"
   ]
  },
  {
   "cell_type": "code",
   "execution_count": 135,
   "id": "c9be2926",
   "metadata": {},
   "outputs": [
    {
     "name": "stdout",
     "output_type": "stream",
     "text": [
      "Average cost last 50 steps: 0.13511729007897963\n"
     ]
    },
    {
     "data": {
      "image/png": "[encoded data removed]",
      "text/plain": [
       "<Figure size 432x288 with 1 Axes>"
      ]
     },
     "metadata": {
      "needs_background": "light"
     },
     "output_type": "display_data"
    },
    {
     "data": {
      "image/png": "[encoded data removed]",
      "text/plain": [
       "<Figure size 432x288 with 1 Axes>"
      ]
     },
     "metadata": {
      "needs_background": "light"
     },
     "output_type": "display_data"
    }
   ],
   "source": [
    "V, W, b, cost5 = train(X, YT, V, W, b, niter=int(1e6),base_lr=0.1)\n",
    "avgcost = [np.mean(cost5[n-10:n+10]) for n in range(10, len(cost5)-10)]\n",
    "print(\"Average cost last 50 steps:\", np.average(cost5[-50:]))\n",
    "plt.plot(range(int(1e6)), cost5)\n",
    "plt.xlabel('# itertion')\n",
    "plt.ylabel('cost')\n",
    "plt.show()\n",
    "\n",
    "yval = []\n",
    "for xval in X:\n",
    "    yval.append(propagate(xval, V, W, b)[0])\n",
    "cost_5 =  Cost(yval,YT)\n",
    "\n",
    "plt.plot(X, YT, label = 'dataset')\n",
    "plt.plot(X, yval, label = 'NN output')\n",
    "plt.title('K = 5')\n",
    "plt.legend()\n",
    "plt.show()"
   ]
  },
  {
   "cell_type": "markdown",
   "id": "c43733ee",
   "metadata": {},
   "source": [
    "We see that after an initial drop, the cost remains averagely constant. We now try with K = 40."
   ]
  },
  {
   "cell_type": "code",
   "execution_count": 136,
   "id": "ec630ac8",
   "metadata": {},
   "outputs": [],
   "source": [
    "K = 40\n",
    "\n",
    "#random initialization of the weights\n",
    "V = np.random.normal(0., 1., (K,1))\n",
    "W = np.random.normal(0., 1., (1,K))\n",
    "b = np.random.normal(0., 1., K)"
   ]
  },
  {
   "cell_type": "code",
   "execution_count": 137,
   "id": "76329e75",
   "metadata": {},
   "outputs": [
    {
     "name": "stdout",
     "output_type": "stream",
     "text": [
      "Average cost last 50 steps: 0.09952037597681562\n"
     ]
    },
    {
     "data": {
      "image/png": "[encoded data removed]",
      "text/plain": [
       "<Figure size 432x288 with 1 Axes>"
      ]
     },
     "metadata": {
      "needs_background": "light"
     },
     "output_type": "display_data"
    },
    {
     "data": {
      "image/png": "[encoded data removed]",
      "text/plain": [
       "<Figure size 432x288 with 1 Axes>"
      ]
     },
     "metadata": {
      "needs_background": "light"
     },
     "output_type": "display_data"
    }
   ],
   "source": [
    "V, W, b, cost40 = train(X, YT, V, W, b, niter=int(1e6),base_lr=0.1)\n",
    "avgcost = [np.mean(cost40[n-10:n+10]) for n in range(10, len(cost40)-10)]\n",
    "print(\"Average cost last 50 steps:\", np.average(cost40[-50:]))\n",
    "plt.plot(range(int(1e6)), cost40)\n",
    "plt.xlabel('# itertion')\n",
    "plt.ylabel('cost')\n",
    "plt.show()\n",
    "\n",
    "yval = []\n",
    "for xval in X:\n",
    "    yval.append(propagate(xval, V, W, b)[0])\n",
    "cost_40 = Cost(yval,YT)\n",
    "\n",
    "plt.plot(X, YT, label = 'dataset')\n",
    "plt.plot(X, yval, label = 'NN output')\n",
    "plt.title('K = 40')\n",
    "plt.legend()\n",
    "plt.show()"
   ]
  },
  {
   "cell_type": "markdown",
   "id": "6495cd41",
   "metadata": {},
   "source": [
    "The result with 40 hidden units is evidently better. We can also see that the average cost is siglificantly less than the K=5 case"
   ]
  },
  {
   "cell_type": "markdown",
   "id": "b0a7834c",
   "metadata": {},
   "source": [
    "### (d)"
   ]
  },
  {
   "cell_type": "code",
   "execution_count": 138,
   "id": "6c2d352b",
   "metadata": {},
   "outputs": [],
   "source": [
    "data = np.load(\"resources/bar_data.npz\")\n",
    "X = data['inp']\n",
    "YT = data['out']\n",
    "K = 10\n",
    "\n",
    "V = np.random.normal(0., 1., (K,25))\n",
    "W = np.random.normal(0., 1., (2,K))\n",
    "b = np.random.normal(0., 1., K)"
   ]
  },
  {
   "cell_type": "code",
   "execution_count": 139,
   "id": "9dd47943",
   "metadata": {},
   "outputs": [
    {
     "data": {
      "image/png": "[encoded data removed]",
      "text/plain": [
       "<Figure size 432x288 with 1 Axes>"
      ]
     },
     "metadata": {
      "needs_background": "light"
     },
     "output_type": "display_data"
    }
   ],
   "source": [
    "V, W, b, cost = train(X, YT, V, W, b, niter=int(1e5))\n",
    "plt.plot(range(int(1e5)), cost)\n",
    "plt.show()\n",
    "\n",
    "yval = []\n",
    "for xval in X:\n",
    "    yval.append(propagate(xval, V, W, b)[0])"
   ]
  },
  {
   "cell_type": "code",
   "execution_count": 140,
   "id": "6ea155d7",
   "metadata": {},
   "outputs": [
    {
     "name": "stdout",
     "output_type": "stream",
     "text": [
      "[0.7022768  0.09632364]\n"
     ]
    },
    {
     "data": {
      "image/png": "[encoded data removed]",
      "text/plain": [
       "<Figure size 432x288 with 1 Axes>"
      ]
     },
     "metadata": {
      "needs_background": "light"
     },
     "output_type": "display_data"
    },
    {
     "name": "stdout",
     "output_type": "stream",
     "text": [
      "[0.49827292 0.10086758]\n"
     ]
    },
    {
     "data": {
      "image/png": "[encoded data removed]",
      "text/plain": [
       "<Figure size 432x288 with 1 Axes>"
      ]
     },
     "metadata": {
      "needs_background": "light"
     },
     "output_type": "display_data"
    },
    {
     "name": "stdout",
     "output_type": "stream",
     "text": [
      "[0.09979604 0.70406862]\n"
     ]
    },
    {
     "data": {
      "image/png": "[encoded data removed]",
      "text/plain": [
       "<Figure size 432x288 with 1 Axes>"
      ]
     },
     "metadata": {
      "needs_background": "light"
     },
     "output_type": "display_data"
    }
   ],
   "source": [
    "ntests = 3\n",
    "for _ in range(ntests):\n",
    "    idx = np.random.randint(0,len(X))\n",
    "    plt.imshow(X[idx].reshape(5,5))\n",
    "    print(propagate(X[idx], V, W, b)[0])\n",
    "    plt.show()"
   ]
  },
  {
   "cell_type": "markdown",
   "id": "c98218bd",
   "metadata": {},
   "source": [
    "The output of $y_1,y_2$ indicates the coordinates of the center of the cross. Horizontally goes from the left (0.0) to the right (1.0), while vertically it goes from the top (0.0) to the bottom (1.0)."
   ]
  },
  {
   "cell_type": "code",
   "execution_count": null,
   "id": "e3d25291",
   "metadata": {},
   "outputs": [],
   "source": []
  },
  {
   "cell_type": "code",
   "execution_count": null,
   "id": "340738c6",
   "metadata": {},
   "outputs": [],
   "source": []
  }
 ],
 "metadata": {
  "kernelspec": {
   "display_name": "Python 3",
   "language": "python",
   "name": "python3"
  },
  "language_info": {
   "codemirror_mode": {
    "name": "ipython",
    "version": 3
   },
   "file_extension": ".py",
   "mimetype": "text/x-python",
   "name": "python",
   "nbconvert_exporter": "python",
   "pygments_lexer": "ipython3",
   "version": "3.6.9"
  }
 },
 "nbformat": 4,
 "nbformat_minor": 5
}
