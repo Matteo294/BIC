{
 "cells": [
  {
   "cell_type": "markdown",
   "metadata": {},
   "source": [
    "# Matteo Zortea, Alessandro Rizzi  \n",
    "## Brain Inspired Computing, Sheet 2  \n",
    "## Group G3A8\n",
    "## Exercises solved  \n",
    "Ex 1: a) b) c)  \n",
    "Ex 2: a) b)  \n",
    "Ex 3: a)  \n",
    "Ex 4: a)  "
   ]
  },
  {
   "cell_type": "markdown",
   "metadata": {},
   "source": [
    "# Exercise 1\n",
    "## a)\n",
    "At time $t$ the probability of a channel beeing open is $x(t)$, hence the number of expected open channels at time $t$ is $s(t) = Nx(t)$, where $N$ is the total number of channels.  \n",
    "At time $t + \\Delta t$, some channels switch from opened to closed and vice-versa. This happen with the transition rates $$r_{cl \\to op} = \\alpha_x(u) \\\\ r_{op \\to cl} = \\beta_x(u)$$ so that the expected number of transitions from closed to opened and from opened to closed at time $t$ in a time intervals $\\delta T$ are respectively $$N_{cl \\to op} = (N-s(t)) \\,\\alpha(u) \\, \\Delta t = N(1-x(t)) \\, \\alpha(u) \\, \\Delta t \\\\ N_{op \\to cl} = s(t) \\, \\beta(u) \\, \\Delta t = Nx(t) \\, \\beta(u) \\, \\Delta t$$\n",
    "This means that $$s(t + \\Delta t) = s(t) + N_{cl \\to op} - N_{op \\to cl} = s(t) + \\left[ N(1-x(t)) \\, \\alpha(u) - Nx(t) \\, \\beta(u) \\right] \\Delta t$$\n",
    "so that $$\\frac{s(t+\\Delta t)-s(t)}{\\Delta t} = N \\left[(1-x(t)) \\, \\alpha(u) - x(t) \\, \\beta(u) \\right] $$\n",
    "Taking the limit $\\Delta t \\to 0$, remembering that $s(t) = N \\, x(t)$ one gets the equation for the evolution of the p.d.f. $$\\frac{dx(t)}{dt} = (1-x(t)) \\, \\alpha(u) - x(t) \\, \\beta(u) = \\alpha(u) - x(t) \\, \\left(\\alpha(u) + \\beta(u) \\right)$$\n",
    "or in short form $$\\dot x = \\alpha - x \\left(\\alpha + \\beta\\right) $$\n",
    "## b) \n",
    "One can simply take apart $\\alpha + \\beta$ from the last expression\n",
    "$$ \\dot x = (\\alpha + \\beta) \\left(\\frac{\\alpha}{\\alpha + \\beta} - x\\right) \\equiv \\frac{1}{\\tau} \\left( x_0 - x \\right)$$\n",
    "so that the required transformations are $\\tau = \\frac{1}{\\alpha + \\beta}$ and $x_0 = \\frac{\\alpha}{\\alpha + \\beta}$\n",
    "## c)\n",
    "$$\\tau(u) = \\alpha(u) + \\beta(u) = \\frac{1}{1+e^{-\\frac{u+a}{b}}} + \\frac{1}{1+e^{\\frac{u+a}{b}}} = \\frac{e^\\frac{u+a}{b}}{1+e^{\\frac{u+a}{b}}} + \\frac{1}{1+e^{\\frac{u+a}{b}}} = 1 \\\\\n",
    "x_0(u) = \\frac{\\alpha(u)}{\\alpha(u)+\\beta(u)} = \\frac{1}{1+e^{-\\frac{u+a}{b}}}$$\n",
    "Now let us note that\n",
    "$$1+\\tanh(x) = 1 + \\frac{e^{2x}-1}{e^{2x}+1} = \\frac{2e^{2x}}{e^{2x}+1} = \\frac{2}{1+e^{-2x}}$$\n",
    "Hence we can work out the equation for $x_0(u)$ to obtain the desired expression\n",
    "$$x_0(u) = \\frac{1}{1+e^{-2\\frac{u+a}{2b}}} = \\frac{1}{2} \\left[1+\\tanh\\left(\\frac{1}{2b}(u-(-a))\\right)\\right] \\equiv\n",
    "\\frac{1}{2} \\left[1+\\tanh\\left(\\beta(u-\\Theta)\\right)\\right]$$\n",
    "where we set $\\Theta=-a, \\beta =1/2b$"
   ]
  },
  {
   "cell_type": "markdown",
   "metadata": {},
   "source": [
    "# Exercise 2\n"
   ]
  },
  {
   "cell_type": "markdown",
   "metadata": {},
   "source": [
    "\n",
    "## a)"
   ]
  },
  {
   "cell_type": "markdown",
   "metadata": {},
   "source": [
    "Definition of various parameters and importation of libraries"
   ]
  },
  {
   "cell_type": "code",
   "execution_count": 1,
   "metadata": {},
   "outputs": [],
   "source": [
    "import numpy as np \n",
    "from matplotlib import pyplot as plt\n",
    "\n",
    "# Parameters\n",
    "dt = 0.01 # ms\n",
    "T_run = 200 # ms\n",
    "n0 = 0.3\n",
    "m0 = 0.1\n",
    "h0 = 0.6\n",
    "u0 = -65 # mV\n",
    "\n",
    "# Resting potentials\n",
    "E_Na = 50 # mV\n",
    "E_K = -77 # mV\n",
    "E_l = -54.4 # mV\n",
    "# Conductances\n",
    "g_Na = 120 # muS\n",
    "g_K = 36 # muS\n",
    "g_l = 0.3 # muS\n",
    "\n",
    "Cm = 1 # nF\n",
    "\n",
    "npoints = int(T_run/dt)"
   ]
  },
  {
   "cell_type": "markdown",
   "metadata": {},
   "source": [
    "It is convenient to define a function which calculates the Taylor's polynomial of the function $$f(x) = \\exp(\\alpha x + \\beta) - 1$$ around the point $x_0 = -\\beta/\\alpha$. \n",
    "This will be used in the calculation of the transition coefficients when the argument of the eponential is small. Otherwise the function explodes."
   ]
  },
  {
   "cell_type": "code",
   "execution_count": 2,
   "metadata": {},
   "outputs": [],
   "source": [
    "def taylor_exp(x, alpha, beta, n):\n",
    "    powers = np.arange(1, n+1, 1)\n",
    "    terms = [sum(np.power(xval, powers)) for xval in x]\n",
    "    return sum(terms)"
   ]
  },
  {
   "cell_type": "markdown",
   "metadata": {},
   "source": [
    "We then define the functions that calculate the transition rates, using the Taylor expansion when the argument of the exponential is lower than a treshold value. The plots follow."
   ]
  },
  {
   "cell_type": "code",
   "execution_count": 3,
   "metadata": {},
   "outputs": [],
   "source": [
    "# Transition rates\n",
    "\n",
    "# closed to opened\n",
    "def cl_to_op(u):\n",
    "    ret_array = np.zeros(3)\n",
    "    if abs(-55-u) < 1e-2 and False:\n",
    "        ret_array[0] = 0.01*(-55-u)/taylor_exp(u, alpha=-0.1, beta=-5.5, n=10)\n",
    "    else:\n",
    "        ret_array[0] = 0.01*(-55-u)/(np.exp(-5.5 - 0.1*u) - 1)\n",
    "    if abs(-40-u) < 1e-2 and False:\n",
    "        ret_array[1] = 0.1*(-40-u)/taylor_exp(u, alpha=-0.1, beta=-4.5, n=10)\n",
    "    else:\n",
    "        ret_array[1] = 0.1*(-40-u)/(np.exp(-4 - 0.1*u) - 1)\n",
    "    ret_array[2] = 0.07*np.exp(-(u+65)/20)\n",
    "    return ret_array\n",
    "\n",
    "# opened to closed\n",
    "op_to_cl = lambda u: np.array([0.125*np.exp(-(u+65)/80), 4.0*np.exp(-(u+65)/18), 1/(np.exp(-3.5-0.1*u) + 1)])\n",
    "\n",
    "# x0, tau\n",
    "get_x0 = lambda u: cl_to_op(u)/(cl_to_op(u)+op_to_cl(u))\n",
    "get_tau = lambda u: 1./(cl_to_op(u) + op_to_cl(u))"
   ]
  },
  {
   "cell_type": "markdown",
   "metadata": {},
   "source": [
    "Let us plot the transition rate functions"
   ]
  },
  {
   "cell_type": "code",
   "execution_count": 4,
   "metadata": {},
   "outputs": [
    {
     "data": {
      "image/png": "[encoded data removed]",
      "text/plain": [
       "<Figure size 432x288 with 1 Axes>"
      ]
     },
     "metadata": {
      "needs_background": "light"
     },
     "output_type": "display_data"
    },
    {
     "data": {
      "image/png": "[encoded data removed]",
      "text/plain": [
       "<Figure size 432x288 with 1 Axes>"
      ]
     },
     "metadata": {
      "needs_background": "light"
     },
     "output_type": "display_data"
    }
   ],
   "source": [
    "uline = np.linspace(-150, 150, 10000) # x ticks [mV] to plot the transition rates\n",
    "a = np.zeros((3, len(uline)))\n",
    "for i in range(len(uline)):\n",
    "    a[:,i] = cl_to_op(uline[i])\n",
    "plt.plot(uline, a[0,:], label=r\"$\\alpha_{Na}$\", lw=2)\n",
    "plt.plot(uline, a[1,:], label=r\"$\\alpha_{K}$\", lw=2)\n",
    "plt.plot(uline, a[2,:], label=r\"$\\alpha_{L}$\", lw=2)\n",
    "plt.xlabel(\"cell voltage u [mV]\", fontsize=16)\n",
    "plt.ylabel(r\"$\\alpha(u)$\", fontsize=16)\n",
    "plt.legend(fontsize=16)\n",
    "ax = plt.gca()\n",
    "ax.tick_params(direction='in')\n",
    "plt.show()\n",
    "\n",
    "uline = np.linspace(-75, 75, 10000) # x ticks [mV] to plot the transition rates\n",
    "b = np.zeros((3, len(uline)))\n",
    "for i in range(len(uline)):\n",
    "    b[:,i] = cl_to_op(uline[i])\n",
    "plt.plot(uline, b[0,:], label=r\"$\\beta_{Na}$\", lw=2)\n",
    "plt.plot(uline, b[1,:], label=r\"$\\beta_{K}$\", lw=2)\n",
    "plt.plot(uline, b[2,:], label=r\"$\\beta_{L}$\", lw=2)\n",
    "plt.xlabel(\"cell voltage u [mV]\", fontsize=16)\n",
    "plt.ylabel(r\"$\\beta(u)$\", fontsize=16)\n",
    "plt.legend(fontsize=16)\n",
    "ax=plt.gca()\n",
    "ax.tick_params(direction='in')\n",
    "plt.show()\n"
   ]
  },
  {
   "cell_type": "markdown",
   "metadata": {},
   "source": [
    "Input current function"
   ]
  },
  {
   "cell_type": "code",
   "execution_count": 5,
   "metadata": {},
   "outputs": [],
   "source": [
    "def I_ext(t):\n",
    "    if t > 0 and t < 50:\n",
    "        return 7.5\n",
    "    else:\n",
    "        return 0"
   ]
  },
  {
   "cell_type": "markdown",
   "metadata": {},
   "source": [
    "Right hand sides of the differential equations"
   ]
  },
  {
   "cell_type": "code",
   "execution_count": 6,
   "metadata": {},
   "outputs": [],
   "source": [
    "def get_xdot(x, u):\n",
    "    return np.power(tau, -1) * (x0 - x)\n",
    "def get_udot(u, t, n, m, h):\n",
    "    return (g_l*(E_l - u) + g_Na*m**3*h*(E_Na - u) + g_K*n**4*(E_K - u) + I_ext(t))/Cm"
   ]
  },
  {
   "cell_type": "markdown",
   "metadata": {},
   "source": [
    "We have to solve the differential equations\n",
    "$$\n",
    "\\begin{cases}\n",
    "\\frac{dn}{dt} = \\frac{1}{\\tau_n(u)} \\left(n_0(u) - n(u)\\right) \\\\\n",
    "\\frac{dm}{dt} = \\frac{1}{\\tau_m(u)} \\left(m_0(u) - m(u)\\right) \\\\\n",
    "\\frac{dh}{dt} = \\frac{1}{\\tau_h(u)} \\left(h_0(u) - h(u)\\right) \\\\\n",
    "C_m \\frac{du}{dt} = g_L \\left(E_L - u\\right) + g_{Na} m^3h \\left(E_{Na} - u\\right) + g_K n^4 \\left(E_K-u\\right) + I_{ext(t)}\n",
    "\\end{cases}\n",
    "$$\n",
    "The system of equations can be efficiently integrated using the leapfrog method obtaining a numerical accuracy of order 2, using the same number of evaluations of the Euler method"
   ]
  },
  {
   "cell_type": "code",
   "execution_count": 7,
   "metadata": {},
   "outputs": [],
   "source": [
    "t = np.zeros(npoints)\n",
    "x = np.zeros((npoints, 3))\n",
    "u = np.zeros(npoints)\n",
    "t[0] = 0\n",
    "x[0,:] = [n0, m0, h0]\n",
    "u[0] = u0"
   ]
  },
  {
   "cell_type": "code",
   "execution_count": 8,
   "metadata": {},
   "outputs": [],
   "source": [
    "# Run the simulation\n",
    "for i in range(npoints - 1):\n",
    "    tau = np.array(get_tau(u[i]))\n",
    "    x0 = np.array(get_x0(u[i]))\n",
    "    u[i+1] = u[i] + dt*get_udot(u[i], t[i], x[i,0], x[i,1], x[i,2])\n",
    "    x[i+1] = x[i] + dt*get_xdot(x[i].flatten(), u[i+1])\n",
    "    t[i+1] = t[i] + dt"
   ]
  },
  {
   "cell_type": "markdown",
   "metadata": {},
   "source": [
    "Plotting the potential and the input current"
   ]
  },
  {
   "cell_type": "code",
   "execution_count": 9,
   "metadata": {},
   "outputs": [
    {
     "data": {
      "image/png": "[encoded data removed]",
      "text/plain": [
       "<Figure size 432x288 with 1 Axes>"
      ]
     },
     "metadata": {
      "needs_background": "light"
     },
     "output_type": "display_data"
    },
    {
     "data": {
      "image/png": "[encoded data removed]",
      "text/plain": [
       "<Figure size 432x288 with 1 Axes>"
      ]
     },
     "metadata": {
      "needs_background": "light"
     },
     "output_type": "display_data"
    }
   ],
   "source": [
    "plt.plot(t, u, lw=2, color='black')\n",
    "plt.xlabel('time [ms]', fontsize=16)\n",
    "plt.ylabel('cell voltage [mV]', fontsize=16)\n",
    "ax = plt.gca()\n",
    "ax.tick_params(direction='in')\n",
    "plt.show()\n",
    "\n",
    "I = []\n",
    "for tt in t:\n",
    "    I.append(I_ext(tt))\n",
    "plt.plot(t, I, lw=2, color='black')\n",
    "plt.xlabel('time [ms]', fontsize=16)\n",
    "plt.ylabel('input current [nA]', fontsize=16)\n",
    "ax = plt.gca()\n",
    "ax.tick_params(direction='in')\n",
    "plt.show()"
   ]
  },
  {
   "cell_type": "markdown",
   "metadata": {},
   "source": [
    "## b)"
   ]
  },
  {
   "cell_type": "markdown",
   "metadata": {},
   "source": [
    "Let us now use the other input current"
   ]
  },
  {
   "cell_type": "code",
   "execution_count": 10,
   "metadata": {},
   "outputs": [],
   "source": [
    "def I_ext(t):\n",
    "    if t < 50:\n",
    "        return -3\n",
    "    else:\n",
    "        return 0"
   ]
  },
  {
   "cell_type": "code",
   "execution_count": 11,
   "metadata": {},
   "outputs": [],
   "source": [
    "# Run the simulation\n",
    "t = np.zeros(npoints)\n",
    "x = np.zeros((npoints, 3))\n",
    "u = np.zeros(npoints)\n",
    "t[0] = 0\n",
    "x[0,:] = [n0, m0, h0]\n",
    "u[0] = u0\n",
    "for i in range(npoints - 1):\n",
    "    tau = np.array(get_tau(u[i]))\n",
    "    x0 = np.array(get_x0(u[i]))\n",
    "    u[i+1] = u[i] + dt*get_udot(u[i], t[i], x[i,0], x[i,1], x[i,2])\n",
    "    x[i+1] = x[i] + dt*get_xdot(x[i].flatten(), u[i+1])\n",
    "    t[i+1] = t[i] + dt"
   ]
  },
  {
   "cell_type": "code",
   "execution_count": 13,
   "metadata": {},
   "outputs": [
    {
     "data": {
      "image/png": "[encoded data removed]",
      "text/plain": [
       "<Figure size 432x288 with 1 Axes>"
      ]
     },
     "metadata": {
      "needs_background": "light"
     },
     "output_type": "display_data"
    },
    {
     "data": {
      "image/png": "[encoded data removed]",
      "text/plain": [
       "<Figure size 432x288 with 1 Axes>"
      ]
     },
     "metadata": {
      "needs_background": "light"
     },
     "output_type": "display_data"
    }
   ],
   "source": [
    "plt.plot(t, u, lw=2, color='black')\n",
    "plt.xlabel('time [ms]', fontsize=16)\n",
    "plt.ylabel('cell voltage [mV]', fontsize=16)\n",
    "ax = plt.gca()\n",
    "ax.tick_params(direction='in')\n",
    "plt.show()\n",
    "\n",
    "I = []\n",
    "for tt in t:\n",
    "    I.append(I_ext(tt))\n",
    "plt.plot(t, I, lw=2, color='black')\n",
    "plt.xlabel('time [ms]', fontsize=16)\n",
    "plt.ylabel('input current [nA]', fontsize=16)\n",
    "ax = plt.gca()\n",
    "ax.tick_params(direction='in')\n",
    "plt.show()"
   ]
  },
  {
   "cell_type": "markdown",
   "metadata": {},
   "source": [
    "# Exercise 3\n",
    "\n",
    "With a constant value of the external current, we can solve the differential equation for the membrane potential $u$:\n",
    "$$C_m \\frac{du}{dt} = g_l(E_l-u)+I_\\text{ext}.$$\n",
    "We proceed separing the variables\n",
    "$$\\frac{du}{u-E_l-I_\\text{ext}/g_l} = - \\frac{g_l}{C_m}dt,$$\n",
    "and then integrating both sides we obtain the solution $u(t)$:\n",
    "$$u(t) = E_l+\\frac{I_\\text{ext}}{g_l} + Ae^{-\\frac{t}{\\tau_m}},$$\n",
    "where A is a constant to be determined by the initial conditions, and $\\tau_m = C_m/g_l$ is the membrane time constant.\n",
    "\n",
    "We want to calculate the firing rate, i.e. the number of spikes per time unit of the neuron. To simplify our task, we choose to set the origin of time $t=0$ immeadeatly after a spike, i.e. we apply the initial condition $u(0) = E_\\text{reset}$. With this condition we find that $A = E_\\text{reset} - E_l - I_\\text{ext}/g_l$.\n",
    "\n",
    "We now want to compute the time $\\tau_\\text{spike}$ needed to elicit a spike, i.e. to reach the treshold value $\\Theta$. \n",
    "$$ u(\\tau_\\text{spike}) = \\Theta \\xrightarrow{} \\tau_\\text{spike} = -\\tau_m \\ln\\Biggl(\\frac{\\Theta-E_l-I_\\text{ext}/g_l}{E_\\text{reset}-E_l - I_\\text{ext}/g_l}\\Biggr)$$\n",
    "In the LIF neuron, after having reached the treshold, it follows an absolute refractary period $\\tau_\\text{ref}$, and then we are again at $u = E_\\text{reset}$, and the mechanism repeat. Thus, the firing rate is:\n",
    "$$\\nu(I_\\text{ext}) = \\frac{1}{\\tau_\\text{ref}+\\tau_\\text{spike}} = \\Biggl[\\tau_\\text{ref} + \\tau_m \\ln\\Biggl(\\frac{\\Theta-E_l-I_\\text{ext}/g_l}{E_\\text{reset}-E_l - I_\\text{ext}/g_l}\\Biggr) \\Biggr]^{-1} $$\n"
   ]
  },
  {
   "cell_type": "markdown",
   "metadata": {},
   "source": [
    "# Exercise 4\n",
    "Setting $\\tau_\\text{ref} = 0$ and expanding the logarithm at the second order, we obtain:\n",
    "$$\n",
    "\\nu_\\text{asy}(I_\\text{ext}) \\sim\n",
    "\\frac{1}{\\tau_m} \\Biggl[ \\frac{g_l}{I_\\text{ext}}(\\Theta- E_\\text{reset}) - \n",
    "\\frac{g_l^2}{I_\\text{ext}^2} \\Biggl( E_\\text{reset}^2 - \\Theta^2 +2E_l(\\Theta-E_\\text{reset})\\Biggr) + o\\Biggl(\\frac{1}{I_\\text{ext}^2}\\Biggr) \\Biggr]^{-1} = \\\\\n",
    "= \\frac{1}{\\tau_m (\\Theta- E_\\text{reset})}\\frac{I_\\text{ext}}{g_l} \n",
    "\\Biggl[ 1 -  \\frac{g_l}{I_\\text{ext}}  \\frac{E_\\text{reset}^2 - \\Theta^2 +2E_l(\\Theta-E_\\text{reset})}{\\Theta- E_\\text{reset}} + o\\Biggl(\\frac{1}{I_\\text{ext}}\\Biggr) \\Biggr]^{-1}\n",
    "$$\n",
    "Expanding now the denominator at the first order we find the result:\n",
    "$$\n",
    "\\nu_\\text{asy}(I_\\text{ext}) \\sim \\frac{1}{\\tau_m (\\Theta- E_\\text{reset})}\\frac{I_\\text{ext}}{g_l} + \\frac{E_\\text{reset}^2 - \\Theta^2 +2E_l(\\Theta-E_\\text{reset})}{\\tau_m(\\Theta- E_\\text{reset})^2}\n",
    "$$\n"
   ]
  }
 ],
 "metadata": {
  "interpreter": {
   "hash": "916dbcbb3f70747c44a77c7bcd40155683ae19c65e1c03b4aa3499c5328201f1"
  },
  "kernelspec": {
   "display_name": "Python 3 (ipykernel)",
   "language": "python",
   "name": "python3"
  },
  "language_info": {
   "codemirror_mode": {
    "name": "ipython",
    "version": 3
   },
   "file_extension": ".py",
   "mimetype": "text/x-python",
   "name": "python",
   "nbconvert_exporter": "python",
   "pygments_lexer": "ipython3",
   "version": "3.8.10"
  }
 },
 "nbformat": 4,
 "nbformat_minor": 2
}
