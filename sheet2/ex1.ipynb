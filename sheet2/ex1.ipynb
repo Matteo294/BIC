{
 "cells": [
  {
   "cell_type": "markdown",
   "metadata": {},
   "source": [
    "# Matteo Zortea, Alessandro Rizzi  \n",
    "## Brain Inspired Computing, Sheet 2  \n",
    "## Group G3A8\n",
    "## Exercises solved  \n",
    "Ex 1: a) b)\n",
    "Ex 2:\n",
    "Ex 3:\n",
    "Ex 4:"
   ]
  },
  {
   "cell_type": "markdown",
   "metadata": {},
   "source": [
    "# Exercise 1\n",
    "## a)\n",
    "At time $t$ the probability of a channel beeing open is $x(t)$, hence the number of expected open channels at time $t$ is $s(t) = Nx(t)$, where $N$ is the total number of channels.  \n",
    "At time $t + \\Delta t$, some channels switch from opened to closed and vice-versa. This happen with the transition rates $$r_{cl \\to op} = \\alpha_x(u) \\\\ r_{op \\to cl} = \\beta_x(u)$$ so that the expected number of transitions from closed to opened and from opened to closed at time $t$ in a time intervals $\\delta T$ are respectively $$N_{cl \\to op} = (N-s(t)) \\,\\alpha(u) \\, \\Delta t = N(1-x(t)) \\, \\alpha(u) \\, \\Delta t \\\\ N_{op \\to cl} = s(t) \\, \\beta(u) \\, \\Delta t = Nx(t) \\, \\beta(u) \\, \\Delta t$$\n",
    "This means that $$s(t + \\Delta t) = s(t) + N_{cl \\to op} - N_{op \\to cl} = s(t) + \\left[ N(1-x(t)) \\, \\alpha(u) - Nx(t) \\, \\beta(u) \\right] \\Delta t$$\n",
    "so that $$\\frac{s(t+\\Delta t)-s(t)}{\\Delta t} = N \\left[(1-x(t)) \\, \\alpha(u) - x(t) \\, \\beta(u) \\right] $$\n",
    "Taking the limit $\\Delta t \\to 0$, remembering that $s(t) = N \\, x(t)$ one gets the equation for the evolution of the p.d.f. $$\\frac{dx(t)}{dt} = (1-x(t)) \\, \\alpha(u) - x(t) \\, \\beta(u) = \\alpha(u) - x(t) \\, \\left(\\alpha(u) + \\beta(u) \\right)$$\n",
    "or in short form $$\\dot x = \\alpha - x \\left(\\alpha + \\beta\\right) $$\n",
    "## b) \n",
    "One can simply take apart $\\alpha + \\beta$ from the last expression\n",
    "$$ \\dot x = (\\alpha + \\beta) \\left(\\frac{\\alpha}{\\alpha + \\beta} - x\\right) \\equiv \\frac{1}{\\tau} \\left( x_0 - x \\right)$$\n",
    "so that the required transformations are $\\tau = \\frac{1}{\\alpha + \\beta}$ and $x_0 = \\frac{\\alpha}{\\alpha + \\beta}$\n",
    "## c)\n"
   ]
  },
  {
   "cell_type": "markdown",
   "metadata": {},
   "source": [
    "## Exercise 2\n"
   ]
  },
  {
   "cell_type": "markdown",
   "metadata": {},
   "source": [
    "Definition of various parameters and importation of libraries"
   ]
  },
  {
   "cell_type": "code",
   "execution_count": 95,
   "metadata": {},
   "outputs": [],
   "source": [
    "import numpy as np \n",
    "from matplotlib import pyplot as plt\n",
    "\n",
    "# Parameters\n",
    "dt = 0.01 # ms\n",
    "T_run = 80 # ms\n",
    "n0 = 0.3\n",
    "m0 = 0.1\n",
    "h0 = 0.6\n",
    "u0 = 0 # V\n",
    "\n",
    "# Resting potentials\n",
    "E_Na = 115 # V\n",
    "E_K = -12 # V\n",
    "E_l = -10.6 # V\n",
    "# Conductances\n",
    "g_Na = 120 # S\n",
    "g_K = 36 # S\n",
    "g_l = 0.3 # S\n",
    "\n",
    "Cm = 1 # F\n",
    "\n",
    "npoints = int(T_run/dt)"
   ]
  },
  {
   "cell_type": "markdown",
   "metadata": {},
   "source": [
    "It is convenient to define a function which calculates the Taylor's polynomial of the function $$f(x) = \\exp(\\alpha x + \\beta) - 1$$ around the point $x_0 = -\\beta/\\alpha$. \n",
    "This will be used in the calculation of the transition coefficients when the argument of the eponential is small. Otherwise the function explodes."
   ]
  },
  {
   "cell_type": "code",
   "execution_count": 96,
   "metadata": {},
   "outputs": [],
   "source": [
    "# Remember to vectorise it !!!!!!!!!!!!\n",
    "def taylor_exp(x, alpha, beta, n):\n",
    "    flag = False\n",
    "    if isinstance(x, (int, float)):\n",
    "        x = [x]\n",
    "        flag = True\n",
    "    vals = []\n",
    "    powers = np.arange(1, n+1, 1)\n",
    "    for xx in x:\n",
    "        terms = []\n",
    "        for p in range(1, n):\n",
    "            terms.append((alpha*xx+beta)**p / np.math.factorial(p))\n",
    "        vals.append(sum(terms))\n",
    "    if flag:\n",
    "        return vals[0]\n",
    "    else:\n",
    "        return vals"
   ]
  },
  {
   "cell_type": "markdown",
   "metadata": {},
   "source": [
    "We then define the functions that calculate the transition rates, using the Taylor expansion when the argument of the exponential is lower than a treshold value. The plots follow."
   ]
  },
  {
   "cell_type": "code",
   "execution_count": 97,
   "metadata": {},
   "outputs": [
    {
     "data": {
      "text/plain": [
       "'def cl_to_op(u_arr):\\n    u_arr = u_arr*1e3 # from V to mV\\n    if isinstance(u_arr, (int, float)):\\n        u_arr = [u_arr]\\n    ret_arr = np.zeros((3, len(u_arr)))\\n    for i,u in enumerate(u_arr):\\n        if abs(-0.1*u-5.5) < 1:\\n            ret_arr[0,i] = (-0.55-0.01*u)/taylor_exp(u, alpha=-0.1, beta=-5.5, n=10)\\n        else:\\n            ret_arr[0,i] = (-0.55-0.01*u)/(np.exp(-5.5-0.1*u) - 1)\\n        if abs(-0.1*u-4) < 1:\\n            ret_arr[1,i] = (-4-0.1*u)/taylor_exp(u, alpha=-0.1, beta=-4, n=10)\\n        else:\\n            ret_arr[1,i] = (-4-0.1*u)/(np.exp(-4-0.1*u) - 1)\\n        ret_arr[2,i] = 0.007*np.exp(-(u+65)/20)\\n    return ret_arr\\n\\nop_to_cl = lambda u: np.array([0.125*np.exp(-(u+65)/80), 4.0*np.exp(-(u+65)/18), 1/(np.exp(-3.5-0.1*u) + 1)])\\n\\n\\n# x0, tau\\nget_x0 = lambda u: cl_to_op(u)/(cl_to_op(u)+op_to_cl(u))\\nget_tau = lambda u: 1/(cl_to_op(u) + op_to_cl(u))'"
      ]
     },
     "execution_count": 97,
     "metadata": {},
     "output_type": "execute_result"
    }
   ],
   "source": [
    "# Transition rates\n",
    "'''def cl_to_op(u_arr):\n",
    "    u_arr = u_arr*1e3 # from V to mV\n",
    "    if isinstance(u_arr, (int, float)):\n",
    "        u_arr = [u_arr]\n",
    "    ret_arr = np.zeros((3, len(u_arr)))\n",
    "    for i,u in enumerate(u_arr):\n",
    "        if abs(-0.1*u-5.5) < 1:\n",
    "            ret_arr[0,i] = (-0.55-0.01*u)/taylor_exp(u, alpha=-0.1, beta=-5.5, n=10)\n",
    "        else:\n",
    "            ret_arr[0,i] = (-0.55-0.01*u)/(np.exp(-5.5-0.1*u) - 1)\n",
    "        if abs(-0.1*u-4) < 1:\n",
    "            ret_arr[1,i] = (-4-0.1*u)/taylor_exp(u, alpha=-0.1, beta=-4, n=10)\n",
    "        else:\n",
    "            ret_arr[1,i] = (-4-0.1*u)/(np.exp(-4-0.1*u) - 1)\n",
    "        ret_arr[2,i] = 0.007*np.exp(-(u+65)/20)\n",
    "    return ret_arr\n",
    "\n",
    "op_to_cl = lambda u: np.array([0.125*np.exp(-(u+65)/80), 4.0*np.exp(-(u+65)/18), 1/(np.exp(-3.5-0.1*u) + 1)])\n",
    "\n",
    "\n",
    "# x0, tau\n",
    "get_x0 = lambda u: cl_to_op(u)/(cl_to_op(u)+op_to_cl(u))\n",
    "get_tau = lambda u: 1/(cl_to_op(u) + op_to_cl(u))'''\n"
   ]
  },
  {
   "cell_type": "code",
   "execution_count": 98,
   "metadata": {},
   "outputs": [],
   "source": [
    "# Transition rates\n",
    "def cl_to_op(u_arr):\n",
    "    u_arr = u_arr # from V to mV\n",
    "    if isinstance(u_arr, (int, float)):\n",
    "        u_arr = [u_arr]\n",
    "    ret_arr = np.zeros((3, len(u_arr)))\n",
    "    for i,u in enumerate(u_arr):\n",
    "        if abs(1 + 0.1*u) < 1e-1 and False:\n",
    "            ret_arr[0,i] = 0.01*(10-u)/taylor_exp(u, alpha=-0.1, beta=1, n=10)\n",
    "        else:\n",
    "            ret_arr[0,i] = 0.01*(10-u)/(np.exp(1-0.1*u) - 1)\n",
    "        if abs(2.5 - 0.1*u) < 1e-1 and False:\n",
    "            ret_arr[1,i] = 0.1*(25 - u)/taylor_exp(u, alpha=-0.1, beta=2.5, n=10)\n",
    "        else:\n",
    "            ret_arr[1,i] = 0.1*(25 - u)/(np.exp(2.5 - 0.1*u) - 1)\n",
    "        ret_arr[2,i] = 0.07*np.exp(-u/20)\n",
    "    return ret_arr\n",
    "\n",
    "op_to_cl = lambda u: np.array([0.125*np.exp(-u/80), 4.0*np.exp(-u/18), 1/(np.exp(3-0.1*u) + 1)])\n",
    "\n",
    "\n",
    "# x0, tau\n",
    "get_x0 = lambda u: cl_to_op(u)/(cl_to_op(u)+op_to_cl(u))\n",
    "get_tau = lambda u: 1/(cl_to_op(u) + op_to_cl(u))"
   ]
  },
  {
   "cell_type": "code",
   "execution_count": 99,
   "metadata": {},
   "outputs": [
    {
     "data": {
      "image/png": "[encoded data removed]",
      "text/plain": [
       "<Figure size 432x288 with 1 Axes>"
      ]
     },
     "metadata": {
      "needs_background": "light"
     },
     "output_type": "display_data"
    },
    {
     "data": {
      "image/png": "[encoded data removed]",
      "text/plain": [
       "<Figure size 432x288 with 1 Axes>"
      ]
     },
     "metadata": {
      "needs_background": "light"
     },
     "output_type": "display_data"
    }
   ],
   "source": [
    "uline = np.linspace(-0.1, 0.1, 10000)\n",
    "a = cl_to_op(uline)\n",
    "plt.plot(uline*1e3, a[0,:])\n",
    "plt.plot(uline*1e3, a[1,:])\n",
    "plt.plot(uline*1e3, a[2,:])\n",
    "plt.show()\n",
    "\n",
    "uline = np.linspace(-0.1, 0.1, 10000)\n",
    "b = op_to_cl(uline)\n",
    "plt.plot(uline*1e3, a[0,:])\n",
    "plt.plot(uline*1e3, a[1,:])\n",
    "plt.plot(uline*1e3, a[2,:])\n",
    "plt.show()\n"
   ]
  },
  {
   "cell_type": "markdown",
   "metadata": {},
   "source": [
    "Input current function"
   ]
  },
  {
   "cell_type": "code",
   "execution_count": 100,
   "metadata": {},
   "outputs": [],
   "source": [
    "def I_ext(t):\n",
    "    I = []\n",
    "    for tt in t:\n",
    "        n = int(tt/50e-3)\n",
    "        if tt > 10 and tt < 60:\n",
    "            I.append(7.5)\n",
    "        else:\n",
    "            I.append(0)\n",
    "    return I"
   ]
  },
  {
   "cell_type": "markdown",
   "metadata": {},
   "source": [
    "Right hand sides of the differential equations"
   ]
  },
  {
   "cell_type": "code",
   "execution_count": 101,
   "metadata": {},
   "outputs": [],
   "source": [
    "def xdot(x, u, n):\n",
    "    return (1/tau[n]) * (x0[n] - x)\n",
    "def udot(u, t, n, m, h):\n",
    "    return (g_l*(E_l - u) + g_Na*m**3*h*(E_Na - u) + g_K*n**4*(E_K - u) + I_ext(t))/Cm"
   ]
  },
  {
   "cell_type": "markdown",
   "metadata": {},
   "source": [
    "Numerical integration (Euler method)"
   ]
  },
  {
   "cell_type": "code",
   "execution_count": 102,
   "metadata": {},
   "outputs": [],
   "source": [
    "t = np.zeros((npoints, 1))\n",
    "x = np.zeros((npoints, 3))\n",
    "u = np.zeros((npoints, 1))\n",
    "x_old = np.zeros((3, 1))\n",
    "xdot_old = np.zeros((3,1))\n",
    "u_old = 0\n",
    "udot_old = 0\n",
    "t[0] = 0\n",
    "x[0,:] = [n0, m0, h0]\n",
    "u[0] = u0\n",
    "for i in range(npoints - 1):\n",
    "    tau = get_tau(u[i])\n",
    "    x0 = get_x0(u[i])\n",
    "    \n",
    "    for n in range(3):\n",
    "        #xdot_old[n] = xdot(x[i,n], u[i], n)\n",
    "        #x_old = x[i] + dt*x[i,n] + dt*xdot_old[n]\n",
    "        x[i+1,n] = x[i,n] + dt*xdot(x[i,n], u[i], n)\n",
    "    u[i+1] = u[i] + dt*udot(u[i], t[i], x[i,0], x[i,1], x[i,2])    \n",
    "    #udot_old = udot(u[i], t[i], x[i,0], x[i,1], x[i,2])\n",
    "    '''u[i+1] = u[i] + dt*udot(u[i], t[i], x[i,0], x[i,1], x[i,2])\n",
    "    for n in range(3):\n",
    "        x[i+1, n] = x_old[n] + 0.5*dt*(xdot_old[n] + xdot(x[i,n], u[i], n)) \n",
    "    u[i+1] = u[i] + 0.5*dt*(udot_old + udot(u[i], t[i], x[i,0], x[i,1], x[i,2]))'''\n",
    "    t[i+1] = t[i] + dt"
   ]
  },
  {
   "cell_type": "markdown",
   "metadata": {},
   "source": [
    "Plotting the potential and the input current"
   ]
  },
  {
   "cell_type": "code",
   "execution_count": 103,
   "metadata": {},
   "outputs": [
    {
     "data": {
      "image/png": "[encoded data removed]",
      "text/plain": [
       "<Figure size 432x288 with 2 Axes>"
      ]
     },
     "metadata": {
      "needs_background": "light"
     },
     "output_type": "display_data"
    }
   ],
   "source": [
    "plt.subplot(2,1,1)\n",
    "plt.plot(t, u)\n",
    "\n",
    "plt.subplot(2,1,2)\n",
    "plt.plot(t, I_ext(t))# Parameters\n",
    "\n",
    "\n",
    "plt.show()\n",
    "\n"
   ]
  },
  {
   "cell_type": "markdown",
   "metadata": {},
   "source": [
    "# Exercise 3\n",
    "\n",
    "## a)\n",
    "With a constant value of the external current, we can solve the differential equation for the membrane potential $u$:\n",
    "$$C_m \\frac{du}{dt} = g_l(E_l-u)+I_\\text{ext}$$\n",
    "We proceed separing the variables:\n",
    "$$\\frac{du}{u-E_l-I_\\text{ext}/g_l} = \n",
    "-"
   ]
  }
 ],
 "metadata": {
  "interpreter": {
   "hash": "916dbcbb3f70747c44a77c7bcd40155683ae19c65e1c03b4aa3499c5328201f1"
  },
  "kernelspec": {
   "display_name": "Python 3.8.10 64-bit",
   "language": "python",
   "name": "python3"
  },
  "language_info": {
   "codemirror_mode": {
    "name": "ipython",
    "version": 3
   },
   "file_extension": ".py",
   "mimetype": "text/x-python",
   "name": "python",
   "nbconvert_exporter": "python",
   "pygments_lexer": "ipython3",
   "version": "3.8.10"
  },
  "orig_nbformat": 4
 },
 "nbformat": 4,
 "nbformat_minor": 2
}
