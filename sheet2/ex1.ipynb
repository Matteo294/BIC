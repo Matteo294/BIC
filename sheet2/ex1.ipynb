{
 "cells": [
  {
   "cell_type": "markdown",
   "metadata": {},
   "source": [
    "# Matteo Zortea, Alessandro Rizzi  \n",
    "## Brain Inspired Computing, Sheet 2  \n",
    "## Group G3A8\n",
    "## Exercises solved  \n",
    "Ex 1: a) b)\n",
    "Ex 2:\n",
    "Ex 3:\n",
    "Ex 4:"
   ]
  },
  {
   "cell_type": "markdown",
   "metadata": {},
   "source": [
    "# Exercise 1\n",
    "## a)\n",
    "At time $t$ the probability of a channel beeing open is $x(t)$, hence the number of expected open channels at time $t$ is $s(t) = Nx(t)$, where $N$ is the total number of channels.  \n",
    "At time $t + \\Delta t$, some channels switch from opened to closed and vice-versa. This happen with the transition rates $$r_{cl \\to op} = \\alpha_x(u) \\\\ r_{op \\to cl} = \\beta_x(u)$$ so that the expected number of transitions from closed to opened and from opened to closed at time $t$ in a time intervals $\\delta T$ are respectively $$N_{cl \\to op} = (N-s(t)) \\,\\alpha(u) \\, \\Delta t = N(1-x(t)) \\, \\alpha(u) \\, \\Delta t \\\\ N_{op \\to cl} = s(t) \\, \\beta(u) \\, \\Delta t = Nx(t) \\, \\beta(u) \\, \\Delta t$$\n",
    "This means that $$s(t + \\Delta t) = s(t) + N_{cl \\to op} - N_{op \\to cl} = s(t) + \\left[ N(1-x(t)) \\, \\alpha(u) - Nx(t) \\, \\beta(u) \\right] \\Delta t$$\n",
    "so that $$\\frac{s(t+\\Delta t)-s(t)}{\\Delta t} = N \\left[(1-x(t)) \\, \\alpha(u) - x(t) \\, \\beta(u) \\right] $$\n",
    "Taking the limit $\\Delta t \\to 0$, remembering that $s(t) = N \\, x(t)$ one gets the equation for the evolution of the p.d.f. $$\\frac{dx(t)}{dt} = (1-x(t)) \\, \\alpha(u) - x(t) \\, \\beta(u) = \\alpha(u) - x(t) \\, \\left(\\alpha(u) + \\beta(u) \\right)$$\n",
    "or in short form $$\\dot x = \\alpha - x \\left(\\alpha + \\beta\\right) $$\n",
    "## b) \n",
    "One can simply take apart $\\alpha + \\beta$ from the last expression\n",
    "$$ \\dot x = (\\alpha + \\beta) \\left(\\frac{\\alpha}{\\alpha + \\beta} - x\\right) \\equiv \\frac{1}{\\tau} \\left( x_0 - x \\right)$$\n",
    "so that the required transformations are $\\tau = \\frac{1}{\\alpha + \\beta}$ and $x_0 = \\frac{\\alpha}{\\alpha + \\beta}$\n",
    "## c)\n"
   ]
  },
  {
   "cell_type": "markdown",
   "metadata": {},
   "source": [
    "## Exercise 2\n"
   ]
  },
  {
   "cell_type": "markdown",
   "metadata": {},
   "source": [
    "Parameters"
   ]
  },
  {
   "cell_type": "code",
   "execution_count": 48,
   "metadata": {},
   "outputs": [],
   "source": [
    "# Parameters\n",
    "dt = 0.01e-3 # ms\n",
    "T_run = 300e-3 # ms\n",
    "n0 = 0.3\n",
    "m0 = 0.1\n",
    "h0 = 0.6\n",
    "u0 = -65e-3 # V"
   ]
  },
  {
   "cell_type": "markdown",
   "metadata": {},
   "source": [
    "Transition rates\n"
   ]
  },
  {
   "cell_type": "code",
   "execution_count": 55,
   "metadata": {},
   "outputs": [],
   "source": [
    "# Transition rates\n",
    "#cl_to_op = lambda u: np.array([(-0.55-0.1*u*1e3)/(np.exp(-5.5-0.1*u*1e3) - 1), (-4-0.1*u*1e3)/(np.exp(-4.0-0.1*u*1e3) - 1), 0.007*np.exp(-(u*1e3+65)/20)])\n",
    "def cl_to_op(u_arr):\n",
    "    if isinstance(u_arr, (int, float)):\n",
    "        u_arr = [u_arr]\n",
    "    ret_arr = np.zeros((3, len(u_arr)))\n",
    "    for i,u in enumerate(u_arr):\n",
    "        if abs(-0.1*u*1e3 - 5.5) < 1e-1:\n",
    "            ret_arr[0,i] = (-0.55-0.01*u*1e3)/(-0.1*u*1e3 + 5.5 + 0.5*(0.1*0.1*u*u*1e6 + 5.5*5.5 - 2*0.1*5.5*u*1e3))\n",
    "        else:\n",
    "            ret_arr[0,i] = (-0.55-0.1*u*1e3)/(np.exp(-5.5-0.1*u*1e3) - 1)\n",
    "        ret_arr[1,i] = (-4-0.1*u*1e3)/(np.exp(-4.0-0.1*u*1e3) - 1)\n",
    "        ret_arr[2,i] = 0.007*np.exp(-(u*1e3+65)/20)\n",
    "    return ret_arr\n",
    "\n",
    "op_to_cl = lambda u: np.array([0.125*np.exp(-(u*1e3+65)/80), 4.0*np.exp(-(u*1e3+65)/18), 1/(np.exp(-3.5-0.1*u*1e3) + 1)])\n"
   ]
  },
  {
   "cell_type": "markdown",
   "metadata": {},
   "source": [
    "constants"
   ]
  },
  {
   "cell_type": "code",
   "execution_count": 56,
   "metadata": {},
   "outputs": [],
   "source": [
    "# Resting potentials\n",
    "E_Na = 50e-3 # V\n",
    "E_K = -77e-3 # V\n",
    "E_l = -54.4e-3 # V\n",
    "# Conductances\n",
    "g_Na = 120e-6 # S\n",
    "g_K = 36e-6 # S\n",
    "g_l = 0.3e-6 # S\n",
    "\n",
    "Cm = 1e-9 # F\n",
    "\n",
    "npoints = int(T_run/dt)"
   ]
  },
  {
   "cell_type": "markdown",
   "metadata": {},
   "source": [
    "functions"
   ]
  },
  {
   "cell_type": "code",
   "execution_count": 57,
   "metadata": {},
   "outputs": [],
   "source": [
    "import numpy as np \n",
    "# x0, tau\n",
    "get_x0 = lambda u: cl_to_op(u)/(cl_to_op(u)+op_to_cl(u))\n",
    "get_tau = lambda u: 1/(cl_to_op(u) + op_to_cl(u))\n",
    "\n",
    "def I_ext(t):\n",
    "    I = []\n",
    "    for tt in t:\n",
    "        n = int(tt/50e-3)\n",
    "        if n%2 == 0:\n",
    "            return 7.5e-9\n",
    "        else:\n",
    "            return 0\n",
    "\n",
    "# Differential equations\n",
    "def xdot(x, u, n):\n",
    "    return (1/tau[n]) * (x0[n] - x)\n",
    "def udot(u, t, n, m, h):\n",
    "    y = g_l*(E_l - u) + g_Na*m**3*h*(E_Na - u) + g_K*n**4*(E_K - u) + I_ext(t)\n",
    "    return y/Cm"
   ]
  },
  {
   "cell_type": "markdown",
   "metadata": {},
   "source": [
    "integration"
   ]
  },
  {
   "cell_type": "code",
   "execution_count": 58,
   "metadata": {},
   "outputs": [],
   "source": [
    "t = np.zeros((npoints, 1))\n",
    "x = np.zeros((npoints, 3))\n",
    "u = np.zeros((npoints, 1))\n",
    "x_old = np.zeros((3, 1))\n",
    "xdot_old = np.zeros((3,1))\n",
    "u_old = 0\n",
    "udot_old = 0\n",
    "t[0] = 0\n",
    "x[0,:] = [n0, m0, h0]\n",
    "u[0] = u0\n",
    "for i in range(npoints - 1):\n",
    "    tau = get_tau(u[i])\n",
    "    x0 = get_x0(u[i])\n",
    "    \n",
    "    for n in range(3):\n",
    "        #xdot_old[n] = xdot(x[i,n], u[i], n)\n",
    "        #x_old = x[i] + dt*x[i,n] + dt*xdot_old[n]\n",
    "        x[i+1,n] = x[i,n] + dt*xdot(x[i,n], u[i], n)\n",
    "    u[i+1] = u[i] + dt*udot(u[i], t[i], x[i,0], x[i,1], x[i,2])    \n",
    "    #udot_old = udot(u[i], t[i], x[i,0], x[i,1], x[i,2])\n",
    "    '''u[i+1] = u[i] + dt*udot(u[i], t[i], x[i,0], x[i,1], x[i,2])\n",
    "    for n in range(3):\n",
    "        x[i+1, n] = x_old[n] + 0.5*dt*(xdot_old[n] + xdot(x[i,n], u[i], n)) \n",
    "    u[i+1] = u[i] + 0.5*dt*(udot_old + udot(u[i], t[i], x[i,0], x[i,1], x[i,2]))'''\n",
    "    t[i+1] = t[i] + dt"
   ]
  },
  {
   "cell_type": "markdown",
   "metadata": {},
   "source": [
    "plotting"
   ]
  },
  {
   "cell_type": "code",
   "execution_count": 59,
   "metadata": {},
   "outputs": [
    {
     "data": {
      "image/png": "[encoded data removed]",
      "text/plain": [
       "<Figure size 432x288 with 1 Axes>"
      ]
     },
     "metadata": {
      "needs_background": "light"
     },
     "output_type": "display_data"
    },
    {
     "data": {
      "image/png": "[encoded data removed]",
      "text/plain": [
       "<Figure size 432x288 with 1 Axes>"
      ]
     },
     "metadata": {
      "needs_background": "light"
     },
     "output_type": "display_data"
    }
   ],
   "source": [
    "from matplotlib import pyplot as plt\n",
    "\n",
    "plt.plot(t, u)\n",
    "plt.show()\n",
    "\n",
    "\n",
    "uline = np.linspace(-0.1, 0.1, 10000)\n",
    "a = cl_to_op(uline)\n",
    "plt.plot(uline, a[0,:])\n",
    "plt.plot(uline, a[1,:])\n",
    "plt.plot(uline, a[2,:])\n",
    "plt.show()\n",
    "\n"
   ]
  },
  {
   "cell_type": "code",
   "execution_count": 46,
   "metadata": {},
   "outputs": [
    {
     "ename": "ValueError",
     "evalue": "x and y must have same first dimension, but have shapes (29999, 1) and (1,)",
     "output_type": "error",
     "traceback": [
      "\u001b[0;31m---------------------------------------------------------------------------\u001b[0m",
      "\u001b[0;31mValueError\u001b[0m                                Traceback (most recent call last)",
      "\u001b[0;32m/tmp/ipykernel_5438/49462562.py\u001b[0m in \u001b[0;36m<module>\u001b[0;34m\u001b[0m\n\u001b[0;32m----> 1\u001b[0;31m \u001b[0mplt\u001b[0m\u001b[0;34m.\u001b[0m\u001b[0mplot\u001b[0m\u001b[0;34m(\u001b[0m\u001b[0mt\u001b[0m\u001b[0;34m,\u001b[0m \u001b[0mI_ext\u001b[0m\u001b[0;34m(\u001b[0m\u001b[0mt\u001b[0m\u001b[0;34m)\u001b[0m\u001b[0;34m)\u001b[0m\u001b[0;34m\u001b[0m\u001b[0;34m\u001b[0m\u001b[0m\n\u001b[0m\u001b[1;32m      2\u001b[0m \u001b[0mplt\u001b[0m\u001b[0;34m.\u001b[0m\u001b[0mshow\u001b[0m\u001b[0;34m(\u001b[0m\u001b[0;34m)\u001b[0m\u001b[0;34m\u001b[0m\u001b[0;34m\u001b[0m\u001b[0m\n",
      "\u001b[0;32m~/.local/lib/python3.8/site-packages/matplotlib/pyplot.py\u001b[0m in \u001b[0;36mplot\u001b[0;34m(scalex, scaley, data, *args, **kwargs)\u001b[0m\n\u001b[1;32m   3017\u001b[0m \u001b[0;34m@\u001b[0m\u001b[0m_copy_docstring_and_deprecators\u001b[0m\u001b[0;34m(\u001b[0m\u001b[0mAxes\u001b[0m\u001b[0;34m.\u001b[0m\u001b[0mplot\u001b[0m\u001b[0;34m)\u001b[0m\u001b[0;34m\u001b[0m\u001b[0;34m\u001b[0m\u001b[0m\n\u001b[1;32m   3018\u001b[0m \u001b[0;32mdef\u001b[0m \u001b[0mplot\u001b[0m\u001b[0;34m(\u001b[0m\u001b[0;34m*\u001b[0m\u001b[0margs\u001b[0m\u001b[0;34m,\u001b[0m \u001b[0mscalex\u001b[0m\u001b[0;34m=\u001b[0m\u001b[0;32mTrue\u001b[0m\u001b[0;34m,\u001b[0m \u001b[0mscaley\u001b[0m\u001b[0;34m=\u001b[0m\u001b[0;32mTrue\u001b[0m\u001b[0;34m,\u001b[0m \u001b[0mdata\u001b[0m\u001b[0;34m=\u001b[0m\u001b[0;32mNone\u001b[0m\u001b[0;34m,\u001b[0m \u001b[0;34m**\u001b[0m\u001b[0mkwargs\u001b[0m\u001b[0;34m)\u001b[0m\u001b[0;34m:\u001b[0m\u001b[0;34m\u001b[0m\u001b[0;34m\u001b[0m\u001b[0m\n\u001b[0;32m-> 3019\u001b[0;31m     return gca().plot(\n\u001b[0m\u001b[1;32m   3020\u001b[0m         \u001b[0;34m*\u001b[0m\u001b[0margs\u001b[0m\u001b[0;34m,\u001b[0m \u001b[0mscalex\u001b[0m\u001b[0;34m=\u001b[0m\u001b[0mscalex\u001b[0m\u001b[0;34m,\u001b[0m \u001b[0mscaley\u001b[0m\u001b[0;34m=\u001b[0m\u001b[0mscaley\u001b[0m\u001b[0;34m,\u001b[0m\u001b[0;34m\u001b[0m\u001b[0;34m\u001b[0m\u001b[0m\n\u001b[1;32m   3021\u001b[0m         **({\"data\": data} if data is not None else {}), **kwargs)\n",
      "\u001b[0;32m~/.local/lib/python3.8/site-packages/matplotlib/axes/_axes.py\u001b[0m in \u001b[0;36mplot\u001b[0;34m(self, scalex, scaley, data, *args, **kwargs)\u001b[0m\n\u001b[1;32m   1603\u001b[0m         \"\"\"\n\u001b[1;32m   1604\u001b[0m         \u001b[0mkwargs\u001b[0m \u001b[0;34m=\u001b[0m \u001b[0mcbook\u001b[0m\u001b[0;34m.\u001b[0m\u001b[0mnormalize_kwargs\u001b[0m\u001b[0;34m(\u001b[0m\u001b[0mkwargs\u001b[0m\u001b[0;34m,\u001b[0m \u001b[0mmlines\u001b[0m\u001b[0;34m.\u001b[0m\u001b[0mLine2D\u001b[0m\u001b[0;34m)\u001b[0m\u001b[0;34m\u001b[0m\u001b[0;34m\u001b[0m\u001b[0m\n\u001b[0;32m-> 1605\u001b[0;31m         \u001b[0mlines\u001b[0m \u001b[0;34m=\u001b[0m \u001b[0;34m[\u001b[0m\u001b[0;34m*\u001b[0m\u001b[0mself\u001b[0m\u001b[0;34m.\u001b[0m\u001b[0m_get_lines\u001b[0m\u001b[0;34m(\u001b[0m\u001b[0;34m*\u001b[0m\u001b[0margs\u001b[0m\u001b[0;34m,\u001b[0m \u001b[0mdata\u001b[0m\u001b[0;34m=\u001b[0m\u001b[0mdata\u001b[0m\u001b[0;34m,\u001b[0m \u001b[0;34m**\u001b[0m\u001b[0mkwargs\u001b[0m\u001b[0;34m)\u001b[0m\u001b[0;34m]\u001b[0m\u001b[0;34m\u001b[0m\u001b[0;34m\u001b[0m\u001b[0m\n\u001b[0m\u001b[1;32m   1606\u001b[0m         \u001b[0;32mfor\u001b[0m \u001b[0mline\u001b[0m \u001b[0;32min\u001b[0m \u001b[0mlines\u001b[0m\u001b[0;34m:\u001b[0m\u001b[0;34m\u001b[0m\u001b[0;34m\u001b[0m\u001b[0m\n\u001b[1;32m   1607\u001b[0m             \u001b[0mself\u001b[0m\u001b[0;34m.\u001b[0m\u001b[0madd_line\u001b[0m\u001b[0;34m(\u001b[0m\u001b[0mline\u001b[0m\u001b[0;34m)\u001b[0m\u001b[0;34m\u001b[0m\u001b[0;34m\u001b[0m\u001b[0m\n",
      "\u001b[0;32m~/.local/lib/python3.8/site-packages/matplotlib/axes/_base.py\u001b[0m in \u001b[0;36m__call__\u001b[0;34m(self, data, *args, **kwargs)\u001b[0m\n\u001b[1;32m    313\u001b[0m                 \u001b[0mthis\u001b[0m \u001b[0;34m+=\u001b[0m \u001b[0margs\u001b[0m\u001b[0;34m[\u001b[0m\u001b[0;36m0\u001b[0m\u001b[0;34m]\u001b[0m\u001b[0;34m,\u001b[0m\u001b[0;34m\u001b[0m\u001b[0;34m\u001b[0m\u001b[0m\n\u001b[1;32m    314\u001b[0m                 \u001b[0margs\u001b[0m \u001b[0;34m=\u001b[0m \u001b[0margs\u001b[0m\u001b[0;34m[\u001b[0m\u001b[0;36m1\u001b[0m\u001b[0;34m:\u001b[0m\u001b[0;34m]\u001b[0m\u001b[0;34m\u001b[0m\u001b[0;34m\u001b[0m\u001b[0m\n\u001b[0;32m--> 315\u001b[0;31m             \u001b[0;32myield\u001b[0m \u001b[0;32mfrom\u001b[0m \u001b[0mself\u001b[0m\u001b[0;34m.\u001b[0m\u001b[0m_plot_args\u001b[0m\u001b[0;34m(\u001b[0m\u001b[0mthis\u001b[0m\u001b[0;34m,\u001b[0m \u001b[0mkwargs\u001b[0m\u001b[0;34m)\u001b[0m\u001b[0;34m\u001b[0m\u001b[0;34m\u001b[0m\u001b[0m\n\u001b[0m\u001b[1;32m    316\u001b[0m \u001b[0;34m\u001b[0m\u001b[0m\n\u001b[1;32m    317\u001b[0m     \u001b[0;32mdef\u001b[0m \u001b[0mget_next_color\u001b[0m\u001b[0;34m(\u001b[0m\u001b[0mself\u001b[0m\u001b[0;34m)\u001b[0m\u001b[0;34m:\u001b[0m\u001b[0;34m\u001b[0m\u001b[0;34m\u001b[0m\u001b[0m\n",
      "\u001b[0;32m~/.local/lib/python3.8/site-packages/matplotlib/axes/_base.py\u001b[0m in \u001b[0;36m_plot_args\u001b[0;34m(self, tup, kwargs, return_kwargs)\u001b[0m\n\u001b[1;32m    499\u001b[0m \u001b[0;34m\u001b[0m\u001b[0m\n\u001b[1;32m    500\u001b[0m         \u001b[0;32mif\u001b[0m \u001b[0mx\u001b[0m\u001b[0;34m.\u001b[0m\u001b[0mshape\u001b[0m\u001b[0;34m[\u001b[0m\u001b[0;36m0\u001b[0m\u001b[0;34m]\u001b[0m \u001b[0;34m!=\u001b[0m \u001b[0my\u001b[0m\u001b[0;34m.\u001b[0m\u001b[0mshape\u001b[0m\u001b[0;34m[\u001b[0m\u001b[0;36m0\u001b[0m\u001b[0;34m]\u001b[0m\u001b[0;34m:\u001b[0m\u001b[0;34m\u001b[0m\u001b[0;34m\u001b[0m\u001b[0m\n\u001b[0;32m--> 501\u001b[0;31m             raise ValueError(f\"x and y must have same first dimension, but \"\n\u001b[0m\u001b[1;32m    502\u001b[0m                              f\"have shapes {x.shape} and {y.shape}\")\n\u001b[1;32m    503\u001b[0m         \u001b[0;32mif\u001b[0m \u001b[0mx\u001b[0m\u001b[0;34m.\u001b[0m\u001b[0mndim\u001b[0m \u001b[0;34m>\u001b[0m \u001b[0;36m2\u001b[0m \u001b[0;32mor\u001b[0m \u001b[0my\u001b[0m\u001b[0;34m.\u001b[0m\u001b[0mndim\u001b[0m \u001b[0;34m>\u001b[0m \u001b[0;36m2\u001b[0m\u001b[0;34m:\u001b[0m\u001b[0;34m\u001b[0m\u001b[0;34m\u001b[0m\u001b[0m\n",
      "\u001b[0;31mValueError\u001b[0m: x and y must have same first dimension, but have shapes (29999, 1) and (1,)"
     ]
    },
    {
     "data": {
      "image/png": "[encoded data removed]",
      "text/plain": [
       "<Figure size 432x288 with 1 Axes>"
      ]
     },
     "metadata": {
      "needs_background": "light"
     },
     "output_type": "display_data"
    }
   ],
   "source": [
    "plt.plot(t, I_ext(t))\n",
    "plt.show()"
   ]
  },
  {
   "cell_type": "code",
   "execution_count": null,
   "metadata": {},
   "outputs": [],
   "source": []
  }
 ],
 "metadata": {
  "interpreter": {
   "hash": "916dbcbb3f70747c44a77c7bcd40155683ae19c65e1c03b4aa3499c5328201f1"
  },
  "kernelspec": {
   "display_name": "Python 3.8.10 64-bit",
   "language": "python",
   "name": "python3"
  },
  "language_info": {
   "codemirror_mode": {
    "name": "ipython",
    "version": 3
   },
   "file_extension": ".py",
   "mimetype": "text/x-python",
   "name": "python",
   "nbconvert_exporter": "python",
   "pygments_lexer": "ipython3",
   "version": "3.8.10"
  },
  "orig_nbformat": 4
 },
 "nbformat": 4,
 "nbformat_minor": 2
}
