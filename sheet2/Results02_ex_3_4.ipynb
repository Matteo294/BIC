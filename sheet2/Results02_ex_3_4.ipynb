{
 "cells": [
  {
   "cell_type": "markdown",
   "metadata": {},
   "source": [
    "# Exercise 3\n",
    "\n",
    "With a constant value of the external current, we can solve the differential equation for the membrane potential $u$:\n",
    "$$C_m \\frac{du}{dt} = g_l(E_l-u)+I_\\text{ext}.$$\n",
    "We proceed separing the variables\n",
    "$$\\frac{du}{u-E_l-I_\\text{ext}/g_l} = - \\frac{g_l}{C_m}dt,$$\n",
    "and then integrating both sides we obtain the solution $u(t)$:\n",
    "$$u(t) = E_l+\\frac{I_\\text{ext}}{g_l} + Ae^{-\\frac{t}{\\tau_m}},$$\n",
    "where A is a constant to be determined by the initial conditions, and $\\tau_m = C_m/g_l$ is the membrane time constant.\n",
    "\n",
    "We want to calculate the firing rate, i.e. the number of spikes per time unit of the neuron. To simplify our task, we choose to set the origin of time $t=0$ immeadeatly after a spike, i.e. we apply the initial condition $u(0) = E_\\text{reset}$. With this condition we find that $A = E_\\text{reset} - E_l - I_\\text{ext}/g_l$.\n",
    "\n",
    "We now want to compute the time $\\tau_\\text{spike}$ needed to elicit a spike, i.e. to reach the treshold value $\\Theta$. \n",
    "$$ u(\\tau_\\text{spike}) = \\Theta \\xrightarrow{} \\tau_\\text{spike} = -\\tau_m \\ln\\Biggl(\\frac{\\Theta-E_l-I_\\text{ext}/g_l}{E_\\text{reset}-E_l - I_\\text{ext}/g_l}\\Biggr)$$\n",
    "In the LIF neuron, after having reached the treshold, it follows an absolute refractary period $\\tau_\\text{ref}$, and then we are again at $u = E_\\text{reset}$, and the mechanism repeat. Thus, the firing rate is:\n",
    "$$\\nu(I_\\text{ext}) = \\frac{1}{\\tau_\\text{ref}+\\tau_\\text{spike}} = \\Biggl[\\tau_\\text{ref} + \\tau_m \\ln\\Biggl(\\frac{\\Theta-E_l-I_\\text{ext}/g_l}{E_\\text{reset}-E_l - I_\\text{ext}/g_l}\\Biggr) \\Biggr]^{-1} $$\n"
   ]
  },
  {
   "cell_type": "markdown",
   "metadata": {},
   "source": [
    "# Exercise 4\n",
    "Setting $\\tau_\\text{ref} = 0$ and expanding the logarithm at the second order, we obtain:\n",
    "$$\n",
    "\\nu_\\text{asy}(I_\\text{ext}) \\sim\n",
    "\\frac{1}{\\tau_m} \\Biggl[ \\frac{g_l}{I_\\text{ext}}(\\Theta- E_\\text{reset}) - \n",
    "\\frac{g_l^2}{I_\\text{ext}^2} \\Biggl( E_\\text{reset}^2 - \\Theta^2 +2E_l(\\Theta-E_\\text{reset})\\Biggr) + o\\Biggl(\\frac{1}{I_\\text{ext}^2}\\Biggr) \\Biggr]^{-1} = \\\\\n",
    "= \\frac{1}{\\tau_m (\\Theta- E_\\text{reset})}\\frac{I_\\text{ext}}{g_l} \n",
    "\\Biggl[ 1 -  \\frac{g_l}{I_\\text{ext}}  \\frac{E_\\text{reset}^2 - \\Theta^2 +2E_l(\\Theta-E_\\text{reset})}{\\Theta- E_\\text{reset}} + o\\Biggl(\\frac{1}{I_\\text{ext}}\\Biggr) \\Biggr]^{-1}\n",
    "$$\n",
    "Expanding now the denominator at the first order we find the result:\n",
    "$$\n",
    "\\nu_\\text{asy}(I_\\text{ext}) \\sim \\frac{1}{\\tau_m (\\Theta- E_\\text{reset})}\\frac{I_\\text{ext}}{g_l} + \\frac{E_\\text{reset}^2 - \\Theta^2 +2E_l(\\Theta-E_\\text{reset})}{\\tau_m(\\Theta- E_\\text{reset})^2}\n",
    "$$\n"
   ]
  },
  {
   "cell_type": "code",
   "execution_count": null,
   "metadata": {},
   "outputs": [],
   "source": []
  }
 ],
 "metadata": {
  "kernelspec": {
   "display_name": "Python 3",
   "language": "python",
   "name": "python3"
  },
  "language_info": {
   "codemirror_mode": {
    "name": "ipython",
    "version": 3
   },
   "file_extension": ".py",
   "mimetype": "text/x-python",
   "name": "python",
   "nbconvert_exporter": "python",
   "pygments_lexer": "ipython3",
   "version": "3.7.6"
  }
 },
 "nbformat": 4,
 "nbformat_minor": 4
}
