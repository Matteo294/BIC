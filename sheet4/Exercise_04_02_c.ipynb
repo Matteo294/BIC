{
 "cells": [
  {
   "cell_type": "code",
   "execution_count": 1,
   "metadata": {},
   "outputs": [],
   "source": [
    "import numpy as np\n",
    "import matplotlib.pyplot as plt\n",
    "%matplotlib inline\n",
    "from scipy.special import expit"
   ]
  },
  {
   "cell_type": "code",
   "execution_count": 2,
   "metadata": {},
   "outputs": [],
   "source": [
    "def propagate(X, V, W, b):\n",
    "    if isinstance(X, (int, float)):\n",
    "        X = np.array([X])\n",
    "    U1 = np.einsum(\"ij,j->i\", V, X) + b\n",
    "    Z = f_act(U1)\n",
    "    U2 = np.einsum(\"ij,j->i\", W, Z)\n",
    "    Y = U2\n",
    "    return Y, Z, U1, U2\n",
    "\n",
    "def backpropagate(X, YT, V, W, b):\n",
    "    Y, Z, U1, U2 = propagate(X, V, W, b)\n",
    "    # output layer\n",
    "    ##########################################\n",
    "    delta3 = -(Y - YT) # error layer 3\n",
    "    delta2 = np.einsum(\"ij,i->j\", W, delta3) * f_act_prime(U1) # error layer 2\n",
    "    dW = np.einsum(\"i,j->ij\", delta3, Z)\n",
    "    dV = np.einsum(\"i,j->ij\", delta2, X)\n",
    "    db = delta2              \n",
    "    ##########################################\n",
    "    return db, dV, dW, Cost(Y,YT)\n",
    "\n",
    "\n",
    "relu = lambda v: np.maximum(v, 0.0)\n",
    "relu_prime = lambda v: np.where(v>0.0, np.ones_like(v), np.zeros_like(v))\n",
    "expit_derivative = lambda x: expit(x) * (1-expit(x))\n",
    "f_act = expit\n",
    "f_act_prime = expit_derivative\n",
    "\n",
    "Cost = lambda Y, YT: 1./2. * np.mean((Y - YT)**2)\n"
   ]
  },
  {
   "cell_type": "code",
   "execution_count": 3,
   "metadata": {},
   "outputs": [],
   "source": [
    "def train(X, YT, V, W, b, niter=10000, base_lr=0.2):\n",
    "    \"\"\"\n",
    "    data                             X\n",
    "    target values                    YT\n",
    "    input->hidden weights            V\n",
    "    hidden->output weights           W\n",
    "    hidden biases                    b\n",
    "    number of training iterations    niter\n",
    "    learning rate                    base_lr\n",
    "    \"\"\"\n",
    "    SEED = 734589\n",
    "    np.random.seed(SEED)\n",
    "\n",
    "    K = len(b)\n",
    "    eta = base_lr / K\n",
    "    mu = 0.5\n",
    "    T = np.random.randint(0, len(X), niter)\n",
    "\n",
    "    cost = np.zeros(len(T))\n",
    "    # prepare momentum term variables\n",
    "    delta_W = np.zeros((1, K))\n",
    "    delta_b = np.zeros(K)\n",
    "    delta_V = np.zeros((K, 1))\n",
    "\n",
    "    for run, inp in enumerate(T):\n",
    "        if isinstance(X[inp], (int, float)):\n",
    "            db, dV, dW, cost[run] = backpropagate([X[inp]], YT[inp], V, W, b)\n",
    "        else:\n",
    "            db, dV, dW, cost[run] = backpropagate(X[inp], YT[inp], V, W, b)\n",
    "        # calculate weight update with momentum\n",
    "        # instead of applying the gradients directly\n",
    "        # this applies a low-pass filtered version\n",
    "        # which smooths out the updates and helps\n",
    "        # stabilise the training\n",
    "        # https://en.wikipedia.org/wiki/Stochastic_gradient_descent#Momentum\n",
    "        delta_b = (1.-mu) * db + mu * delta_b\n",
    "        delta_V = (1.-mu) * dV + mu * delta_V\n",
    "        delta_W = (1.-mu) * dW + mu * delta_W\n",
    "        # update weights\n",
    "        b += eta * delta_b\n",
    "        V += eta * delta_V\n",
    "        W += eta * delta_W\n",
    "    \n",
    "    return V, W, b, cost"
   ]
  },
  {
   "cell_type": "code",
   "execution_count": 4,
   "metadata": {},
   "outputs": [
    {
     "data": {
      "text/plain": [
       "'\\nV = np.array([[1.0, 0.0], [1.0, 1.0], [0.0, 1.0]])\\nW = np.array([[1.05, -2.0, 1.0]])\\nb = np.array([0.0, -1.0, 0.0])\\n'"
      ]
     },
     "execution_count": 4,
     "metadata": {},
     "output_type": "execute_result"
    }
   ],
   "source": [
    "data = np.load(\"resources/func_approx_training.npz\")\n",
    "X = data['X']\n",
    "YT = data['Y']\n",
    "K = 40\n",
    "\n",
    "V = np.random.normal(0., 1., (K,1))\n",
    "W = np.random.normal(0., 1., (1,K))\n",
    "b = np.random.normal(0., 1., K)\n",
    "'''\n",
    "V = np.array([[1.0, 0.0], [1.0, 1.0], [0.0, 1.0]])\n",
    "W = np.array([[1.05, -2.0, 1.0]])\n",
    "b = np.array([0.0, -1.0, 0.0])\n",
    "'''"
   ]
  },
  {
   "cell_type": "code",
   "execution_count": 5,
   "metadata": {},
   "outputs": [
    {
     "data": {
      "image/png": "[encoded data removed]",
      "text/plain": [
       "<Figure size 432x288 with 1 Axes>"
      ]
     },
     "metadata": {
      "needs_background": "light"
     },
     "output_type": "display_data"
    },
    {
     "data": {
      "image/png": "[encoded data removed]",
      "text/plain": [
       "<Figure size 432x288 with 1 Axes>"
      ]
     },
     "metadata": {
      "needs_background": "light"
     },
     "output_type": "display_data"
    }
   ],
   "source": [
    "V, W, b, cost = train(X, YT, V, W, b, niter=int(1e6))\n",
    "avgcost = [np.mean(cost[n-10:n+10]) for n in range(10, len(cost)-10)]\n",
    "plt.plot(range(int(1e6)), cost)\n",
    "plt.show()\n",
    "\n",
    "yval = []\n",
    "for xval in X:\n",
    "    yval.append(propagate(xval, V, W, b)[0])\n",
    "\n",
    "plt.plot(X, YT)\n",
    "plt.plot(X, yval)\n",
    "plt.show()"
   ]
  },
  {
   "cell_type": "code",
   "execution_count": null,
   "metadata": {},
   "outputs": [],
   "source": []
  }
 ],
 "metadata": {
  "kernelspec": {
   "display_name": "Python 3",
   "language": "python",
   "name": "python3"
  },
  "language_info": {
   "codemirror_mode": {
    "name": "ipython",
    "version": 3
   },
   "file_extension": ".py",
   "mimetype": "text/x-python",
   "name": "python",
   "nbconvert_exporter": "python",
   "pygments_lexer": "ipython3",
   "version": "3.6.9"
  }
 },
 "nbformat": 4,
 "nbformat_minor": 4
}
