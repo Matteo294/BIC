{
 "cells": [
  {
   "cell_type": "code",
   "execution_count": 1,
   "metadata": {},
   "outputs": [],
   "source": [
    "import numpy as np\n",
    "import matplotlib.pyplot as plt\n",
    "from scipy.special import expit"
   ]
  },
  {
   "cell_type": "code",
   "execution_count": 2,
   "metadata": {},
   "outputs": [],
   "source": [
    "def propagate(X, V, W, b):\n",
    "    U1 = np.dot(V, X.T).T + b\n",
    "    Z = f_act(U1)\n",
    "    U2 =  np.dot(W, Z.T).T\n",
    "    Y = U2\n",
    "    return Y, Z, U1, U2\n",
    "\n",
    "def backpropagate(X, YT, V, W, b):\n",
    "    Y, Z, U1, U2 = propagate(X, V, W, b)\n",
    "    # output layer\n",
    "    ##########################################\n",
    "    delta3 = -(Y - YT) # error layer 3\n",
    "    delta2 = np.einsum(\"ij,i->j\", W, delta3) * f_act_prime(U1) # error layer 2\n",
    "    dW = np.einsum(\"i,j->ij\", delta3, Z)\n",
    "    dV = np.einsum(\"i,j->ij\", delta2, X)\n",
    "    db = delta2              \n",
    "    ##########################################\n",
    "    return db, dV, dW, Cost(Y,YT)\n",
    "\n",
    "relu = lambda v: np.maximum(v, 0.0)\n",
    "relu_prime = lambda v: np.where(v>0.0, np.ones_like(v), np.zeros_like(v))\n",
    "f_act = relu\n",
    "f_act_prime = relu_prime\n",
    "\n",
    "Cost = lambda Y, YT: 1./2. * np.mean((Y - YT)**2)\n"
   ]
  },
  {
   "cell_type": "code",
   "execution_count": 3,
   "metadata": {},
   "outputs": [],
   "source": [
    "def train(X, YT, V, W, b, niter=10000, base_lr=0.2):\n",
    "    \"\"\"\n",
    "    data                             X\n",
    "    target values                    YT\n",
    "    input->hidden weights            V\n",
    "    hidden->output weights           W\n",
    "    hidden biases                    b\n",
    "    number of training iterations    niter\n",
    "    learning rate                    base_lr\n",
    "    \"\"\"\n",
    "    SEED = 734589\n",
    "    np.random.seed(SEED)\n",
    "\n",
    "    K = len(b)\n",
    "    eta = base_lr / K\n",
    "    mu = 0.5\n",
    "    T = np.random.randint(0, len(X), niter)\n",
    "\n",
    "    cost = np.zeros(len(T))\n",
    "    # prepare momentum term variables\n",
    "    delta_W = np.zeros((1, K))\n",
    "    delta_b = np.zeros(K)\n",
    "    delta_V = np.zeros((K, 1))\n",
    "\n",
    "    for run, inp in enumerate(T):\n",
    "        db, dV, dW, cost[run] = backpropagate(X[inp], YT[inp], V, W, b)\n",
    "\n",
    "        # calculate weight update with momentum\n",
    "        # instead of applying the gradients directly\n",
    "        # this applies a low-pass filtered version\n",
    "        # which smooths out the updates and helps\n",
    "        # stabilise the training\n",
    "        # https://en.wikipedia.org/wiki/Stochastic_gradient_descent#Momentum\n",
    "        delta_b = (1.-mu) * db + mu * delta_b\n",
    "        delta_V = (1.-mu) * dV + mu * delta_V\n",
    "        delta_W = (1.-mu) * dW + mu * delta_W\n",
    "        # update weights\n",
    "        b += eta * delta_b\n",
    "        V += eta * delta_V\n",
    "        W += eta * delta_W\n",
    "    \n",
    "    return V, W, b, cost"
   ]
  },
  {
   "cell_type": "code",
   "execution_count": 4,
   "metadata": {},
   "outputs": [],
   "source": [
    "data = np.load(\"resources/xor_data.npz\")\n",
    "X = data['inp']\n",
    "YT = data['out']\n",
    "\n",
    "V = np.array([[1.0, 0.0], [1.0, 1.0], [0.0, 1.0]])\n",
    "W = np.array([[1.05, -2.0, 1.0]])\n",
    "b = np.array([0.0, -1.0, 0.0])\n",
    "# Coopy array values for comparison at the end\n",
    "V0 = np.copy(V)\n",
    "W0 = np.copy(W)\n",
    "b0 = np.copy(b)"
   ]
  },
  {
   "cell_type": "markdown",
   "metadata": {},
   "source": [
    "Let us train and test the network"
   ]
  },
  {
   "cell_type": "code",
   "execution_count": 5,
   "metadata": {},
   "outputs": [],
   "source": [
    "niter = 10000\n",
    "V,W,b,cost = train(X, YT, V, W, b, niter=niter)"
   ]
  },
  {
   "cell_type": "markdown",
   "metadata": {},
   "source": [
    "The following outputs are the relative variations of the coefficients before and after the training"
   ]
  },
  {
   "cell_type": "code",
   "execution_count": 6,
   "metadata": {},
   "outputs": [
    {
     "name": "stdout",
     "output_type": "stream",
     "text": [
      "Relative variations of W: [[0.00929962 0.00076928 0.00078588]]\n",
      "Relative variations of V: [[0.01028816        inf]\n",
      " [0.00703508 0.00158615]\n",
      " [       inf 0.00078898]]\n",
      "Relative variations of b: [       inf 0.00237328        inf]\n",
      "Average cost first 100 iterations: 3.0245588890923675e-05\n",
      "Average cost last 100 iterations: 1.1846558889980788e-32\n"
     ]
    },
    {
     "name": "stderr",
     "output_type": "stream",
     "text": [
      "/opt/app-root/lib/python3.6/site-packages/ipykernel_launcher.py:2: RuntimeWarning: divide by zero encountered in true_divide\n",
      "  \n",
      "/opt/app-root/lib/python3.6/site-packages/ipykernel_launcher.py:3: RuntimeWarning: divide by zero encountered in true_divide\n",
      "  This is separate from the ipykernel package so we can avoid doing imports until\n"
     ]
    }
   ],
   "source": [
    "print(\"Relative variations of W:\", np.abs((W0-W)/W0))\n",
    "print(\"Relative variations of V:\", np.abs((V0-V)/V0))\n",
    "print(\"Relative variations of b:\", np.abs((b0-b)/b0))\n",
    "print(\"Average cost first 100 iterations:\", np.mean(cost[:100]))\n",
    "print(\"Average cost last 100 iterations:\", np.mean(cost[-100:]))"
   ]
  },
  {
   "cell_type": "markdown",
   "metadata": {},
   "source": [
    "A plot of the cost during the training"
   ]
  },
  {
   "cell_type": "code",
   "execution_count": 7,
   "metadata": {},
   "outputs": [
    {
     "data": {
      "image/png": "[encoded data removed]",
      "text/plain": [
       "<Figure size 432x288 with 1 Axes>"
      ]
     },
     "metadata": {
      "needs_background": "light"
     },
     "output_type": "display_data"
    }
   ],
   "source": [
    "from matplotlib import pyplot as plt\n",
    "%matplotlib inline\n",
    "\n",
    "plt.plot(range(niter), cost)\n",
    "plt.show()"
   ]
  },
  {
   "cell_type": "markdown",
   "metadata": {},
   "source": [
    "Let us now vary one initial weight and let us re-run the training"
   ]
  },
  {
   "cell_type": "code",
   "execution_count": 11,
   "metadata": {},
   "outputs": [],
   "source": [
    "W[0,0] = 2\n",
    "W0[0,0] = 2"
   ]
  },
  {
   "cell_type": "code",
   "execution_count": 12,
   "metadata": {},
   "outputs": [],
   "source": [
    "V,W,b,cost = train(X, YT, V, W, b, niter=niter)"
   ]
  },
  {
   "cell_type": "markdown",
   "metadata": {},
   "source": [
    "Relative variation of the coefficients"
   ]
  },
  {
   "cell_type": "code",
   "execution_count": 13,
   "metadata": {},
   "outputs": [
    {
     "name": "stdout",
     "output_type": "stream",
     "text": [
      "Relative variations of W: [[0.03513603 0.00809889 0.01645001]]\n",
      "Relative variations of V: [[0.14518237        inf]\n",
      " [0.14087037 0.03669004]\n",
      " [       inf 0.01743937]]\n",
      "Relative variations of b: [       inf 0.05364089        inf]\n",
      "Average cost first 100 iterations: 0.007099955756029135\n",
      "Average cost last 100 iterations: 2.470287297376848e-32\n"
     ]
    },
    {
     "name": "stderr",
     "output_type": "stream",
     "text": [
      "/opt/app-root/lib/python3.6/site-packages/ipykernel_launcher.py:2: RuntimeWarning: divide by zero encountered in true_divide\n",
      "  \n",
      "/opt/app-root/lib/python3.6/site-packages/ipykernel_launcher.py:3: RuntimeWarning: divide by zero encountered in true_divide\n",
      "  This is separate from the ipykernel package so we can avoid doing imports until\n"
     ]
    }
   ],
   "source": [
    "print(\"Relative variations of W:\", np.abs((W0-W)/W0))\n",
    "print(\"Relative variations of V:\", np.abs((V0-V)/V0))\n",
    "print(\"Relative variations of b:\", np.abs((b0-b)/b0))\n",
    "print(\"Average cost first 100 iterations:\", np.mean(cost[:100]))\n",
    "print(\"Average cost last 100 iterations:\", np.mean(cost[-100:]))"
   ]
  },
  {
   "cell_type": "markdown",
   "metadata": {},
   "source": [
    "Plot of the cost durin the training"
   ]
  },
  {
   "cell_type": "code",
   "execution_count": 14,
   "metadata": {},
   "outputs": [
    {
     "data": {
      "image/png": "[encoded data removed]",
      "text/plain": [
       "<Figure size 432x288 with 1 Axes>"
      ]
     },
     "metadata": {
      "needs_background": "light"
     },
     "output_type": "display_data"
    }
   ],
   "source": [
    "plt.plot(range(niter), cost)\n",
    "plt.show()"
   ]
  },
  {
   "cell_type": "code",
   "execution_count": null,
   "metadata": {},
   "outputs": [],
   "source": []
  }
 ],
 "metadata": {
  "kernelspec": {
   "display_name": "Python 3",
   "language": "python",
   "name": "python3"
  },
  "language_info": {
   "codemirror_mode": {
    "name": "ipython",
    "version": 3
   },
   "file_extension": ".py",
   "mimetype": "text/x-python",
   "name": "python",
   "nbconvert_exporter": "python",
   "pygments_lexer": "ipython3",
   "version": "3.6.9"
  }
 },
 "nbformat": 4,
 "nbformat_minor": 4
}
