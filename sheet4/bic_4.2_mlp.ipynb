{
 "cells": [
  {
   "cell_type": "code",
   "execution_count": 1,
   "metadata": {},
   "outputs": [],
   "source": [
    "import numpy as np\n",
    "import matplotlib.pyplot as plt\n",
    "from scipy.special import expit"
   ]
  },
  {
   "cell_type": "code",
   "execution_count": 2,
   "metadata": {},
   "outputs": [],
   "source": [
    "def propagate(X, V, W, b):\n",
    "    U1 = np.dot(V, X.T).T + b\n",
    "    Z = f_act(U1)\n",
    "    U2 =  np.dot(W, Z.T).T\n",
    "    Y = U2\n",
    "    return Y, Z, U1, U2\n",
    "\n",
    "def backpropagate(X, YT, V, W, b):\n",
    "    Y, Z, U1, U2 = propagate(X, V, W, b)\n",
    "    # output layer\n",
    "    ##########################################\n",
    "    # replace with a backprop implementation #\n",
    "    dW = np.zeros_like(W)                    #\n",
    "    dV = np.zeros_like(V)                    #\n",
    "    db = np.zeros_like(b)                    #\n",
    "    ##########################################\n",
    "    return db, dV, dW, Cost(Y,YT)\n",
    "\n",
    "relu = lambda v: np.maximum(v, 0.0)\n",
    "relu_prime = lambda v: np.where(v>0.0, np.ones_like(v), np.zeros_like(v))\n",
    "f_act = relu\n",
    "f_act_prime = relu_prime\n",
    "\n",
    "Cost = lambda Y, YT: 1./2. * np.mean((Y - YT)**2)\n"
   ]
  },
  {
   "cell_type": "code",
   "execution_count": 3,
   "metadata": {},
   "outputs": [],
   "source": [
    "def train(X, YT, V, W, b, niter=10000, base_lr=0.2):\n",
    "    \"\"\"\n",
    "    data                             X\n",
    "    target values                    YT\n",
    "    input->hidden weights            V\n",
    "    hidden->output weights           W\n",
    "    hidden biases                    b\n",
    "    number of training iterations    niter\n",
    "    learning rate                    base_lr\n",
    "    \"\"\"\n",
    "    SEED = 734589\n",
    "    np.random.seed(SEED)\n",
    "\n",
    "    K = len(b)\n",
    "    eta = base_lr / K\n",
    "    mu = 0.5\n",
    "    T = np.random.randint(0, len(X), niter)\n",
    "\n",
    "    cost = np.zeros(len(T))\n",
    "    # prepare momentum term variables\n",
    "    delta_W = np.zeros((1, K))\n",
    "    delta_b = np.zeros(K)\n",
    "    delta_V = np.zeros((K, 1))\n",
    "\n",
    "    for run, inp in enumerate(T):\n",
    "        db, dV, dW, cost[run] = backpropagate(X[inp], YT[inp], V, W, b)\n",
    "\n",
    "        # calculate weight update with momentum\n",
    "        # instead of applying the gradients directly\n",
    "        # this applies a low-pass filtered version\n",
    "        # which smooths out the updates and helps\n",
    "        # stabilise the training\n",
    "        # https://en.wikipedia.org/wiki/Stochastic_gradient_descent#Momentum\n",
    "        delta_b = (1.-mu) * db + mu * delta_b\n",
    "        delta_V = (1.-mu) * dV + mu * delta_V\n",
    "        delta_W = (1.-mu) * dW + mu * delta_W\n",
    "        # update weights\n",
    "        b += eta * delta_b\n",
    "        V += eta * delta_V\n",
    "        W += eta * delta_W\n",
    "    \n",
    "    return V, W, b, cost"
   ]
  },
  {
   "cell_type": "code",
   "execution_count": 4,
   "metadata": {},
   "outputs": [],
   "source": [
    "data = np.load(\"xor_data.npz\")\n",
    "X = data['inp']\n",
    "YT = data['out']\n",
    "\n",
    "V = np.array([[1.0, 0.0], [1.0, 1.0], [0.0, 1.0]])\n",
    "W = np.array([[1.05, -2.0, 1.0]])\n",
    "b = np.array([0.0, -1.0, 0.0])"
   ]
  }
 ],
 "metadata": {
  "kernelspec": {
   "display_name": "Python 3",
   "language": "python",
   "name": "python3"
  },
  "language_info": {
   "codemirror_mode": {
    "name": "ipython",
    "version": 3
   },
   "file_extension": ".py",
   "mimetype": "text/x-python",
   "name": "python",
   "nbconvert_exporter": "python",
   "pygments_lexer": "ipython3",
   "version": "3.8.7"
  }
 },
 "nbformat": 4,
 "nbformat_minor": 4
}
