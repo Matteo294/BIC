{
 "cells": [
  {
   "cell_type": "markdown",
   "metadata": {},
   "source": []
  },
  {
   "cell_type": "code",
   "execution_count": 30,
   "metadata": {},
   "outputs": [],
   "source": [
    "import numpy as np\r\n",
    "import matplotlib.pyplot as plt"
   ]
  },
  {
   "cell_type": "code",
   "execution_count": 31,
   "metadata": {},
   "outputs": [],
   "source": [
    "# Heaviside\r\n",
    "def Hvs(t, ti):\r\n",
    "    if t > ti:\r\n",
    "        output = 1.\r\n",
    "    else:\r\n",
    "        output = 0.\r\n",
    "    return output"
   ]
  },
  {
   "cell_type": "code",
   "execution_count": 32,
   "metadata": {},
   "outputs": [],
   "source": [
    "# LIF neuron with CuBa synapse\r\n",
    "def lif_cuba(t, tau_m, tau_s, cm, t_n1, t_n2, t_n3, w_n1, w_n2, w_n3):\r\n",
    "\r\n",
    "    # neurons\r\n",
    "    n1 = w_n1 * Hvs(t, t_n1) * ( np.exp( (t_n1 - t) / tau_m)  - np.exp( (t_n1 - t) / tau_s) )\r\n",
    "    n2 = w_n2 * Hvs(t, t_n2) * ( np.exp( (t_n2 - t) / tau_m)  - np.exp( (t_n2 - t) / tau_s) )\r\n",
    "    n3 = w_n3 * Hvs(t, t_n3) * ( np.exp( (t_n3 - t) / tau_m)  - np.exp( (t_n3 - t) / tau_s) )\r\n",
    "\r\n",
    "    # normal case\r\n",
    "    if tau_s != tau_m:\r\n",
    "        prefix = tau_m * tau_s / ( cm * (tau_m - tau_s))   \r\n",
    "        output = prefix * (n1 + n2 + n3)\r\n",
    "    \r\n",
    "    # special case, use l'hospital (see results_06_02_l_hospital.pdf)\r\n",
    "    if tau_s == tau_m:\r\n",
    "        n1_dtau_s = w_n1 * Hvs(t, t_n1) * ( (t_n1 - t) / tau_s**2 * np.exp( (t_n1 - t) / tau_s) )\r\n",
    "        n2_dtau_s = w_n2 * Hvs(t, t_n2) * ( (t_n2 - t) / tau_s**2 * np.exp( (t_n2 - t) / tau_s) )\r\n",
    "        n3_dtau_s = w_n3 * Hvs(t, t_n3) * ( (t_n3 - t) / tau_s**2 * np.exp( (t_n3 - t) / tau_s) )\r\n",
    "        sum1 = tau_m * (n1 + n2 + n3)\r\n",
    "        sum2 = tau_m * tau_s * (n1_dtau_s + n2_dtau_s + n3_dtau_s)\r\n",
    "        output = - (sum1 + sum2) / cm\r\n",
    "\r\n",
    "    return output"
   ]
  },
  {
   "cell_type": "code",
   "execution_count": 33,
   "metadata": {},
   "outputs": [],
   "source": [
    "# define neuron params\r\n",
    "# notes: \r\n",
    "# the 10^-9 of cm and w_i cancels out\r\n",
    "# the 10^-3 of the t's will lead to a result * 10-^3 (= mV)\r\n",
    "\r\n",
    "t_n1 = 1.\r\n",
    "w_n1 = 3.\r\n",
    "\r\n",
    "t_n2 = 5.\r\n",
    "w_n2 = -2.\r\n",
    "\r\n",
    "t_n3 = 3.\r\n",
    "w_n3 = 4.\r\n",
    "\r\n",
    "cm = 1.\r\n",
    "tau_m = 4."
   ]
  },
  {
   "cell_type": "code",
   "execution_count": 34,
   "metadata": {},
   "outputs": [],
   "source": [
    "# define sim params\r\n",
    "t1 = 4.\r\n",
    "t2 = 6.\r\n",
    "\r\n",
    "tau_s1 = 2.\r\n",
    "tau_s2 = 4."
   ]
  },
  {
   "cell_type": "code",
   "execution_count": 35,
   "metadata": {},
   "outputs": [
    {
     "name": "stdout",
     "output_type": "stream",
     "text": [
      "t =  4.0 ms, tau_s =  2.0 ms, u =  5.747158684851362 mV\n",
      "t =  4.0 ms, tau_s =  4.0 ms, u =  7.366502106954751 mV\n",
      "t =  6.0 ms, tau_s =  2.0 ms, u =  5.062658873446682 mV\n",
      "t =  6.0 ms, tau_s =  4.0 ms, u =  8.408369019652216 mV\n"
     ]
    }
   ],
   "source": [
    "# run sim\r\n",
    "u1 = lif_cuba(t1, tau_m, tau_s1, cm, t_n1, t_n2, t_n3, w_n1, w_n2, w_n3)\r\n",
    "u2 = lif_cuba(t1, tau_m, tau_s2, cm, t_n1, t_n2, t_n3, w_n1, w_n2, w_n3)\r\n",
    "u3 = lif_cuba(t2, tau_m, tau_s1, cm, t_n1, t_n2, t_n3, w_n1, w_n2, w_n3)\r\n",
    "u4 = lif_cuba(t2, tau_m, tau_s2, cm, t_n1, t_n2, t_n3, w_n1, w_n2, w_n3)\r\n",
    "\r\n",
    "print('t = ', t1, 'ms, tau_s = ', tau_s1, 'ms, u = ', u1, 'mV')\r\n",
    "print('t = ', t1, 'ms, tau_s = ', tau_s2, 'ms, u = ', u2, 'mV')\r\n",
    "print('t = ', t2, 'ms, tau_s = ', tau_s1, 'ms, u = ', u3, 'mV')\r\n",
    "print('t = ', t2, 'ms, tau_s = ', tau_s2, 'ms, u = ', u4, 'mV')"
   ]
  },
  {
   "cell_type": "code",
   "execution_count": 37,
   "metadata": {},
   "outputs": [
    {
     "data": {
      "text/plain": [
       "<matplotlib.legend.Legend at 0x17a8697e8e0>"
      ]
     },
     "execution_count": 37,
     "metadata": {},
     "output_type": "execute_result"
    },
    {
     "data": {
      "image/png": "[encoded data removed]",
      "text/plain": [
       "<Figure size 432x288 with 1 Axes>"
      ]
     },
     "metadata": {
      "needs_background": "light"
     },
     "output_type": "display_data"
    }
   ],
   "source": [
    "# plot it with curves (just for visualization purposes)\r\n",
    "t_p = np.linspace(0, 20, 1000)\r\n",
    "u1_p = np.zeros_like(t_p)\r\n",
    "u2_p = np.zeros_like(t_p)\r\n",
    "\r\n",
    "for i in range(t_p.size):\r\n",
    "    u1_p[i] = lif_cuba(t_p[i], tau_m, tau_s1, cm, t_n1, t_n2, t_n3, w_n1, w_n2, w_n3)\r\n",
    "    u2_p[i] = lif_cuba(t_p[i], tau_m, tau_s2, cm, t_n1, t_n2, t_n3, w_n1, w_n2, w_n3)\r\n",
    "\r\n",
    "plt.plot(t_p, u1_p, label='tau_s = 2 ms')\r\n",
    "plt.plot(t_p, u2_p, label='tau_s = 4 ms')\r\n",
    "plt.vlines(4, 0, 10, colors='m', linestyles='dashed', label='t = 4 ms')\r\n",
    "plt.vlines(6, 0, 10, colors='c', linestyles='dashed', label='t = 6 ms')\r\n",
    "plt.xlabel('t [ms]')\r\n",
    "plt.ylabel('u [mV]')\r\n",
    "plt.title('LIF CuBa u(t) for different tau_s')\r\n",
    "plt.legend()"
   ]
  }
 ],
 "metadata": {
  "interpreter": {
   "hash": "3bc222240ee64566890bacfc3cc06696002a2d0436df95d5ae0753f1a3789f4e"
  },
  "kernelspec": {
   "display_name": "Python 3",
   "language": "python",
   "name": "python3"
  },
  "language_info": {
   "codemirror_mode": {
    "name": "ipython",
    "version": 3
   },
   "file_extension": ".py",
   "mimetype": "text/x-python",
   "name": "python",
   "nbconvert_exporter": "python",
   "pygments_lexer": "ipython3",
   "version": "3.6.9"
  }
 },
 "nbformat": 4,
 "nbformat_minor": 4
}
