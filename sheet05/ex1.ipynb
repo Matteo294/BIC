{
 "cells": [
  {
   "cell_type": "code",
   "execution_count": 92,
   "id": "a3692b78",
   "metadata": {},
   "outputs": [],
   "source": [
    "import numpy as np\n",
    "import copy\n",
    "import matplotlib.pyplot as plt\n",
    "import nest\n",
    "nest.set_verbosity(\"M_ERROR\")\n",
    "%matplotlib inline"
   ]
  },
  {
   "cell_type": "markdown",
   "id": "68dd3260",
   "metadata": {},
   "source": [
    "We discussed the implementations below in the lecture. Each function is structured as follows:\n",
    "1. reset the NEST kernel\n",
    "2. (if applicable) Setup the spike sources\n",
    "3. Create the neuron(s)\n",
    "4. Connect the sources and neurons\n",
    "5. Run the simulation\n",
    "6. Read out and return the data\n",
    "\n",
    "For the exercises itself you should not need to adapt these functions. But do take a look at get_membrane and act_fct_neuron_inputrate and verify that you understand what happens where."
   ]
  },
  {
   "cell_type": "code",
   "execution_count": 93,
   "id": "48f1763c",
   "metadata": {},
   "outputs": [],
   "source": [
    "nparams={'C_m': 100., 'V_th':0., 'V_reset':-15., 'tau_m': 20., \n",
    "         'tau_syn_ex': 5., 'tau_syn_in': 5., 't_ref': 0.5, 'E_L': 0., \n",
    "         'V_m': -0.1}\n",
    "\n",
    "def get_membrane(rate=300., weight=0., bias=0., duration=1000., \n",
    "                 inputtype='regular', nparams=nparams):\n",
    "    \"\"\"Simulates a single LIF neuron under stimulus\n",
    "    \n",
    "    Input:\n",
    "        rate      float    rate of the input source in Hz\n",
    "        weight    float    weight of the synaptic connection \n",
    "                            between the source and the neuron\n",
    "        bias      float    value of the leak potential in mV\n",
    "        duration  float    length of the simulation to run in ms\n",
    "        inputtype str      selection of regular or Poisson \n",
    "                            spike trains (irregular)\n",
    "        nparams   dict     dictionary of the LIF parameters \n",
    "                            cf. https://nest-simulator.readthedocs.io/en/v3.1/models/iaf_psc_exp.html\n",
    "                            \n",
    "    Returns:\n",
    "        times      array   times corresponding to the values for \n",
    "                            membranes and currents\n",
    "        membranes  array   membrane values over time\n",
    "        currents   tuple   two arrays (excitatory and inhibitory) \n",
    "                            of the current values over time\n",
    "        spiketimes array   spiketimes where the membrane crossed \n",
    "                            the threshold\n",
    "    \"\"\"\n",
    "    # clean up NEST\n",
    "    nest.ResetKernel()\n",
    "\n",
    "    # create the spike source, if regular, generate the spike train \n",
    "    # manually otherwise use the build-in Poisson source\n",
    "    if inputtype == 'regular':\n",
    "        # rate is in Hz, spiketimes need to be in ms, and round to \n",
    "        # 1 decimal otherwise NEST complains\n",
    "        spkts = np.round(np.arange(0.1, duration, 1000./rate), 1)\n",
    "        spikegenerator = nest.Create(\"spike_generator\", \n",
    "                                     params={\"spike_times\": spkts, \n",
    "                                             \"precise_times\": False})\n",
    "    elif inputtype == 'irregular':\n",
    "        spikegenerator = nest.Create('poisson_generator')\n",
    "        nest.SetStatus(spikegenerator, {'rate': rate})\n",
    "    \n",
    "    # create the neuron, set the bias and measure spiketimes, membrane \n",
    "    # voltages and input currents\n",
    "    neuron = nest.Create('iaf_psc_exp', params=nparams)\n",
    "    nest.SetStatus(neuron, {'E_L': bias})\n",
    "    spikedetector = nest.Create(\"spike_recorder\")\n",
    "    multimeter = nest.Create(\"multimeter\", \n",
    "                             params={\"interval\": 0.1, \n",
    "                                     \"record_from\": [\"V_m\", \n",
    "                                                     'I_syn_ex', \n",
    "                                                     'I_syn_in']})\n",
    "    nest.Connect(neuron, spikedetector, 'one_to_one')\n",
    "    nest.Connect(multimeter, neuron, 'one_to_one')\n",
    "\n",
    "    # connect the spike source to the neuron\n",
    "    nest.Connect(spikegenerator, neuron, 'one_to_one', \n",
    "                 syn_spec={'weight': weight})\n",
    "\n",
    "    # run the actual simulation\n",
    "    nest.Simulate(duration)\n",
    "    \n",
    "    # retrieve the data\n",
    "    mdata = nest.GetStatus(multimeter, 'events')\n",
    "    times = mdata[0]['times']\n",
    "    membranes = mdata[0]['V_m']\n",
    "    currents = (mdata[0]['I_syn_ex'], mdata[0]['I_syn_in'])\n",
    "    spiketimes = np.array(nest.GetStatus(spikedetector, \"events\"))\n",
    "\n",
    "    return times, membranes, currents, spiketimes\n",
    "\n",
    "\n",
    "def act_fct_neuron_bias(b_min = -15., b_max = 50., nneurons = 100, \n",
    "                        duration=1000., nparams=nparams):\n",
    "    \"\"\"Measures the activation function of a neuron as a function\n",
    "    of its leak potential\n",
    "    \n",
    "    Input:\n",
    "        b_min     float    lowest leak potential measured [in mV]\n",
    "        b_max     float    highest leak potential measured [in mV]\n",
    "        nneurons  int      number of points to test\n",
    "        duration  float    length of the simulation to run in ms\n",
    "        nparams   dict     dictionary of the LIF parameters \n",
    "        \n",
    "    Returns:\n",
    "        weights      array    input weights measured\n",
    "        outputrates  array    corresponding output rates\n",
    "    \"\"\"\n",
    "    # clean up NEST\n",
    "    nest.ResetKernel()\n",
    "\n",
    "    biases = np.linspace(b_min, b_max, nneurons)\n",
    "    \n",
    "    # create the neurons, set the biases and measure spiketimes\n",
    "    neurons = nest.Create('iaf_psc_exp', nneurons, params=nparams)\n",
    "    nest.SetStatus(neurons, {'E_L': biases})\n",
    "    spikedetector = nest.Create(\"spike_recorder\", nneurons)\n",
    "    nest.Connect(neurons, spikedetector, 'one_to_one')\n",
    "\n",
    "    # run the actual simulation\n",
    "    nest.Simulate(duration)\n",
    "\n",
    "    # retrieve the data\n",
    "    outrates = np.array(nest.GetStatus(spikedetector, \"n_events\")) * 1000. / duration\n",
    "\n",
    "    return biases, outrates\n",
    "\n",
    "\n",
    "def act_fct_neuron_input(winfactor=1., w_min = 0., w_max = 10., rate = 0.0001,\n",
    "                         nneurons = 100, duration=1000., bias=0., \n",
    "                         inputtype='regular', nparams=nparams):\n",
    "    \"\"\"Measures the activation function of a neuron as a function\n",
    "    of its input strength for a fixed rate\n",
    "    \n",
    "    Input:\n",
    "        winfactor float    relative strength of the inhibitory input\n",
    "        w_min     float    lowest weight measured\n",
    "        w_max     float    highest weight measured\n",
    "        rate      float    firing rate of the spike source\n",
    "        nneurons  int      number of points to test\n",
    "        duration  float    length of the simulation to run in ms\n",
    "        bias      float    value of the leak potential in mV\n",
    "        inputtype str      \"regular\" for spike train with fixed ISI\n",
    "                           \"irregular\" for Poisson spike source\n",
    "        nparams   dict     dictionary of the LIF parameters \n",
    "        \n",
    "    Returns:\n",
    "        weights      array    input weights measured\n",
    "        outputrates  array    corresponding output rates\n",
    "    \"\"\"\n",
    "    # clean up NEST\n",
    "    nest.ResetKernel()\n",
    "\n",
    "    weights = np.linspace(w_min, w_max, nneurons)\n",
    "    \n",
    "    # create the spike sources, if regular, generate the spike train \n",
    "    # manually otherwise use the build-in Poisson source\n",
    "    if inputtype == 'regular':\n",
    "        spkts = np.round(np.arange(0.1, duration, 1000./rate), 1)\n",
    "        spikegenerators = nest.Create(\"spike_generator\", nneurons, \n",
    "                                      params={\"spike_times\": spkts, \n",
    "                                              \"precise_times\": False})\n",
    "        spikegeneratori = nest.Create(\"spike_generator\", nneurons, \n",
    "                                      params={\"spike_times\": spkts, \n",
    "                                              \"precise_times\": False})\n",
    "    elif inputtype == 'irregular':\n",
    "        spikegenerators = nest.Create('poisson_generator', nneurons)\n",
    "        spikegeneratori = nest.Create('poisson_generator', nneurons)\n",
    "        nest.SetStatus(spikegenerators, {'rate': rate})\n",
    "        nest.SetStatus(spikegeneratori, {'rate': rate})\n",
    "\n",
    "    # create the neurons, set the bias and measure spiketimes\n",
    "    neurons = nest.Create('iaf_psc_exp', nneurons, params=nparams)\n",
    "    nest.SetStatus(neurons, {'E_L': bias})\n",
    "    spikedetector = nest.Create(\"spike_recorder\", nneurons)\n",
    "    nest.Connect(neurons, spikedetector, 'one_to_one')\n",
    "\n",
    "    # wire up the network with the generated weights, discount the \n",
    "    # inhibitory one by winfactor\n",
    "    nest.Connect(spikegenerators, neurons, 'one_to_one', \n",
    "                 syn_spec={'weight': weights})\n",
    "    nest.Connect(spikegeneratori, neurons, 'one_to_one', \n",
    "                 syn_spec={'weight': -winfactor*weights})\n",
    "\n",
    "    nest.Simulate(duration)\n",
    "\n",
    "    outrates = np.array(nest.GetStatus(spikedetector, \"n_events\")) * 1000. / duration\n",
    "\n",
    "    return weights, outrates\n",
    "\n",
    "\n",
    "def act_fct_neuron_inputrate(weight=10., rate_min=100., rate_max=1000., \n",
    "                             nneurons = 100, duration=1000., bias=0., \n",
    "                             inputtype='regular', nparams=nparams):\n",
    "    \"\"\"Measures the activation function of a neuron as a function\n",
    "    of its input rate\n",
    "    \n",
    "    Input:\n",
    "        weight    float    weight of the synaptic connection \n",
    "        rate_min  float    lowest rate measured\n",
    "        rate_max  float    highest rate measured\n",
    "        nneurons  int      number of points to test\n",
    "        duration  float    length of the simulation to run in ms\n",
    "        bias      float    value of the leak potential in mV\n",
    "        inputtype str      \"regular\" for spike train with fixed ISI\n",
    "                           \"irregular\" for Poisson spike source\n",
    "        nparams   dict     dictionary of the LIF parameters \n",
    "        \n",
    "    Returns:\n",
    "        rates        array    input rates measured\n",
    "        outputrates  array    corresponding output rates\n",
    "    \"\"\"\n",
    "    # clean up NEST\n",
    "    nest.ResetKernel()\n",
    "\n",
    "    rates = np.linspace(rate_min, rate_max, nneurons)\n",
    "    \n",
    "    # create the spike source, if regular, generate the spike train \n",
    "    # manually otherwise use the build-in Poisson source    \n",
    "    if inputtype == 'regular':\n",
    "        spkts = []\n",
    "        spikegenerators = []\n",
    "        for rate in rates:\n",
    "            spkts.append(np.round(np.arange(0.1, duration, 1000./rate), 1))\n",
    "            spikegenerators.append(nest.Create(\"spike_generator\", 1, \n",
    "                                               params={\"spike_times\": spkts[-1], \n",
    "                                                       \"precise_times\": False}))\n",
    "    elif inputtype == 'irregular':\n",
    "        spikegenerators = nest.Create('poisson_generator', nneurons)\n",
    "        nest.SetStatus(spikegenerators, {'rate': rates})\n",
    "\n",
    "    # create the neurons, set the bias and measure spiketimes\n",
    "    neurons = nest.Create('iaf_psc_exp', nneurons, params=nparams)\n",
    "    nest.SetStatus(neurons, {'E_L': bias})\n",
    "    spikedetector = nest.Create(\"spike_recorder\", nneurons)\n",
    "    nest.Connect(neurons, spikedetector, 'one_to_one')\n",
    "    \n",
    "    # wire up the network with fixed weight\n",
    "    for i, source in enumerate(spikegenerators):\n",
    "        nest.Connect(source, neurons[i], 'one_to_one', \n",
    "                     syn_spec={'weight': weight})\n",
    "\n",
    "    # run the actual simulation\n",
    "    nest.Simulate(duration)\n",
    "\n",
    "    # retrieve the data\n",
    "    outrates = np.array(nest.GetStatus(spikedetector, \"n_events\")) * 1000. / duration\n",
    "\n",
    "    return rates, outrates"
   ]
  },
  {
   "cell_type": "markdown",
   "id": "2e8d0203",
   "metadata": {},
   "source": [
    "Show an example trace:"
   ]
  },
  {
   "cell_type": "code",
   "execution_count": 94,
   "id": "87d2e290",
   "metadata": {},
   "outputs": [
    {
     "data": {
      "text/plain": [
       "<matplotlib.legend.Legend at 0x7f86a02a2c40>"
      ]
     },
     "execution_count": 94,
     "metadata": {},
     "output_type": "execute_result"
    },
    {
     "data": {
      "image/png": "[encoded data removed]",
      "text/plain": [
       "<Figure size 432x288 with 1 Axes>"
      ]
     },
     "metadata": {
      "needs_background": "light"
     },
     "output_type": "display_data"
    }
   ],
   "source": [
    "t, v, i, s = get_membrane(rate=1000., bias=-5., weight=10., duration=40., inputtype='regular')\n",
    "gl = nparams['C_m'] / nparams['tau_m']\n",
    "plt.plot(t, v, label=r'$u$')\n",
    "plt.plot(t, i[0]/gl-5., label=r'$u_\\mathrm{eff}$')\n",
    "plt.legend()"
   ]
  },
  {
   "cell_type": "markdown",
   "id": "c697161a",
   "metadata": {},
   "source": [
    "For more efficient experiments you can use these interactive widgets to for the different functions"
   ]
  },
  {
   "cell_type": "code",
   "execution_count": 113,
   "id": "a175a6f1",
   "metadata": {},
   "outputs": [
    {
     "data": {
      "application/vnd.jupyter.widget-view+json": {
       "model_id": "2bf92b0a2bbe422d8265f7e64297d12f",
       "version_major": 2,
       "version_minor": 0
      },
      "text/plain": [
       "interactive(children=(FloatSlider(value=-5.0, description='bias', max=50.0, min=-15.0), FloatSlider(value=50.0…"
      ]
     },
     "metadata": {},
     "output_type": "display_data"
    }
   ],
   "source": [
    "from ipywidgets import interact, FloatSlider\n",
    "@interact(\n",
    "    bias=FloatSlider(min=-15, max=50, step=0.1, value=-5),\n",
    "    rate=FloatSlider(min=0, max=500, step=0.1, value=50),\n",
    "    weight=FloatSlider(min=0, max=300, step=0.1, value=10),\n",
    "    duration=FloatSlider(min=0, max=2000, step=1, value=300),\n",
    ")\n",
    "def experiment(bias, rate, weight, duration):\n",
    "    plt.figure()\n",
    "\n",
    "    t, v, i, s = get_membrane(rate=100., bias=-3., \n",
    "                              weight=30., duration=duration, \n",
    "                              inputtype='irregular')\n",
    "    plt.plot(t, v, '-', label=r'$u$')\n",
    "    plt.plot(t, i[0]/gl+bias, '-', label=r'$u_\\mathrm{eff}$')\n",
    "    if len(s[0][\"times\"]) > 0:\n",
    "        plt.plot(s[0][\"times\"], 4.*np.ones_like(s[0][\"times\"]), 'v', markersize=15)\n",
    "    plt.title(f'Number of output spikes: {len(s[0][\"times\"])}')\n",
    "    plt.ylabel(r\"Voltage [mV]\", fontsize=14)\n",
    "    plt.xlabel(\"Time [ms]\", fontsize=14)\n",
    "    plt.legend()\n",
    "    plt.savefig(\"figures/vout_w30.eps\")\n",
    "    plt.ylim(-10, 5)\n"
   ]
  },
  {
   "cell_type": "code",
   "execution_count": 96,
   "id": "dfa86b4d",
   "metadata": {},
   "outputs": [
    {
     "data": {
      "application/vnd.jupyter.widget-view+json": {
       "model_id": "34f92e8aadd348ef8c390cd3127c0f49",
       "version_major": 2,
       "version_minor": 0
      },
      "text/plain": [
       "interactive(children=(FloatSlider(value=-5.0, description='b_min', max=10.0, min=-15.0), FloatSlider(value=15.…"
      ]
     },
     "metadata": {},
     "output_type": "display_data"
    }
   ],
   "source": [
    "from ipywidgets import interact, FloatSlider\n",
    "@interact(\n",
    "    b_min=FloatSlider(min=-15, max=10, step=0.1, value=-5),\n",
    "    b_max=FloatSlider(min=0, max=50, step=0.1, value=15),\n",
    "    duration=FloatSlider(min=0, max=2000, step=1, value=100),\n",
    ")\n",
    "def experiment(b_min, b_max, duration):\n",
    "    plt.figure()\n",
    "    biases, outrates = act_fct_neuron_bias(b_min = b_min, b_max = b_max, nneurons = 100, duration=duration)\n",
    "    plt.plot(biases, outrates)\n",
    "    plt.xlabel(\"Bias\", fontsize=14)\n",
    "    plt.ylabel(\"Outrate\", fontsize=14)\n",
    "    plt.savefig(\"figures/outrate_\" + str(duration) + \"ms.eps\")\n",
    "    plt.show()"
   ]
  },
  {
   "cell_type": "code",
   "execution_count": 97,
   "id": "2f79fc76",
   "metadata": {},
   "outputs": [
    {
     "data": {
      "application/vnd.jupyter.widget-view+json": {
       "model_id": "61b1d96b2ded4bf689d95abafbcc9d19",
       "version_major": 2,
       "version_minor": 0
      },
      "text/plain": [
       "interactive(children=(FloatSlider(value=0.0, description='winfactor', max=1.0), FloatSlider(value=5.0, descrip…"
      ]
     },
     "metadata": {},
     "output_type": "display_data"
    }
   ],
   "source": [
    "@interact(\n",
    "    winfactor=FloatSlider(min=0, max=1, step=0.1, value=0.),\n",
    "    w_min=FloatSlider(min=0, max=100, step=0.1, value=5),\n",
    "    w_max=FloatSlider(min=15, max=100, step=0.1, value=15),\n",
    "    rate=FloatSlider(min=0, max=2000, step=0.1, value=1000),\n",
    "    bias=FloatSlider(min=-15, max=30, step=0.1, value=-5),\n",
    "    duration=FloatSlider(min=0, max=2000, step=1, value=100),\n",
    ")\n",
    "def experiment(winfactor, w_min, w_max, rate, bias, duration):\n",
    "    plt.figure()\n",
    "    weights, outrates = act_fct_neuron_input(winfactor=winfactor, w_min=w_min, w_max=w_max, \n",
    "                                             rate=rate, bias=bias, \n",
    "                                             duration=duration, inputtype='irregular')\n",
    "    plt.plot(weights, outrates)\n",
    "    plt.title(f'number of non-monotonicities: {np.sum(np.diff(outrates)<0.)}')\n",
    "    plt.ylim(0, None)\n",
    "    plt.show()"
   ]
  },
  {
   "cell_type": "code",
   "execution_count": 98,
   "id": "cd1e8002",
   "metadata": {},
   "outputs": [
    {
     "data": {
      "application/vnd.jupyter.widget-view+json": {
       "model_id": "6d898f2b3f734ccf8bc3925734a84460",
       "version_major": 2,
       "version_minor": 0
      },
      "text/plain": [
       "interactive(children=(FloatSlider(value=10.0, description='weight'), FloatSlider(value=500.0, description='rat…"
      ]
     },
     "metadata": {},
     "output_type": "display_data"
    }
   ],
   "source": [
    "@interact(\n",
    "    weight=FloatSlider(min=0, max=100, step=0.1, value=10),\n",
    "    rate_min=FloatSlider(min=5, max=600, step=0.1, value=500),\n",
    "    rate_max=FloatSlider(min=0, max=800, step=0.1, value=505),\n",
    "    bias=FloatSlider(min=-15, max=30, step=0.1, value=-5),\n",
    "\n",
    "    duration=FloatSlider(min=10, max=10000, step=1, value=1000.),\n",
    "\n",
    ")\n",
    "def experiment(weight, rate_min, rate_max, bias, duration):\n",
    "    # 10, 500, 505, -5\n",
    "    plt.figure()\n",
    "    weights, outrates = act_fct_neuron_inputrate(weight=weight, nneurons=100, \n",
    "                                                 rate_min=rate_min, rate_max=rate_max,\n",
    "                                                 duration=duration,\n",
    "                                                 bias=bias, inputtype='regular')\n",
    "    plt.plot(weights, outrates)\n",
    "    plt.title(f'number of non-monotonicities: {np.sum(np.diff(outrates)<0.)}')\n",
    "    plt.ylim(0, None)\n",
    "    plt.show()"
   ]
  },
  {
   "cell_type": "code",
   "execution_count": 99,
   "id": "323cd9eb",
   "metadata": {},
   "outputs": [
    {
     "data": {
      "application/vnd.jupyter.widget-view+json": {
       "model_id": "0c01318e87fd493dba37e5171fc9f486",
       "version_major": 2,
       "version_minor": 0
      },
      "text/plain": [
       "interactive(children=(FloatSlider(value=10.0, description='weight'), FloatSlider(value=10.0, description='rate…"
      ]
     },
     "metadata": {},
     "output_type": "display_data"
    }
   ],
   "source": [
    "@interact(\n",
    "    weight=FloatSlider(min=0, max=100, step=0.1, value=10),\n",
    "    rate_min=FloatSlider(min=0, max=600, step=0.1, value=10),\n",
    "    rate_max=FloatSlider(min=0, max=1200, step=0.1, value=505),\n",
    "    bias=FloatSlider(min=-15, max=30, step=0.1, value=-5),\n",
    "    duration=FloatSlider(min=200, max=5000, step=0.1, value=500),\n",
    ")\n",
    "def experiment(weight, rate_min, rate_max, bias, duration):\n",
    "    plt.figure()\n",
    "    weights, outrates = act_fct_neuron_inputrate(weight=weight, nneurons=100, \n",
    "                                                 rate_min=rate_min, rate_max=rate_max, \n",
    "                                                 bias=bias, inputtype='irregular', \n",
    "                                                 duration=duration)\n",
    "    plt.plot(weights, outrates)\n",
    "    plt.title(f'number of non-monotonicities: {np.sum(np.diff(outrates)<0.)}')\n",
    "    plt.ylim(0, None)\n",
    "    plt.show()"
   ]
  },
  {
   "cell_type": "code",
   "execution_count": null,
   "id": "cd529993",
   "metadata": {},
   "outputs": [],
   "source": []
  }
 ],
 "metadata": {
  "kernelspec": {
   "display_name": "EBRAINS_release_v0.1_202109",
   "language": "python",
   "name": "spack_python_kernel_release_20210930"
  },
  "language_info": {
   "codemirror_mode": {
    "name": "ipython",
    "version": 3
   },
   "file_extension": ".py",
   "mimetype": "text/x-python",
   "name": "python",
   "nbconvert_exporter": "python",
   "pygments_lexer": "ipython3",
   "version": "3.8.11"
  }
 },
 "nbformat": 4,
 "nbformat_minor": 5
}
