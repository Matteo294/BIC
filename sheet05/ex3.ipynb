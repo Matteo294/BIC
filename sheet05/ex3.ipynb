{
 "cells": [
  {
   "cell_type": "markdown",
   "metadata": {},
   "source": [
    "# Exercise 5.3\n",
    "# Alessandro Rizzi, Matteo Zortea & Marvin Wolff\n",
    "\n",
    "Tasks a) b) c) d) e) f)"
   ]
  },
  {
   "cell_type": "markdown",
   "metadata": {},
   "source": [
    "## a)\n",
    "We Begin by writing down the XOR truth table: \n",
    "$$x1 \\quad x2 \\quad out$$\n",
    "$$0 \\quad 0 \\quad 0$$\n",
    "$$1 \\quad 0 \\quad 1$$\n",
    "$$0 \\quad 1 \\quad 1$$\n",
    "$$1 \\quad 1 \\quad 0$$\n",
    "The XOR gate takes two binary inputs and returns a binary output. That means that the input is a vector of two elements. We can also see that the cases are limited to 4. Thus the training set is limited to a collection of 4 bisimensional vectors."
   ]
  },
  {
   "cell_type": "markdown",
   "metadata": {},
   "source": [
    "## b)\n",
    "If we don't want to change $E_l$, we can just add a unitary bias to the input vector, thus incrementing its shape to $n=3$."
   ]
  },
  {
   "cell_type": "markdown",
   "metadata": {},
   "source": [
    "## c)"
   ]
  },
  {
   "cell_type": "code",
   "execution_count": 1,
   "metadata": {},
   "outputs": [
    {
     "ename": "ModuleNotFoundError",
     "evalue": "No module named 'nest'",
     "output_type": "error",
     "traceback": [
      "\u001b[0;31m---------------------------------------------------------------------------\u001b[0m",
      "\u001b[0;31mModuleNotFoundError\u001b[0m                       Traceback (most recent call last)",
      "\u001b[0;32m/tmp/ipykernel_16789/927220192.py\u001b[0m in \u001b[0;36m<module>\u001b[0;34m\u001b[0m\n\u001b[1;32m      2\u001b[0m \u001b[0;32mimport\u001b[0m \u001b[0mmatplotlib\u001b[0m\u001b[0;34m.\u001b[0m\u001b[0mpyplot\u001b[0m \u001b[0;32mas\u001b[0m \u001b[0mplt\u001b[0m\u001b[0;34m\u001b[0m\u001b[0;34m\u001b[0m\u001b[0m\n\u001b[1;32m      3\u001b[0m \u001b[0;32mfrom\u001b[0m \u001b[0mpprint\u001b[0m \u001b[0;32mimport\u001b[0m \u001b[0mpprint\u001b[0m\u001b[0;34m\u001b[0m\u001b[0;34m\u001b[0m\u001b[0m\n\u001b[0;32m----> 4\u001b[0;31m \u001b[0;32mimport\u001b[0m \u001b[0mnest\u001b[0m\u001b[0;34m\u001b[0m\u001b[0;34m\u001b[0m\u001b[0m\n\u001b[0m\u001b[1;32m      5\u001b[0m \u001b[0mnest\u001b[0m\u001b[0;34m.\u001b[0m\u001b[0mset_verbosity\u001b[0m\u001b[0;34m(\u001b[0m\u001b[0;34m\"M_ERROR\"\u001b[0m\u001b[0;34m)\u001b[0m\u001b[0;34m\u001b[0m\u001b[0;34m\u001b[0m\u001b[0m\n\u001b[1;32m      6\u001b[0m \u001b[0mget_ipython\u001b[0m\u001b[0;34m(\u001b[0m\u001b[0;34m)\u001b[0m\u001b[0;34m.\u001b[0m\u001b[0mrun_line_magic\u001b[0m\u001b[0;34m(\u001b[0m\u001b[0;34m'matplotlib'\u001b[0m\u001b[0;34m,\u001b[0m \u001b[0;34m'inline'\u001b[0m\u001b[0;34m)\u001b[0m\u001b[0;34m\u001b[0m\u001b[0;34m\u001b[0m\u001b[0m\n",
      "\u001b[0;31mModuleNotFoundError\u001b[0m: No module named 'nest'"
     ]
    }
   ],
   "source": [
    "import numpy as np\n",
    "import matplotlib.pyplot as plt\n",
    "from pprint import pprint\n",
    "import nest\n",
    "nest.set_verbosity(\"M_ERROR\")\n",
    "%matplotlib inline"
   ]
  },
  {
   "cell_type": "markdown",
   "metadata": {},
   "source": [
    "Define neuron parameters and setup the dataset"
   ]
  },
  {
   "cell_type": "code",
   "execution_count": null,
   "metadata": {},
   "outputs": [],
   "source": [
    "nparams = {'V_th': 0., 'V_reset': -1., 'tau_m': 40., \n",
    "           'tau_syn_ex': 5., 'tau_syn_in': 5., \n",
    "           't_ref': 0.5, 'E_L': -1.}\n",
    "\n",
    "# define XOR data\n",
    "data_inp = np.zeros((4, 2))\n",
    "data_inp[1::2, 0] = 1\n",
    "data_inp[2:, 1] = 1\n",
    "data_cls = ((data_inp > 0.5).sum(axis=1) % 2) * 1\n",
    "data_inp = np.hstack([data_inp, np.ones((len(data_inp), 1))])\n",
    "print(data_inp)\n",
    "print(data_cls)"
   ]
  },
  {
   "cell_type": "code",
   "execution_count": null,
   "metadata": {},
   "outputs": [],
   "source": [
    "def run_feed_forward_network(inp, weights, maxrate=1000., \n",
    "                             duration=1000., nparams=nparams):\n",
    "    \"\"\"Execute a single feed forward network.\n",
    "    \n",
    "    Input:\n",
    "        inp      array           either a single input vector or an \n",
    "                                 array of input vectors\n",
    "        weights  list of arrays  list of the weight matrices between\n",
    "                                 the different layers\n",
    "        maxrate  float           rate of the spike sources that corresponds\n",
    "                                 to input =1\n",
    "        duration float           duration of the simulation per image\n",
    "        nparams  dict            neuron parameters\n",
    "\n",
    "    Output:\n",
    "        spike_rates  list        list of the the spike rate arrays per layer\n",
    "    \"\"\"\n",
    "    # Reset NEST\n",
    "    nest.ResetKernel()\n",
    "\n",
    "    # If only one input example is given: Put it into a \n",
    "    # (1, ninput) array so that the iteration gives only\n",
    "    # 1 run\n",
    "    if len(inp.shape) == 1:\n",
    "        inp = inp.reshape(1, -1)\n",
    "\n",
    "    # create spike sources\n",
    "    num_inp = weights[0].shape[1]\n",
    "    spikegenerators = nest.Create('poisson_generator', num_inp)\n",
    "\n",
    "    # generate all neuron layers by iterating over the list of weights\n",
    "    hiddens, spikedetectors = [], []\n",
    "    for i in range(len(weights)):\n",
    "        # create neurons for this layer and record their spikes\n",
    "        neurons = weights[i].shape[0]\n",
    "        hiddens.append(\n",
    "            nest.Create('iaf_psc_exp', neurons, params=nparams)\n",
    "        )\n",
    "        spikedetectors.append(\n",
    "            nest.Create('spike_recorder', neurons)\n",
    "        )\n",
    "        nest.Connect(hiddens[-1], spikedetectors[-1], 'one_to_one')\n",
    "\n",
    "        # in the first layer get input from the spikesources, else from\n",
    "        # the previous layer, which is the second to last in the hiddens\n",
    "        # array\n",
    "        if i == 0:\n",
    "            presyn = spikegenerators\n",
    "        else:\n",
    "            presyn = hiddens[-2]\n",
    "        # connect sources with appropriate weights\n",
    "        nest.Connect(presyn, hiddens[-1], syn_spec={'weight': weights[i]})\n",
    "\n",
    "    spike_rates = []\n",
    "    for inpimg in inp:\n",
    "        # set up simulation and equilibrate system\n",
    "        nest.SetStatus(spikegenerators, {'rate': inpimg * maxrate})\n",
    "        nest.Simulate(100.)\n",
    "        # Reset spike counters\n",
    "        for i in range(len(weights)):\n",
    "            spikedetectors[i].n_events = 0\n",
    "\n",
    "        # Do the actual simulation\n",
    "        nest.Simulate(duration)\n",
    "\n",
    "        # read out spikes\n",
    "        spike_rates.append([])\n",
    "        for i in range(len(weights)):\n",
    "            spike_rates[-1].append(\n",
    "                np.array(nest.GetStatus(spikedetectors[i], \"n_events\")) * 1000. / duration / maxrate\n",
    "            )\n",
    "\n",
    "    return spike_rates"
   ]
  },
  {
   "cell_type": "markdown",
   "metadata": {},
   "source": [
    "We consider a three layer network, similar to the one shown below (the interface will give you all-too-all connectivity). Note that all activities are rescaled to the inputrate which you can set via the `maxrate` parameter. Compare this to the membrane and synaptic time constants choosen above.\n",
    "\n",
    "![](xor_exercise.png)"
   ]
  },
  {
   "cell_type": "code",
   "execution_count": null,
   "metadata": {},
   "outputs": [],
   "source": [
    "def run_xor(W_IH = np.array([[1., 0., 0.], [0., 1., 0.], [1., 1., -1.],]) * 100.,\n",
    "            W_HL = np.array([[1, 1, -3],]) * 100.,\n",
    "            maxrate = 1000.,\n",
    "            duration = 1000.,\n",
    "            ):\n",
    "    \"\"\"Execute the XOR network\n",
    "    \n",
    "    Inputs:\n",
    "        W_IH     array   weight matrix from input to hidden layer\n",
    "        W_HL     array   weight matrix from hidden to output layer\n",
    "        maxrate  float   rate of the spike sources that corresponds\n",
    "                         to input =1\n",
    "    \"\"\"\n",
    "    fig, axes = plt.subplots(2, 1)\n",
    "    \n",
    "    # run the network for all inputs, defined above\n",
    "    # (for later tasks you may want to make this a parameter)\n",
    "    result = run_feed_forward_network(\n",
    "        data_inp,\n",
    "        [\n",
    "            W_IH,\n",
    "            W_HL,\n",
    "        ],\n",
    "        maxrate=maxrate,\n",
    "        nparams=nparams\n",
    "    )\n",
    "\n",
    "    # plot the activities of both hidden (axes[0]) and output (axes[1]) layers\n",
    "    # for the different points of the dataset (x-axis)\n",
    "    for i in range(len(data_inp)):\n",
    "        for j in range(len(result[i][0])):\n",
    "            axes[0].plot([i], result[i][0][j], c=f\"C{j}\", marker='o', markersize=10)\n",
    "\n",
    "        for j in range(len(result[i][1])):\n",
    "            axes[1].plot([i], result[i][1][j], c=f\"C{j}\", marker='o', markersize=10)\n",
    "        axes[1].plot(i, data_cls[i], c=\"black\", marker='x', markersize=10)\n",
    "\n",
    "    axes[0].set_title(\"hidden activities\")\n",
    "    axes[0].set_xticks(range(len(data_inp)))\n",
    "    axes[0].set_xticklabels([str(d) for d in data_inp])\n",
    "    axes[0].set_ylim(-0.05, 1.05)\n",
    "\n",
    "    axes[1].set_title(\"label activities\\n(black target, blue recorded rate/maxrate in SNN)\")\n",
    "    axes[1].set_xlabel(\"different inputs\")\n",
    "    axes[1].set_xticks(range(len(data_inp)))\n",
    "    axes[1].set_xticklabels([str(d) for d in data_inp])\n",
    "    axes[1].set_ylim(-0.05, 1.05)\n",
    "\n",
    "    fig.tight_layout()\n",
    "    print(\"result\")\n",
    "    pprint([res[0] for res in result])\n",
    "    pprint([res[1] for res in result])"
   ]
  },
  {
   "cell_type": "markdown",
   "metadata": {},
   "source": [
    "We now play a bit with the weigts scale to see how it affects the activities of the network:"
   ]
  },
  {
   "cell_type": "code",
   "execution_count": null,
   "metadata": {},
   "outputs": [],
   "source": [
    "weight_scale = 1.\n",
    "W_IH = weight_scale * np.array(\n",
    "    [[1, 1, 1], \n",
    "     [1, 1, 1], \n",
    "     [1, 1, 1],\n",
    "    ])\n",
    "W_HL = weight_scale * np.array([[1, 1, 1],])\n",
    "run_xor(W_IH, W_HL, maxrate=1000., duration=1000.)"
   ]
  },
  {
   "cell_type": "code",
   "execution_count": null,
   "metadata": {},
   "outputs": [],
   "source": [
    "weight_scale = 10.\n",
    "W_IH = weight_scale * np.array(\n",
    "    [[1, 1, 1], \n",
    "     [1, 1, 1], \n",
    "     [1, 1, 1],\n",
    "    ])\n",
    "W_HL = weight_scale * np.array([[1, 1, 1],])\n",
    "run_xor(W_IH, W_HL, maxrate=1000., duration=1000.)"
   ]
  },
  {
   "cell_type": "code",
   "execution_count": null,
   "metadata": {},
   "outputs": [],
   "source": [
    "weight_scale = 100.\n",
    "W_IH = weight_scale * np.array(\n",
    "    [[1, 1, 1], \n",
    "     [1, 1, 1], \n",
    "     [1, 1, 1],\n",
    "    ])\n",
    "W_HL = weight_scale * np.array([[1, 1, 1],])\n",
    "run_xor(W_IH, W_HL, maxrate=1000., duration=1000.)"
   ]
  },
  {
   "cell_type": "code",
   "execution_count": null,
   "metadata": {},
   "outputs": [],
   "source": [
    "weight_scale = 50.\n",
    "W_IH = weight_scale * np.array(\n",
    "    [[1, 1, 1], \n",
    "     [1, 1, 1], \n",
    "     [1, 1, 1],\n",
    "    ])\n",
    "W_HL = weight_scale * np.array([[1, 1, 1],])\n",
    "run_xor(W_IH, W_HL, maxrate=1000., duration=1000.)"
   ]
  },
  {
   "cell_type": "markdown",
   "metadata": {},
   "source": [
    "We can see that increasing the weights scale we also increase the magnitude both of the hidden layer and of the final output. If we set it to a too small value, all the outputs will be null, while if we set it to a too large value, the outputs will be all over the targets. Thus we have to choose a reasonable intermediate value, that has to be adjusted with respect to the maxrate and to the different weights sets."
   ]
  },
  {
   "cell_type": "markdown",
   "metadata": {},
   "source": [
    "## d)\n",
    "We will choose the simplest binarisation scheme for the output: 1 if the output $y$ is over a threshold $\\Theta$ and 0 if $y \\leq \\Theta$. In our case, we will set $\\Theta = 0.5$.\n",
    "We then try using the weights from the previous sheet, and, adjusting a bit the scale, we obtain a corret classification:"
   ]
  },
  {
   "cell_type": "code",
   "execution_count": null,
   "metadata": {},
   "outputs": [],
   "source": [
    "weight_scale = 150\n",
    "W_IH = weight_scale * np.array(\n",
    "    [[1, 0, 0], \n",
    "     [1, 1, -1], \n",
    "     [0, 1, 0],\n",
    "    ])\n",
    "W_HL = weight_scale * np.array([[1, -2, 1],])\n",
    "run_xor(W_IH, W_HL, maxrate=1000., duration=1000.)"
   ]
  },
  {
   "cell_type": "markdown",
   "metadata": {},
   "source": [
    "## e)\n",
    "\n",
    "### i) AND gate:"
   ]
  },
  {
   "cell_type": "code",
   "execution_count": null,
   "metadata": {},
   "outputs": [],
   "source": [
    "nparams = {'V_th': 0., 'V_reset': -1., 'tau_m': 40., \n",
    "           'tau_syn_ex': 5., 'tau_syn_in': 5., \n",
    "           't_ref': 0.5, 'E_L': -1.}\n",
    "\n",
    "# define AND data\n",
    "data_inp = np.zeros((4, 2))\n",
    "data_inp[1::2, 0] = 1\n",
    "data_inp[2:, 1] = 1\n",
    "data_cls = [0,0,0,1]\n",
    "data_inp = np.hstack([data_inp, np.ones((len(data_inp), 1))])\n",
    "print(data_inp)\n",
    "print(data_cls)"
   ]
  },
  {
   "cell_type": "code",
   "execution_count": null,
   "metadata": {},
   "outputs": [],
   "source": [
    "def run_and(W_IH = np.array([[1., 0., 0.], [0., 1., 0.], [1., 1., -1.],]) * 100.,\n",
    "            W_HL = np.array([[1, 1, -3],]) * 100.,\n",
    "            maxrate = 1000.,\n",
    "            duration = 1000.,\n",
    "            ):\n",
    "    \"\"\"Execute the AND network\n",
    "    \n",
    "    Inputs:\n",
    "        W_IH     array   weight matrix from input to hidden layer\n",
    "        W_HL     array   weight matrix from hidden to output layer\n",
    "        maxrate  float   rate of the spike sources that corresponds\n",
    "                         to input =1\n",
    "    \"\"\"\n",
    "    fig, axes = plt.subplots(2, 1)\n",
    "    \n",
    "    # run the network for all inputs, defined above\n",
    "    # (for later tasks you may want to make this a parameter)\n",
    "    result = run_feed_forward_network(\n",
    "        data_inp,\n",
    "        [\n",
    "            W_IH,\n",
    "            W_HL,\n",
    "        ],\n",
    "        maxrate=maxrate,\n",
    "        nparams=nparams\n",
    "    )\n",
    "\n",
    "    # plot the activities of both hidden (axes[0]) and output (axes[1]) layers\n",
    "    # for the different points of the dataset (x-axis)\n",
    "    for i in range(len(data_inp)):\n",
    "        for j in range(len(result[i][0])):\n",
    "            axes[0].plot([i], result[i][0][j], c=f\"C{j}\", marker='o', markersize=10)\n",
    "\n",
    "        for j in range(len(result[i][1])):\n",
    "            axes[1].plot([i], result[i][1][j], c=f\"C{j}\", marker='o', markersize=10)\n",
    "        axes[1].plot(i, data_cls[i], c=\"black\", marker='x', markersize=10)\n",
    "\n",
    "    axes[0].set_title(\"hidden activities\")\n",
    "    axes[0].set_xticks(range(len(data_inp)))\n",
    "    axes[0].set_xticklabels([str(d) for d in data_inp])\n",
    "    axes[0].set_ylim(-0.05, 1.05)\n",
    "\n",
    "    axes[1].set_title(\"label activities\\n(black target, blue recorded rate/maxrate in SNN)\")\n",
    "    axes[1].set_xlabel(\"different inputs\")\n",
    "    axes[1].set_xticks(range(len(data_inp)))\n",
    "    axes[1].set_xticklabels([str(d) for d in data_inp])\n",
    "    axes[1].set_ylim(-0.05, 1.05)\n",
    "\n",
    "    fig.tight_layout()\n",
    "    print(\"result\")\n",
    "    pprint([res[0] for res in result])\n",
    "    pprint([res[1] for res in result])"
   ]
  },
  {
   "cell_type": "code",
   "execution_count": null,
   "metadata": {},
   "outputs": [],
   "source": [
    "weight_scale = 150\n",
    "W_IH = weight_scale * np.array(\n",
    "    [[1, 1, -1.5], \n",
    "     [0, 0, -0], \n",
    "     [0, 0, 0],\n",
    "    ])\n",
    "W_HL = weight_scale * np.array([[1, -2, 1],])\n",
    "run_and(W_IH, W_HL, maxrate=1000., duration=1000.)"
   ]
  },
  {
   "cell_type": "markdown",
   "metadata": {},
   "source": [
    "### ii) OR gate:"
   ]
  },
  {
   "cell_type": "code",
   "execution_count": null,
   "metadata": {},
   "outputs": [],
   "source": [
    "nparams = {'V_th': 0., 'V_reset': -1., 'tau_m': 40., \n",
    "           'tau_syn_ex': 5., 'tau_syn_in': 5., \n",
    "           't_ref': 0.5, 'E_L': -1.}\n",
    "\n",
    "# define OR data\n",
    "data_inp = np.zeros((4, 2))\n",
    "data_inp[1::2, 0] = 1\n",
    "data_inp[2:, 1] = 1\n",
    "data_cls = [0,1,1,1]\n",
    "data_inp = np.hstack([data_inp, np.ones((len(data_inp), 1))])\n",
    "print(data_inp)\n",
    "print(data_cls)"
   ]
  },
  {
   "cell_type": "code",
   "execution_count": null,
   "metadata": {},
   "outputs": [],
   "source": [
    "def run_or(W_IH = np.array([[1., 0., 0.], [0., 1., 0.], [1., 1., -1.],]) * 100.,\n",
    "            W_HL = np.array([[1, 1, -3],]) * 100.,\n",
    "            maxrate = 1000.,\n",
    "            duration = 1000.,\n",
    "            ):\n",
    "    \"\"\"Execute the OR network\n",
    "    \n",
    "    Inputs:\n",
    "        W_IH     array   weight matrix from input to hidden layer\n",
    "        W_HL     array   weight matrix from hidden to output layer\n",
    "        maxrate  float   rate of the spike sources that corresponds\n",
    "                         to input =1\n",
    "    \"\"\"\n",
    "    fig, axes = plt.subplots(2, 1)\n",
    "    \n",
    "    # run the network for all inputs, defined above\n",
    "    # (for later tasks you may want to make this a parameter)\n",
    "    result = run_feed_forward_network(\n",
    "        data_inp,\n",
    "        [\n",
    "            W_IH,\n",
    "            W_HL,\n",
    "        ],\n",
    "        maxrate=maxrate,\n",
    "        nparams=nparams\n",
    "    )\n",
    "\n",
    "    # plot the activities of both hidden (axes[0]) and output (axes[1]) layers\n",
    "    # for the different points of the dataset (x-axis)\n",
    "    for i in range(len(data_inp)):\n",
    "        for j in range(len(result[i][0])):\n",
    "            axes[0].plot([i], result[i][0][j], c=f\"C{j}\", marker='o', markersize=10)\n",
    "\n",
    "        for j in range(len(result[i][1])):\n",
    "            axes[1].plot([i], result[i][1][j], c=f\"C{j}\", marker='o', markersize=10)\n",
    "        axes[1].plot(i, data_cls[i], c=\"black\", marker='x', markersize=10)\n",
    "\n",
    "    axes[0].set_title(\"hidden activities\")\n",
    "    axes[0].set_xticks(range(len(data_inp)))\n",
    "    axes[0].set_xticklabels([str(d) for d in data_inp])\n",
    "    axes[0].set_ylim(-0.05, 1.05)\n",
    "\n",
    "    axes[1].set_title(\"label activities\\n(black target, blue recorded rate/maxrate in SNN)\")\n",
    "    axes[1].set_xlabel(\"different inputs\")\n",
    "    axes[1].set_xticks(range(len(data_inp)))\n",
    "    axes[1].set_xticklabels([str(d) for d in data_inp])\n",
    "    axes[1].set_ylim(-0.05, 1.05)\n",
    "\n",
    "    fig.tight_layout()\n",
    "    print(\"result\")\n",
    "    pprint([res[0] for res in result])\n",
    "    pprint([res[1] for res in result])"
   ]
  },
  {
   "cell_type": "code",
   "execution_count": null,
   "metadata": {},
   "outputs": [],
   "source": [
    "weight_scale = 100\n",
    "W_IH = weight_scale * np.array(\n",
    "    [[1, 1, 0], \n",
    "     [0, 0, 0], \n",
    "     [0, 0, 0],\n",
    "    ])\n",
    "W_HL = weight_scale * np.array([[1, -2, 1],])\n",
    "run_or(W_IH, W_HL, maxrate=1000., duration=1000.)"
   ]
  },
  {
   "cell_type": "markdown",
   "metadata": {},
   "source": [
    "### iii) NOT gate:\n",
    "Differently from the previous tasks, here we deal with a monodimensional input:"
   ]
  },
  {
   "cell_type": "code",
   "execution_count": null,
   "metadata": {},
   "outputs": [],
   "source": [
    "nparams = {'V_th': 0., 'V_reset': -1., 'tau_m': 40., \n",
    "           'tau_syn_ex': 5., 'tau_syn_in': 5., \n",
    "           't_ref': 0.5, 'E_L': -1.}\n",
    "\n",
    "# define XOR data\n",
    "data_inp = np.zeros((2, 1))\n",
    "data_inp = [[0], [1]]\n",
    "data_cls = [1, 0]\n",
    "data_inp = np.hstack([data_inp, np.ones((len(data_inp), 1))])\n",
    "print(data_inp)\n",
    "print(data_cls)"
   ]
  },
  {
   "cell_type": "code",
   "execution_count": null,
   "metadata": {},
   "outputs": [],
   "source": [
    "def run_not(W_IH = np.array([[1., 0., 0.], [0., 1., 0.], [1., 1., -1.],]) * 100.,\n",
    "            W_HL = np.array([[1, 1, -3],]) * 100.,\n",
    "            maxrate = 1000.,\n",
    "            duration = 1000.,\n",
    "            ):\n",
    "    \"\"\"Execute the NOT network\n",
    "    \n",
    "    Inputs:\n",
    "        W_IH     array   weight matrix from input to hidden layer\n",
    "        W_HL     array   weight matrix from hidden to output layer\n",
    "        maxrate  float   rate of the spike sources that corresponds\n",
    "                         to input =1\n",
    "    \"\"\"\n",
    "    fig, axes = plt.subplots(2, 1)\n",
    "    \n",
    "    # run the network for all inputs, defined above\n",
    "    # (for later tasks you may want to make this a parameter)\n",
    "    result = run_feed_forward_network(\n",
    "        data_inp,\n",
    "        [\n",
    "            W_IH,\n",
    "            W_HL,\n",
    "        ],\n",
    "        maxrate=maxrate,\n",
    "        nparams=nparams\n",
    "    )\n",
    "\n",
    "    # plot the activities of both hidden (axes[0]) and output (axes[1]) layers\n",
    "    # for the different points of the dataset (x-axis)\n",
    "    for i in range(len(data_inp)):\n",
    "        for j in range(len(result[i][0])):\n",
    "            axes[0].plot([i], result[i][0][j], c=f\"C{j}\", marker='o', markersize=10)\n",
    "\n",
    "        for j in range(len(result[i][1])):\n",
    "            axes[1].plot([i], result[i][1][j], c=f\"C{j}\", marker='o', markersize=10)\n",
    "        axes[1].plot(i, data_cls[i], c=\"black\", marker='x', markersize=10)\n",
    "\n",
    "    axes[0].set_title(\"hidden activities\")\n",
    "    axes[0].set_xticks(range(len(data_inp)))\n",
    "    axes[0].set_xticklabels([str(d) for d in data_inp])\n",
    "    axes[0].set_ylim(-0.05, 1.05)\n",
    "\n",
    "    axes[1].set_title(\"label activities\\n(black target, blue recorded rate/maxrate in SNN)\")\n",
    "    axes[1].set_xlabel(\"different inputs\")\n",
    "    axes[1].set_xticks(range(len(data_inp)))\n",
    "    axes[1].set_xticklabels([str(d) for d in data_inp])\n",
    "    axes[1].set_ylim(-0.05, 1.05)\n",
    "\n",
    "    fig.tight_layout()\n",
    "    print(\"result\")\n",
    "    pprint([res[0] for res in result])\n",
    "    pprint([res[1] for res in result])"
   ]
  },
  {
   "cell_type": "code",
   "execution_count": null,
   "metadata": {},
   "outputs": [],
   "source": [
    "weight_scale = 100\n",
    "W_IH = weight_scale * np.array(\n",
    "    [[-1.5, 1]])\n",
    "W_HL = weight_scale * np.array([[1],])\n",
    "run_not(W_IH, W_HL, maxrate=1000., duration=1000.)"
   ]
  },
  {
   "cell_type": "markdown",
   "metadata": {},
   "source": [
    "## f)\n",
    "We just have to pass X1 and X2 to our trained XOR gate, and X3 and X4 to the AND gate. Then we pass the two outputs to the OR gate. If evry gate is trained separately, the training is stable. "
   ]
  },
  {
   "cell_type": "code",
   "execution_count": null,
   "metadata": {},
   "outputs": [],
   "source": []
  }
 ],
 "metadata": {
  "kernelspec": {
   "display_name": "Python 3 (ipykernel)",
   "language": "python",
   "name": "python3"
  },
  "language_info": {
   "codemirror_mode": {
    "name": "ipython",
    "version": 3
   },
   "file_extension": ".py",
   "mimetype": "text/x-python",
   "name": "python",
   "nbconvert_exporter": "python",
   "pygments_lexer": "ipython3",
   "version": "3.8.10"
  }
 },
 "nbformat": 4,
 "nbformat_minor": 5
}
